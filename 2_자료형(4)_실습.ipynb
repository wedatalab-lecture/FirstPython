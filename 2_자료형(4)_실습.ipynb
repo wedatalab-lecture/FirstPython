{
  "nbformat": 4,
  "nbformat_minor": 0,
  "metadata": {
    "colab": {
      "private_outputs": true,
      "provenance": [],
      "toc_visible": true,
      "collapsed_sections": [
        "hJ9aOafQPHtb",
        "TaJSVJ50Pr2N"
      ],
      "authorship_tag": "ABX9TyMxgNhYMmoOdAJIU67ZfzvQ",
      "include_colab_link": true
    },
    "kernelspec": {
      "name": "python3",
      "display_name": "Python 3"
    },
    "language_info": {
      "name": "python"
    }
  },
  "cells": [
    {
      "cell_type": "markdown",
      "metadata": {
        "id": "view-in-github",
        "colab_type": "text"
      },
      "source": [
        "<a href=\"https://colab.research.google.com/github/wedatalab-lecture/FirstPython/blob/main/2_%EC%9E%90%EB%A3%8C%ED%98%95(4)_%EC%8B%A4%EC%8A%B5.ipynb\" target=\"_parent\"><img src=\"https://colab.research.google.com/assets/colab-badge.svg\" alt=\"Open In Colab\"/></a>"
      ]
    },
    {
      "cell_type": "markdown",
      "source": [
        "#2.자료형 (4)\n",
        "\n",
        "- 리스트\n",
        "- 튜플\n",
        "- 딕셔너리\n",
        "- 집합\n",
        "\n",
        "\n",
        "```\n",
        "교재 : \"비전공자를 위한 처음 만나는 파이썬\"(권건우 외 7명 저)\n",
        "\n",
        "p.78~87\n",
        "\n",
        "Ⅲ.자료형\n",
        "    5.자료형의 종류\n",
        "        4)리스트\n",
        "        5)튜플\n",
        "        6)딕셔너리\n",
        "        7)집합\n",
        "```\n",
        "\n"
      ],
      "metadata": {
        "id": "NRXnQ8_230vF"
      }
    },
    {
      "cell_type": "markdown",
      "source": [
        "##**리스트(List)**\n",
        "\n",
        "- 여러 종류의 자료형을 혼합할 수 있는 자료 구조\n",
        "\n",
        "- 리스트 안에 저장된 각 값을 요소(element)라고 한다.\n",
        "\n",
        "- 순서가 있는 연속자료형으로, 인덱싱/슬라이싱을 통해 요소에 접근할 수 있다.\n",
        "\n",
        "- 문자열, 튜플과 달리 인덱싱으로 요소값을 직접 수정할 수 있다.\n"
      ],
      "metadata": {
        "id": "n_O1kdawfccn"
      }
    },
    {
      "cell_type": "code",
      "source": [
        "#list 생성\n"
      ],
      "metadata": {
        "id": "tIEqnys4CkHN"
      },
      "execution_count": null,
      "outputs": []
    },
    {
      "cell_type": "code",
      "source": [
        "#p78\n",
        "numbers = [1,2,3,4,5]\n",
        "type(numbers)"
      ],
      "metadata": {
        "id": "GjNDOUQg6P3r"
      },
      "execution_count": null,
      "outputs": []
    },
    {
      "cell_type": "code",
      "source": [
        "len(numbers)  # 리스트 길이"
      ],
      "metadata": {
        "id": "lfvXuJY1JrbU"
      },
      "execution_count": null,
      "outputs": []
    },
    {
      "cell_type": "code",
      "source": [
        "alpha = [] # 빈 리스트 생성\n",
        "alpha = list('abcde') #문자열을 요소로 하는 리스트\n",
        "alpha"
      ],
      "metadata": {
        "id": "U6-MNNhb6Pzl"
      },
      "execution_count": null,
      "outputs": []
    },
    {
      "cell_type": "code",
      "source": [
        "#list(\"iterable\")\n"
      ],
      "metadata": {
        "id": "1i8gIgmJGE0N"
      },
      "execution_count": null,
      "outputs": []
    },
    {
      "cell_type": "code",
      "source": [
        "# 리스트 안 여러 자료형 담기\n",
        "b = [1,2,3]\n",
        "b"
      ],
      "metadata": {
        "id": "-M9fd3bX6PwT"
      },
      "execution_count": null,
      "outputs": []
    },
    {
      "cell_type": "code",
      "source": [
        "c = [1, 3, \"banana\", \"melon\"]\n",
        "c"
      ],
      "metadata": {
        "id": "MSXfwVy3Js5N"
      },
      "execution_count": null,
      "outputs": []
    },
    {
      "cell_type": "markdown",
      "source": [
        "**리스트 인덱싱/슬라이싱**"
      ],
      "metadata": {
        "id": "Sh_acOrZGbJB"
      }
    },
    {
      "cell_type": "code",
      "source": [
        "#p79\n",
        "numbers = [1,2,3,4,5]\n",
        "numbers[0]"
      ],
      "metadata": {
        "id": "GatI_5hU6PsO"
      },
      "execution_count": null,
      "outputs": []
    },
    {
      "cell_type": "code",
      "source": [
        "# 마지막 요소 가져오기\n",
        "\n"
      ],
      "metadata": {
        "id": "DY3YXCamHFI-"
      },
      "execution_count": null,
      "outputs": []
    },
    {
      "cell_type": "code",
      "source": [
        "# 슬라이싱\n"
      ],
      "metadata": {
        "id": "a0UqmzMtHQUj"
      },
      "execution_count": null,
      "outputs": []
    },
    {
      "cell_type": "code",
      "source": [
        "# 처음부터 끝까지\n"
      ],
      "metadata": {
        "id": "7W75a4XeHTQx"
      },
      "execution_count": null,
      "outputs": []
    },
    {
      "cell_type": "code",
      "source": [
        "# 홀수만 가져오기\n"
      ],
      "metadata": {
        "id": "ycyM0hzWHVl8"
      },
      "execution_count": null,
      "outputs": []
    },
    {
      "cell_type": "code",
      "source": [
        "# p79\n",
        "# item assingment\n",
        "numbers[0] = 7\n",
        "numbers"
      ],
      "metadata": {
        "id": "m7U0n_AXJ_fT"
      },
      "execution_count": null,
      "outputs": []
    },
    {
      "cell_type": "markdown",
      "source": [
        "**리스트 메서드**\n",
        "\n",
        "* .append()\n",
        "* .insert()\n",
        "* .remove()\n",
        "* .reverse()\n",
        "* .sort()"
      ],
      "metadata": {
        "id": "wX6H_J07HdXo"
      }
    },
    {
      "cell_type": "code",
      "source": [
        "# p79\n",
        "# 데이터 추가\n",
        "n = [0,1,2,3,4,5]\n",
        "n.append(6)\n",
        "print(n)"
      ],
      "metadata": {
        "id": "WnSTVWWV6Pot"
      },
      "execution_count": null,
      "outputs": []
    },
    {
      "cell_type": "code",
      "source": [
        "T = []\n",
        "T.append(10)\n",
        "T"
      ],
      "metadata": {
        "id": "3SvpCp-vKBj6"
      },
      "execution_count": null,
      "outputs": []
    },
    {
      "cell_type": "code",
      "source": [
        "T.append(20)\n",
        "print(T)"
      ],
      "metadata": {
        "id": "P_P6hTamxNZ7"
      },
      "execution_count": null,
      "outputs": []
    },
    {
      "cell_type": "code",
      "source": [
        "# 데이터 삽입\n",
        "n = [0,1,2,3,4,5]\n",
        "n.insert(3,6)  #insert(index, 넣을 값)\n",
        "print(n)"
      ],
      "metadata": {
        "id": "UQdnbUq5KBFE"
      },
      "execution_count": null,
      "outputs": []
    },
    {
      "cell_type": "code",
      "source": [
        "# 3번째 자리에 \"hi\"\n"
      ],
      "metadata": {
        "id": "__2tCEQPKA5F"
      },
      "execution_count": null,
      "outputs": []
    },
    {
      "cell_type": "code",
      "source": [
        "#p80\n",
        "#요소 삭제\n",
        "n = [1,2,3,4,5]\n",
        "n.remove(3)\n",
        "print(n)"
      ],
      "metadata": {
        "id": "rYCL_Mhv6PkY"
      },
      "execution_count": null,
      "outputs": []
    },
    {
      "cell_type": "code",
      "source": [
        "n = [1,2,3,4,5]\n",
        "n"
      ],
      "metadata": {
        "id": "w8rzUjyAyXCS"
      },
      "execution_count": null,
      "outputs": []
    },
    {
      "cell_type": "code",
      "source": [
        "#해당 인덱스 요소 삭제\n",
        "n.pop(2)\n",
        "print(n)"
      ],
      "metadata": {
        "id": "xBSEFZ0PK2w_"
      },
      "execution_count": null,
      "outputs": []
    },
    {
      "cell_type": "code",
      "source": [
        "n"
      ],
      "metadata": {
        "id": "ev1LlWDEye-_"
      },
      "execution_count": null,
      "outputs": []
    },
    {
      "cell_type": "code",
      "source": [
        "#마지막 요소 삭제\n",
        "n.pop()\n",
        "print(n)"
      ],
      "metadata": {
        "id": "0wXAW9GdK26i"
      },
      "execution_count": null,
      "outputs": []
    },
    {
      "cell_type": "code",
      "source": [
        "#del 명령어\n"
      ],
      "metadata": {
        "id": "Um-i2EG4Ii3J"
      },
      "execution_count": null,
      "outputs": []
    },
    {
      "cell_type": "code",
      "source": [
        "#모든 요소 삭제\n",
        "n.clear()\n",
        "print(n)"
      ],
      "metadata": {
        "id": "8-TrEwwLK2Ph"
      },
      "execution_count": null,
      "outputs": []
    },
    {
      "cell_type": "code",
      "source": [
        "#요소 순서 뒤집기\n",
        "n = [0,1,2,3,4,5]\n",
        "n.reverse()\n",
        "print(n)"
      ],
      "metadata": {
        "id": "Ydvfa_YF6Pgc"
      },
      "execution_count": null,
      "outputs": []
    },
    {
      "cell_type": "code",
      "source": [
        "n = [2,1,5,3]\n",
        "n"
      ],
      "metadata": {
        "id": "YmV3B5vXy-kg"
      },
      "execution_count": null,
      "outputs": []
    },
    {
      "cell_type": "code",
      "source": [
        "#요소 값 정렬 : 기본 오름차순\n",
        "n.sort()\n",
        "print(n)"
      ],
      "metadata": {
        "id": "XAxCYPZDLECR"
      },
      "execution_count": null,
      "outputs": []
    },
    {
      "cell_type": "code",
      "source": [
        "# 내림차순으로 정렬하려면?\n"
      ],
      "metadata": {
        "id": "jDM7bTeqI-a9"
      },
      "execution_count": null,
      "outputs": []
    },
    {
      "cell_type": "code",
      "source": [],
      "metadata": {
        "id": "YCRB9np6zQ2t"
      },
      "execution_count": null,
      "outputs": []
    },
    {
      "cell_type": "code",
      "source": [
        "a = list('acbde')\n",
        "a"
      ],
      "metadata": {
        "id": "vaJdxk-Z6Pcd"
      },
      "execution_count": null,
      "outputs": []
    },
    {
      "cell_type": "code",
      "source": [
        "#reverse\n"
      ],
      "metadata": {
        "id": "lrJjbWV7zTPV"
      },
      "execution_count": null,
      "outputs": []
    },
    {
      "cell_type": "code",
      "source": [
        "#sort\n"
      ],
      "metadata": {
        "id": "8are_FmlLE0c"
      },
      "execution_count": null,
      "outputs": []
    },
    {
      "cell_type": "code",
      "source": [
        "#내림차순 sort\n"
      ],
      "metadata": {
        "id": "xCuuQeV8z01z"
      },
      "execution_count": null,
      "outputs": []
    },
    {
      "cell_type": "code",
      "source": [
        "#이외의 메소드\n",
        "#dir() : 객체가 가지고 있는 변수와 메서드를 보여준다\n"
      ],
      "metadata": {
        "id": "V6-qnmcRJ8Yt"
      },
      "execution_count": null,
      "outputs": []
    },
    {
      "cell_type": "markdown",
      "source": [
        "##**튜플(Tuple)**\n",
        "- 한번 저장되면 안의 요소를 변경,추가,삭제할 수 없다.\n",
        "- 리스트는 대괄호 [ ] 사용, 튜플은 소괄호( )를 사용한다."
      ],
      "metadata": {
        "id": "-nrIUyAaNsEG"
      }
    },
    {
      "cell_type": "code",
      "source": [
        "#tuple 생성\n"
      ],
      "metadata": {
        "id": "gKVEUhFDLda5"
      },
      "execution_count": null,
      "outputs": []
    },
    {
      "cell_type": "code",
      "source": [
        "# type, len, 인덱싱/슬라이싱\n"
      ],
      "metadata": {
        "id": "mlhHJBMzL522"
      },
      "execution_count": null,
      "outputs": []
    },
    {
      "cell_type": "code",
      "source": [
        "#p81\n",
        "names =(\"Kim\", \"Lee\", \"Dong\")\n",
        "names"
      ],
      "metadata": {
        "id": "KMGQvCI56PYJ"
      },
      "execution_count": null,
      "outputs": []
    },
    {
      "cell_type": "code",
      "source": [
        "type(names)"
      ],
      "metadata": {
        "id": "u3NR6AzfLhRL"
      },
      "execution_count": null,
      "outputs": []
    },
    {
      "cell_type": "code",
      "source": [
        "len(names)"
      ],
      "metadata": {
        "id": "KmERW7DCLhJO"
      },
      "execution_count": null,
      "outputs": []
    },
    {
      "cell_type": "code",
      "source": [
        "names[0] = \"bts\""
      ],
      "metadata": {
        "id": "e94vZ2dzLg3v"
      },
      "execution_count": null,
      "outputs": []
    },
    {
      "cell_type": "markdown",
      "source": [
        "**데이터 수정하기**"
      ],
      "metadata": {
        "id": "5gO8NUHoMXCz"
      }
    },
    {
      "cell_type": "code",
      "source": [
        "#p82\n",
        "names = (\"Kim\", \"Lee\", \"Dong\")\n",
        "# 리스트로 변환\n",
        "\n",
        "names"
      ],
      "metadata": {
        "id": "V9Sh8ChQ6PUi"
      },
      "execution_count": null,
      "outputs": []
    },
    {
      "cell_type": "code",
      "source": [
        "# 요소 변경\n"
      ],
      "metadata": {
        "id": "patecxybLdDH"
      },
      "execution_count": null,
      "outputs": []
    },
    {
      "cell_type": "code",
      "source": [
        "# 튜플로 다시 변환\n"
      ],
      "metadata": {
        "id": "xq91KwkiLcjZ"
      },
      "execution_count": null,
      "outputs": []
    },
    {
      "cell_type": "markdown",
      "source": [
        "**중복 제거하기**"
      ],
      "metadata": {
        "id": "iAxOUoUtMbvB"
      }
    },
    {
      "cell_type": "code",
      "source": [
        "a = (\"Kim\",\"Lee\",\"Choi\",\"Lee\")\n",
        "a"
      ],
      "metadata": {
        "id": "I0Oqp3_f6PRf"
      },
      "execution_count": null,
      "outputs": []
    },
    {
      "cell_type": "code",
      "source": [
        "a = set(a) # 집합으로 변환\n",
        "a"
      ],
      "metadata": {
        "id": "TZKamvmvL5Hv"
      },
      "execution_count": null,
      "outputs": []
    },
    {
      "cell_type": "code",
      "source": [
        "a = tuple(a) # 튜플로 다시 변환\n",
        "a"
      ],
      "metadata": {
        "id": "Rk8hEdp_LcJr"
      },
      "execution_count": null,
      "outputs": []
    },
    {
      "cell_type": "markdown",
      "source": [
        "**튜플 합치기와 일부 가져오기**"
      ],
      "metadata": {
        "id": "GLWB3FqUNq1I"
      }
    },
    {
      "cell_type": "code",
      "source": [
        "\n",
        "first_tuple = (1, 2)\n",
        "second_tuple = (3, 4)\n",
        "third_tuple = first_tuple + second_tuple\n",
        "third_tuple\n",
        "\n"
      ],
      "metadata": {
        "id": "Qc3Rqa0R6PNn"
      },
      "execution_count": null,
      "outputs": []
    },
    {
      "cell_type": "code",
      "source": [
        "third_tuple[0]\n"
      ],
      "metadata": {
        "id": "5b21aEQHL6RR"
      },
      "execution_count": null,
      "outputs": []
    },
    {
      "cell_type": "code",
      "source": [
        "third_tuple[1:3]"
      ],
      "metadata": {
        "id": "C2e8wCkrL6EG"
      },
      "execution_count": null,
      "outputs": []
    },
    {
      "cell_type": "markdown",
      "source": [
        "**하나의 숫자 값으로 이루어진 튜플**"
      ],
      "metadata": {
        "id": "iszVyD1LN3M3"
      }
    },
    {
      "cell_type": "code",
      "source": [
        "# 빈 튜플\n"
      ],
      "metadata": {
        "id": "6tNyoT5EO4Xt"
      },
      "execution_count": null,
      "outputs": []
    },
    {
      "cell_type": "code",
      "source": [
        "# tuple(iterable)\n"
      ],
      "metadata": {
        "id": "GzgWOdThOAv6"
      },
      "execution_count": null,
      "outputs": []
    },
    {
      "cell_type": "code",
      "source": [
        "# 숫자 하나만 있는 튜플\n"
      ],
      "metadata": {
        "id": "aM6AFCotPV7p"
      },
      "execution_count": null,
      "outputs": []
    },
    {
      "cell_type": "code",
      "source": [
        "#p83\n",
        "num = (5,)\n",
        "num"
      ],
      "metadata": {
        "id": "GH3pTehy6PKQ"
      },
      "execution_count": null,
      "outputs": []
    },
    {
      "cell_type": "code",
      "source": [
        "type(num)"
      ],
      "metadata": {
        "id": "HQstsuymMge1"
      },
      "execution_count": null,
      "outputs": []
    },
    {
      "cell_type": "markdown",
      "source": [
        "**튜플 메서드**\n",
        "* .count()\n",
        "* .index()"
      ],
      "metadata": {
        "id": "4X_fyK6bPZnc"
      }
    },
    {
      "cell_type": "code",
      "source": [
        "# 튜플 메서드 확인\n"
      ],
      "metadata": {
        "id": "d9uzrHV1Pbq2"
      },
      "execution_count": null,
      "outputs": []
    },
    {
      "cell_type": "code",
      "source": [
        "a = (1,2,2,2,2,2,3,4)\n",
        "a.count(2) # 2의 개수"
      ],
      "metadata": {
        "id": "KcKhMVxT6PG8"
      },
      "execution_count": null,
      "outputs": []
    },
    {
      "cell_type": "code",
      "source": [
        "# 5의 개수\n"
      ],
      "metadata": {
        "id": "hTF0PVrqMicj"
      },
      "execution_count": null,
      "outputs": []
    },
    {
      "cell_type": "code",
      "source": [
        "# 해당 요소의 인덱스\n",
        "names = (\"Kim\", \"Lee\", \"Dong\")\n",
        "names.index(\"Dong\")"
      ],
      "metadata": {
        "id": "lWTQG-4J6PDT"
      },
      "execution_count": null,
      "outputs": []
    },
    {
      "cell_type": "code",
      "source": [
        "names = (\"Kim\",\"Kim\", \"Lee\", \"Dong\")\n",
        "names.index(\"Kim\")"
      ],
      "metadata": {
        "id": "TZRUdgdIMhg6"
      },
      "execution_count": null,
      "outputs": []
    },
    {
      "cell_type": "markdown",
      "source": [
        "##**딕셔너리(Dictionary)**\n",
        "- Key와 Value의 쌍으로 이루어진 자료형.\n",
        "- Key값을 통해서 Value를 찾는 방식으로 동작한다.\n",
        "- 리스트와 달리 순서가 없다.\n",
        "- key값은 변경될 수 없다."
      ],
      "metadata": {
        "id": "hJ9aOafQPHtb"
      }
    },
    {
      "cell_type": "code",
      "source": [
        "# dictionary 생성\n"
      ],
      "metadata": {
        "id": "8RRd2UOCRK0F"
      },
      "execution_count": null,
      "outputs": []
    },
    {
      "cell_type": "code",
      "source": [
        "# dict()\n"
      ],
      "metadata": {
        "id": "PQ6T1WpaRQg7"
      },
      "execution_count": null,
      "outputs": []
    },
    {
      "cell_type": "code",
      "source": [
        "#p84\n",
        "d1 = { \"Tom\":30, \"Jerry\":22,\n",
        "       \"Bill\":45, \"Harry\":15}\n",
        "d1"
      ],
      "metadata": {
        "id": "d0otZlii6PAJ"
      },
      "execution_count": null,
      "outputs": []
    },
    {
      "cell_type": "code",
      "source": [
        "type(d1)"
      ],
      "metadata": {
        "id": "YbJluKFSNR5f"
      },
      "execution_count": null,
      "outputs": []
    },
    {
      "cell_type": "code",
      "source": [
        "len(d1)"
      ],
      "metadata": {
        "id": "KNfGVqAkNRpH"
      },
      "execution_count": null,
      "outputs": []
    },
    {
      "cell_type": "markdown",
      "source": [
        "**value 가져오기**"
      ],
      "metadata": {
        "id": "TuGp4GBuSQ4H"
      }
    },
    {
      "cell_type": "code",
      "source": [
        "#p84\n",
        "d = {\"a\":10, \"b\":20, \"c\":30}\n",
        "d[\"a\"]"
      ],
      "metadata": {
        "id": "YeHSXhmH6O87"
      },
      "execution_count": null,
      "outputs": []
    },
    {
      "cell_type": "code",
      "source": [
        "# 같은 key 값\n",
        "d = {\"a\":10, \"b\":20, \"c\":30, \"c\":40}\n",
        "d"
      ],
      "metadata": {
        "id": "xV32FcPc6O5a"
      },
      "execution_count": null,
      "outputs": []
    },
    {
      "cell_type": "code",
      "source": [
        "# 같은 value 값\n",
        "d = {\"a\":10, \"b\":20, \"c\":30, \"d\":30}\n",
        "d"
      ],
      "metadata": {
        "id": "F5aMXSNkRgXB"
      },
      "execution_count": null,
      "outputs": []
    },
    {
      "cell_type": "code",
      "source": [
        "# key, value가 모두 같을 때\n",
        "d = {\"a\":10, \"b\":20, \"c\":30, \"c\":30}\n",
        "d"
      ],
      "metadata": {
        "id": "EynK-rqRRDgl"
      },
      "execution_count": null,
      "outputs": []
    },
    {
      "cell_type": "markdown",
      "source": [
        "**딕셔너리 데이터 추가**"
      ],
      "metadata": {
        "id": "l0ymet_rSqst"
      }
    },
    {
      "cell_type": "code",
      "source": [
        "#p85\n",
        "#데이터 추가\n",
        "d2 = {}\n",
        "d2[\"banana\"] = 1000\n",
        "d2[\"apple\"] = 2000\n",
        "d2[\"carrot\"] = 5000\n",
        "d2"
      ],
      "metadata": {
        "id": "Y8ki4Mdg6O2L"
      },
      "execution_count": null,
      "outputs": []
    },
    {
      "cell_type": "code",
      "source": [
        "# \"kiwi\"는 3000원\n"
      ],
      "metadata": {
        "id": "nzK7E8J2PWVa"
      },
      "execution_count": null,
      "outputs": []
    },
    {
      "cell_type": "code",
      "source": [
        "#데이터 수정 : \"banana\"를 3000원으로 수정\n",
        "\n",
        "#Key가 이미 있으면 Value만 수정된다.\n",
        "d2"
      ],
      "metadata": {
        "id": "oQq8je_1PV2V"
      },
      "execution_count": null,
      "outputs": []
    },
    {
      "cell_type": "markdown",
      "source": [
        "**딕셔너리 메서드**"
      ],
      "metadata": {
        "id": "3EGQTmRIR2pR"
      }
    },
    {
      "cell_type": "code",
      "source": [
        "# 딕셔너리 메서드 확인\n"
      ],
      "metadata": {
        "id": "mrZfslQPR7MC"
      },
      "execution_count": null,
      "outputs": []
    },
    {
      "cell_type": "code",
      "source": [
        "# key 값\n",
        "d = {\"a\":10, \"b\":20, \"c\":30}\n",
        "d.keys()"
      ],
      "metadata": {
        "id": "sy0PZDtt6Oyv"
      },
      "execution_count": null,
      "outputs": []
    },
    {
      "cell_type": "code",
      "source": [
        "# 반환값 type 확인\n"
      ],
      "metadata": {
        "id": "zqHN1Ax0SK1r"
      },
      "execution_count": null,
      "outputs": []
    },
    {
      "cell_type": "code",
      "source": [
        "# iterable\n"
      ],
      "metadata": {
        "id": "DFMkyhVgSr-V"
      },
      "execution_count": null,
      "outputs": []
    },
    {
      "cell_type": "code",
      "source": [
        "# value 값\n",
        "d.values()"
      ],
      "metadata": {
        "id": "CI75s7J9Px5T"
      },
      "execution_count": null,
      "outputs": []
    },
    {
      "cell_type": "code",
      "source": [
        "# (key, value)\n",
        "d.items()"
      ],
      "metadata": {
        "id": "YhJBRl1SPxq2"
      },
      "execution_count": null,
      "outputs": []
    },
    {
      "cell_type": "code",
      "source": [
        "# update, pop, clear ...\n"
      ],
      "metadata": {
        "id": "drXBHs5HTVpn"
      },
      "execution_count": null,
      "outputs": []
    },
    {
      "cell_type": "markdown",
      "source": [
        "##**집합(Set)**\n",
        "\n",
        "- 중복과 순서가 없다.\n",
        "- 집합은 {}를 사용하는데, 빈집합은 set()이란 키워드를 사용해서 만든다."
      ],
      "metadata": {
        "id": "TaJSVJ50Pr2N"
      }
    },
    {
      "cell_type": "code",
      "source": [
        "# 집합 생성\n"
      ],
      "metadata": {
        "id": "Vteda4OzTim7"
      },
      "execution_count": null,
      "outputs": []
    },
    {
      "cell_type": "code",
      "source": [
        "# 빈집합 생성\n"
      ],
      "metadata": {
        "id": "jWliYz0vTkCp"
      },
      "execution_count": null,
      "outputs": []
    },
    {
      "cell_type": "code",
      "source": [
        "# type\n"
      ],
      "metadata": {
        "id": "nLNwkK2IUAor"
      },
      "execution_count": null,
      "outputs": []
    },
    {
      "cell_type": "code",
      "source": [
        "#p86\n",
        "set_1={1,2,3,4}\n",
        "type(set_1)"
      ],
      "metadata": {
        "id": "Rz_82V556OvH"
      },
      "execution_count": null,
      "outputs": []
    },
    {
      "cell_type": "code",
      "source": [
        "set_2 = set()  #빈 집합을 정의\n",
        "type(set_2)"
      ],
      "metadata": {
        "id": "MJGLUFWD6Oq8"
      },
      "execution_count": null,
      "outputs": []
    },
    {
      "cell_type": "code",
      "source": [
        "# set(iterables)\n",
        "set([1,2,2,3,4,5,3])"
      ],
      "metadata": {
        "id": "lf4aE34R6OkE"
      },
      "execution_count": null,
      "outputs": []
    },
    {
      "cell_type": "markdown",
      "source": [
        "**집합 메서드**"
      ],
      "metadata": {
        "id": "UByeObqTUETh"
      }
    },
    {
      "cell_type": "code",
      "source": [
        "# 집합 메서드 확인\n"
      ],
      "metadata": {
        "id": "sAGRXK6bUNca"
      },
      "execution_count": null,
      "outputs": []
    },
    {
      "cell_type": "code",
      "source": [
        "#p87\n",
        "#데이터 추가\n",
        "set_1 = {1,2,3}\n",
        "set_1.add(7)\n",
        "set_1"
      ],
      "metadata": {
        "id": "G9CXlx6T6Of2"
      },
      "execution_count": null,
      "outputs": []
    },
    {
      "cell_type": "code",
      "source": [
        "# 6을 추가하기\n"
      ],
      "metadata": {
        "id": "Od3OFabPUSUa"
      },
      "execution_count": null,
      "outputs": []
    },
    {
      "cell_type": "code",
      "source": [
        "# 데이터 삭제\n",
        "set_1.remove(3)\n",
        "set_1"
      ],
      "metadata": {
        "id": "YUOtxFaTQFxT"
      },
      "execution_count": null,
      "outputs": []
    },
    {
      "cell_type": "markdown",
      "source": [
        "**집합 연산**"
      ],
      "metadata": {
        "id": "siIMWJOFUs9N"
      }
    },
    {
      "cell_type": "code",
      "source": [
        "# 교집합\n",
        "set_1 = {1,2,3}\n",
        "set_2 = {3,4,5}"
      ],
      "metadata": {
        "id": "kZ5No71rQIJD"
      },
      "execution_count": null,
      "outputs": []
    },
    {
      "cell_type": "code",
      "source": [
        "# & 연산자\n",
        "set_1 & set_2"
      ],
      "metadata": {
        "id": "DaSqiwgGUrlN"
      },
      "execution_count": null,
      "outputs": []
    },
    {
      "cell_type": "code",
      "source": [
        "# intersection 메서드\n",
        "set_1.intersection(set_2)"
      ],
      "metadata": {
        "id": "TRA4vJIrAer2"
      },
      "execution_count": null,
      "outputs": []
    },
    {
      "cell_type": "code",
      "source": [
        "set_2.intersection(set_1)"
      ],
      "metadata": {
        "id": "xPu0t3DEAlgV"
      },
      "execution_count": null,
      "outputs": []
    },
    {
      "cell_type": "code",
      "source": [
        "# 합집합 : | 연산자\n",
        "set_1 | set_2"
      ],
      "metadata": {
        "id": "NmkwKmUtQO3z"
      },
      "execution_count": null,
      "outputs": []
    },
    {
      "cell_type": "code",
      "source": [
        "# union 메서드\n",
        "set_2.union(set_1)"
      ],
      "metadata": {
        "id": "GGnWhJ8VArY5"
      },
      "execution_count": null,
      "outputs": []
    },
    {
      "cell_type": "code",
      "source": [
        "# 차집합 : - 연산자\n",
        "set_2 - set_1"
      ],
      "metadata": {
        "id": "QpO9DC_iQN3b"
      },
      "execution_count": null,
      "outputs": []
    },
    {
      "cell_type": "code",
      "source": [
        "# difference 메서드\n",
        "set_2.difference(set_1)"
      ],
      "metadata": {
        "id": "l054H2RJAu8S"
      },
      "execution_count": null,
      "outputs": []
    },
    {
      "cell_type": "code",
      "source": [
        "set_1.difference(set_2)"
      ],
      "metadata": {
        "id": "04Qfk44vQNqb"
      },
      "execution_count": null,
      "outputs": []
    },
    {
      "cell_type": "markdown",
      "source": [
        "##**추가 자료**"
      ],
      "metadata": {
        "id": "HRHTG6mJaxD6"
      }
    },
    {
      "cell_type": "markdown",
      "source": [
        "**mutable vs immutables**\n",
        "\n",
        "* mutable : 가변의, 수정 가능한 객체\n",
        "\n",
        "* immutable : 불변의, 수정 불가능한 객체\n",
        "\n",
        "\n",
        "```\n",
        "* immutable : int, float, str, tuple\n",
        "\n",
        "* mutable : list, dict, set\n",
        "```\n",
        "\n",
        "\n",
        "\n"
      ],
      "metadata": {
        "id": "6J027f8DVQ48"
      }
    },
    {
      "cell_type": "code",
      "source": [
        "# int\n"
      ],
      "metadata": {
        "id": "Eg2bx1BsX_1m"
      },
      "execution_count": null,
      "outputs": []
    },
    {
      "cell_type": "code",
      "source": [
        "# list\n"
      ],
      "metadata": {
        "id": "KDV18iPHYJ70"
      },
      "execution_count": null,
      "outputs": []
    },
    {
      "cell_type": "markdown",
      "source": [
        "**python의 문자열 인코딩**\n",
        "\n",
        "* 유니코드(unicode) : 세계 여러나라의 문자열을 표현할 수 있도록 한 표준 문자세트\n",
        "\n",
        "* 파이썬 3 버전부터는 모두 유니코드 문자열\n",
        "\n",
        "* 인코딩(encoding) : 부호화(코드화), 우리가 사용하는 문자나 기호들을 어떠한 규칙에 따라 컴퓨터의 0,1 형태(bytes)로 변환하는 것.\n",
        "\n",
        "* 디코딩(decoding) : 복호화, 인코딩된 데이터를 다시 우리가 사용하는 데이터의 형태로 변환하는 것.\n",
        "\n",
        "```\n",
        "# 인코딩 방식\n",
        "\n",
        "UTF-8 : 유니코드 문자열을 위한 가변 길이 인코딩 방식(1~4 bytes)\n",
        "EUC-KR: 한글을 위한 인코딩 방식(2 bytes)\n",
        "ASCII : 영어 알파벳을 위한 인코딩 방식(7 bits)\n",
        "\n",
        "```\n",
        "\n"
      ],
      "metadata": {
        "id": "fGBVpkZxa3xN"
      }
    },
    {
      "cell_type": "code",
      "source": [
        "string = \"abc\"\n",
        "type(string)"
      ],
      "metadata": {
        "id": "8m359ienZL89"
      },
      "execution_count": null,
      "outputs": []
    },
    {
      "cell_type": "code",
      "source": [
        "# 해당 문자의 유니코드 숫자값\n",
        "ord(\"a\")"
      ],
      "metadata": {
        "id": "s8qRCVT6ktVO"
      },
      "execution_count": null,
      "outputs": []
    },
    {
      "cell_type": "code",
      "source": [
        "# 유니코드 숫자값에 해당하는 문자\n",
        "chr(97)"
      ],
      "metadata": {
        "id": "2U15yD4Jlbgg"
      },
      "execution_count": null,
      "outputs": []
    },
    {
      "cell_type": "code",
      "source": [
        "encoded_string = string.encode(\"utf-8\")\n",
        "print(encoded_string)"
      ],
      "metadata": {
        "id": "PfTZtZnvZ0vU"
      },
      "execution_count": null,
      "outputs": []
    },
    {
      "cell_type": "code",
      "source": [
        "type(encoded_string)"
      ],
      "metadata": {
        "id": "L6F_WjMel_6t"
      },
      "execution_count": null,
      "outputs": []
    },
    {
      "cell_type": "code",
      "source": [
        "decoded_string = encoded_string.decode(\"utf-8\")\n",
        "print(decoded_string)"
      ],
      "metadata": {
        "id": "JHOz_FJ7mN1Z"
      },
      "execution_count": null,
      "outputs": []
    },
    {
      "cell_type": "code",
      "source": [
        "type(decoded_string)"
      ],
      "metadata": {
        "id": "V66cjPzHmaJu"
      },
      "execution_count": null,
      "outputs": []
    },
    {
      "cell_type": "code",
      "source": [
        "# 다른 디코딩 방식으로 하면?\n"
      ],
      "metadata": {
        "id": "X9XbwMuzZ_HX"
      },
      "execution_count": null,
      "outputs": []
    },
    {
      "cell_type": "code",
      "source": [
        "#인코딩 기본값\n",
        "import sys\n",
        "sys.stdin.encoding"
      ],
      "metadata": {
        "id": "qrdoWJclaHAl"
      },
      "execution_count": null,
      "outputs": []
    },
    {
      "cell_type": "markdown",
      "source": [
        "* sys : 파이썬 인터프리터 제어 모듈\n",
        "* https://docs.python.org/ko/3/library/sys.html"
      ],
      "metadata": {
        "id": "3xopQ7WSosls"
      }
    },
    {
      "cell_type": "code",
      "source": [
        "data = \"안녕하세요\""
      ],
      "metadata": {
        "id": "v-FnoUYdnaGs"
      },
      "execution_count": null,
      "outputs": []
    },
    {
      "cell_type": "code",
      "source": [
        "# file I/O\n",
        "with open('python.txt', mode=\"w\") as f:\n",
        "    f.write(data)"
      ],
      "metadata": {
        "id": "SoEi3H2EnGY4"
      },
      "execution_count": null,
      "outputs": []
    },
    {
      "cell_type": "code",
      "source": [
        "with open('python.txt', mode=\"r\") as f:\n",
        "    data = f.read()\n",
        "    print(data)"
      ],
      "metadata": {
        "id": "sFprmvsQoP-5"
      },
      "execution_count": null,
      "outputs": []
    }
  ]
}