{
  "nbformat": 4,
  "nbformat_minor": 0,
  "metadata": {
    "colab": {
      "private_outputs": true,
      "provenance": [],
      "toc_visible": true,
      "authorship_tag": "ABX9TyOdgoVo5OeCzKws2wnGSmHX",
      "include_colab_link": true
    },
    "kernelspec": {
      "name": "python3",
      "display_name": "Python 3"
    },
    "language_info": {
      "name": "python"
    }
  },
  "cells": [
    {
      "cell_type": "markdown",
      "metadata": {
        "id": "view-in-github",
        "colab_type": "text"
      },
      "source": [
        "<a href=\"https://colab.research.google.com/github/wedatalab-lecture/FirstPython/blob/main/3_%EC%A1%B0%EA%B1%B4%EA%B3%BC_%EB%B0%98%EB%B3%B5(2)_%EC%8B%A4%EC%8A%B5.ipynb\" target=\"_parent\"><img src=\"https://colab.research.google.com/assets/colab-badge.svg\" alt=\"Open In Colab\"/></a>"
      ]
    },
    {
      "cell_type": "markdown",
      "source": [
        "#3.조건과 반복 (2)\n",
        "\n",
        "- while 문\n",
        "- for 문\n",
        "- 반목문의 제어\n",
        "\n",
        "\n",
        "```\n",
        "교재 : \"비전공자를 위한 처음 만나는 파이썬\"(권건우 외 7명 저)\n",
        "\n",
        "p.96 ~ 109\n",
        "\n",
        "Ⅳ. 조건과 반복\n",
        "    2. 반복\n",
        "        1) while 문\n",
        "        2) for 문\n",
        "```\n",
        "\n"
      ],
      "metadata": {
        "id": "NRXnQ8_230vF"
      }
    },
    {
      "cell_type": "markdown",
      "source": [
        "##**while 문**\n",
        "\n",
        "- 조건이 참인 동안 while 문 아래 명령을 계속 수행한다.\n",
        "- for문과 달리 반복 횟수가 정해져 있지 않다.무한반복이 가능하다.\n",
        "\n",
        "\n",
        "\n",
        "```\n",
        "while 조건:\n",
        "    실행할 명령1\n",
        "    실행할 명령2\n",
        "    ..\n",
        "    ..\n",
        "    ..\n",
        "```\n",
        "\n",
        "\n"
      ],
      "metadata": {
        "id": "SUULrMJUUChl"
      }
    },
    {
      "cell_type": "code",
      "source": [
        "# 무한반복\n"
      ],
      "metadata": {
        "id": "ENI6CKbSg9U4"
      },
      "execution_count": null,
      "outputs": []
    },
    {
      "cell_type": "code",
      "source": [
        "#p97\n",
        "i = 1\n",
        "while i <= 5:\n",
        "  i += 1"
      ],
      "metadata": {
        "id": "tQS1MzfsQHuc"
      },
      "execution_count": null,
      "outputs": []
    },
    {
      "cell_type": "code",
      "source": [
        "#p98\n",
        "i = 1\n",
        "while i < 7:\n",
        "  print(i)\n",
        "  i += 1"
      ],
      "metadata": {
        "id": "pCZiAJkIQHrD"
      },
      "execution_count": null,
      "outputs": []
    },
    {
      "cell_type": "code",
      "source": [
        "#p98\n",
        "i = 1\n",
        "while i < 11:\n",
        "  print(i, end=' ') # i 출력 시 한 칸 띄기\n",
        "  i += 1"
      ],
      "metadata": {
        "id": "lxx2DBsfQHn6"
      },
      "execution_count": null,
      "outputs": []
    },
    {
      "cell_type": "markdown",
      "source": [
        "###**while문 연습문제**"
      ],
      "metadata": {
        "id": "T47fL89lNqKP"
      }
    },
    {
      "cell_type": "markdown",
      "source": [
        "**연습문제 1**\n",
        "\n",
        "- 사용자로부터 숫자를 입력받아, 3의 배수의 총합과 평균을 출력한다.\n",
        "- 받을 수 있는 숫자의 개수는 5개 이하"
      ],
      "metadata": {
        "id": "KXc09DzXiS3F"
      }
    },
    {
      "cell_type": "code",
      "source": [],
      "metadata": {
        "id": "GvDyBD3mj9oP"
      },
      "execution_count": null,
      "outputs": []
    },
    {
      "cell_type": "code",
      "source": [
        "#p99\n",
        "#임의의 정수 생성 라이브러리\n",
        "import random\n"
      ],
      "metadata": {
        "id": "-4pVUGFJQHk5"
      },
      "execution_count": null,
      "outputs": []
    },
    {
      "cell_type": "code",
      "source": [
        "#randint(a, b) : a <= N <= b의 N(정수) 랜덤 생성\n",
        "random.randint(1, 6)"
      ],
      "metadata": {
        "id": "k-wO4JwvglhR"
      },
      "execution_count": null,
      "outputs": []
    },
    {
      "cell_type": "markdown",
      "source": [
        "* random 더 알아보기\n",
        "\n",
        "https://docs.python.org/3/library/random.html\n"
      ],
      "metadata": {
        "id": "bo3m3lozhxb7"
      }
    },
    {
      "cell_type": "markdown",
      "source": [
        "**연습문제 2**\n",
        "\n",
        "random 모듈을 불러와 5가 나올 때까지 주사위 던지는 프로그램 만들기."
      ],
      "metadata": {
        "id": "mTz_z_G6iDJ1"
      }
    },
    {
      "cell_type": "code",
      "source": [],
      "metadata": {
        "id": "wCKyTHGtQHh2"
      },
      "execution_count": null,
      "outputs": []
    },
    {
      "cell_type": "markdown",
      "source": [
        "##**for문**\n",
        "\n",
        "- 정해진 횟수만큼 반복한다.\n",
        "\n",
        "- 시퀀스형 데이터 또는 그 외 반복 가능한 객체(iterable)의 요소를 반복하는데 사용된다.\n",
        "\n",
        "```\n",
        "for 변수 in iterable:\n",
        "    실행할 명령1\n",
        "    실행할 명령2\n",
        "    ..\n",
        "    ..\n",
        "    ..\n",
        "```"
      ],
      "metadata": {
        "id": "2Ih9TcUVphOB"
      }
    },
    {
      "cell_type": "markdown",
      "source": [
        "**연속자료형에서 반복(Sequence)**\n",
        "\n",
        "- 문자열, 튜플, 리스트와 같은 자료형"
      ],
      "metadata": {
        "id": "3VW2_mUdwQBy"
      }
    },
    {
      "cell_type": "code",
      "source": [
        "#p101\n",
        "# 리스트\n",
        "fruits = [\"apple\", \"kiwi\", \"pear\"]\n",
        "for x in fruits:\n",
        "    print(x)"
      ],
      "metadata": {
        "id": "RIXmsT_HQHbR"
      },
      "execution_count": null,
      "outputs": []
    },
    {
      "cell_type": "code",
      "source": [
        "#p100\n",
        "colors = ['red', 'green', 'blue']\n",
        "\n",
        "for color in colors:\n",
        "    print('I love ' + color)"
      ],
      "metadata": {
        "id": "nj9ZbTRfQHev"
      },
      "execution_count": null,
      "outputs": []
    },
    {
      "cell_type": "code",
      "source": [
        "#p102\n",
        "# 튜플\n",
        "for i in (1,2,3,4,5):\n",
        "  print(i)\n",
        "else:\n",
        "  print(\"The loop wasn't interrupted.\")"
      ],
      "metadata": {
        "id": "2jYDKsaZw-V8"
      },
      "execution_count": null,
      "outputs": []
    },
    {
      "cell_type": "code",
      "source": [
        "#p101\n",
        "# 문자열\n",
        "# 단어 \"banana\"에 있는 글자들을 반복하고, 한 줄로 출력해보기\n"
      ],
      "metadata": {
        "id": "tJicFXgweXGV"
      },
      "execution_count": null,
      "outputs": []
    },
    {
      "cell_type": "code",
      "source": [
        "# \"banana\"를 뒤집어서 한 줄로 출력해보기\n"
      ],
      "metadata": {
        "id": "NaMN_aioeWZi"
      },
      "execution_count": null,
      "outputs": []
    },
    {
      "cell_type": "markdown",
      "source": [
        "* reversed 내장함수 더 알아보기\n",
        "\n",
        "https://docs.python.org/3/library/functions.html\n"
      ],
      "metadata": {
        "id": "OtjkRx2IVETg"
      }
    },
    {
      "cell_type": "code",
      "source": [
        "# p102\n",
        "# for 문과 if 문의 비교\n",
        "for n in [1,2,3]:\n",
        "  print(str(n))"
      ],
      "metadata": {
        "id": "luGK6pk2U3hu"
      },
      "execution_count": null,
      "outputs": []
    },
    {
      "cell_type": "code",
      "source": [
        "%whos"
      ],
      "metadata": {
        "id": "xNFdWp8G6vDN"
      },
      "execution_count": null,
      "outputs": []
    },
    {
      "cell_type": "code",
      "source": [
        "if n == 6:\n",
        "  print('it is six')\n",
        "else:\n",
        "  print('it is not six')"
      ],
      "metadata": {
        "id": "4_6Jt5g_zM0A"
      },
      "execution_count": null,
      "outputs": []
    },
    {
      "cell_type": "markdown",
      "source": [
        "**그 외 반복 가능한 객체(iterable)에서 반복**\n",
        "\n",
        "- 딕셔너리, 집합과 같은 비시퀀스형 데이터(Non-Sequence)\n",
        "- range(), enumerate()"
      ],
      "metadata": {
        "id": "UPL1zqrezcUb"
      }
    },
    {
      "cell_type": "code",
      "source": [
        "# 딕셔너리\n",
        "dic_1 = {\"a\":10, \"b\":20, \"c\":30}\n"
      ],
      "metadata": {
        "id": "3yHWkRSY3cvt"
      },
      "execution_count": null,
      "outputs": []
    },
    {
      "cell_type": "code",
      "source": [
        "# iterable : .items(), .keys(), .values()\n"
      ],
      "metadata": {
        "id": "lSxGHFoz3v13"
      },
      "execution_count": null,
      "outputs": []
    },
    {
      "cell_type": "markdown",
      "source": [
        "### **range( )**\n",
        "\n",
        "* range(start, stop, step)\n",
        "\n",
        "* 변경할 수 없는 연속된 정수를 반환한다.\n",
        "\n",
        "* 특정 횟수만큼 반복하는데 사용된다.\n",
        "\n",
        "* range 더 알아보기 : https://docs.python.org/3/library/stdtypes.html#typesseq-range\n"
      ],
      "metadata": {
        "id": "JKH-Qn9sOMmD"
      }
    },
    {
      "cell_type": "code",
      "source": [
        "# range()\n"
      ],
      "metadata": {
        "id": "XDSi9j9AOMmE"
      },
      "execution_count": null,
      "outputs": []
    },
    {
      "cell_type": "code",
      "source": [
        "# in - 포함/불포함 연산\n"
      ],
      "metadata": {
        "id": "FgmRhRrUOMmF"
      },
      "execution_count": null,
      "outputs": []
    },
    {
      "cell_type": "code",
      "source": [
        "# .index() - 메서드\n"
      ],
      "metadata": {
        "id": "oGxf_P6UOMmF"
      },
      "execution_count": null,
      "outputs": []
    },
    {
      "cell_type": "code",
      "source": [
        "# 인덱싱\n"
      ],
      "metadata": {
        "id": "evtu24Q7OMmF"
      },
      "execution_count": null,
      "outputs": []
    },
    {
      "cell_type": "code",
      "source": [
        "# 슬라이싱\n"
      ],
      "metadata": {
        "id": "sK37wZehYrGf"
      },
      "execution_count": null,
      "outputs": []
    },
    {
      "cell_type": "code",
      "source": [
        "# ==, !=\n",
        "for i in range(3):\n",
        "    print(i)"
      ],
      "metadata": {
        "id": "zExpquAgOMmF"
      },
      "execution_count": null,
      "outputs": []
    },
    {
      "cell_type": "code",
      "source": [
        "for i in range(0,3):\n",
        "    print(i)"
      ],
      "metadata": {
        "id": "3XeM3C1hZisD"
      },
      "execution_count": null,
      "outputs": []
    },
    {
      "cell_type": "code",
      "source": [
        "# range(3) == range(0,3) 의 결과값은 True\n"
      ],
      "metadata": {
        "id": "0xW_Fg-4Zutn"
      },
      "execution_count": null,
      "outputs": []
    },
    {
      "cell_type": "code",
      "source": [
        "# id()\n"
      ],
      "metadata": {
        "id": "aQsI8f_rZ2Rc"
      },
      "execution_count": null,
      "outputs": []
    },
    {
      "cell_type": "code",
      "source": [
        "# range(3) is range(0,3) 의 결과값은 False\n"
      ],
      "metadata": {
        "id": "yQpDqi-PLB7R"
      },
      "execution_count": null,
      "outputs": []
    },
    {
      "cell_type": "code",
      "source": [
        "# 교재 p103\n",
        "for x in range(6):\n",
        "    print(x)"
      ],
      "metadata": {
        "id": "52jW4q9nOMmG"
      },
      "execution_count": null,
      "outputs": []
    },
    {
      "cell_type": "code",
      "source": [
        "# 교재 p104\n",
        "for x in range(1, 5):\n",
        "    print(x)"
      ],
      "metadata": {
        "id": "LuzdFBB3OMmG"
      },
      "execution_count": null,
      "outputs": []
    },
    {
      "cell_type": "code",
      "source": [
        "# 교재 p104\n",
        "for x in range(1,5,2):\n",
        "    print(x)"
      ],
      "metadata": {
        "id": "4pnZe7unOMmG"
      },
      "execution_count": null,
      "outputs": []
    },
    {
      "cell_type": "code",
      "source": [
        "# start, stop, step에 음수가 들어갈 경우\n"
      ],
      "metadata": {
        "id": "3DFwhJssOMmG"
      },
      "execution_count": null,
      "outputs": []
    },
    {
      "cell_type": "code",
      "source": [
        "# step이 잘못된 경우\n",
        "list(range(0,-10,1))"
      ],
      "metadata": {
        "id": "lShTfoFLM9Sd"
      },
      "execution_count": null,
      "outputs": []
    },
    {
      "cell_type": "code",
      "source": [
        "# 교재 p105\n",
        "# 6부터 10까지의 정수를 한 줄로 출력해보기\n",
        "for x in range(6, 11):\n",
        "    print(x, end=' ')"
      ],
      "metadata": {
        "id": "9IpKFrjCOMmG"
      },
      "execution_count": null,
      "outputs": []
    },
    {
      "cell_type": "code",
      "source": [
        "# 1~10 범위의 짝수를 출력해보기\n"
      ],
      "metadata": {
        "id": "ghIaFJ2QOMmG"
      },
      "execution_count": null,
      "outputs": []
    },
    {
      "cell_type": "code",
      "source": [
        "# 교재 p105\n",
        "# range의 활용\n",
        "range(5)"
      ],
      "metadata": {
        "id": "IrO-ELXZSmud"
      },
      "execution_count": null,
      "outputs": []
    },
    {
      "cell_type": "code",
      "source": [
        "range(5,10)"
      ],
      "metadata": {
        "id": "IWyzop8HSmud"
      },
      "execution_count": null,
      "outputs": []
    },
    {
      "cell_type": "code",
      "source": [
        "range(5,20,3)"
      ],
      "metadata": {
        "id": "mTInu9aqSmue"
      },
      "execution_count": null,
      "outputs": []
    },
    {
      "cell_type": "code",
      "source": [
        "str(range(4,41,5))"
      ],
      "metadata": {
        "id": "RhOUvkuESmue"
      },
      "execution_count": null,
      "outputs": []
    },
    {
      "cell_type": "markdown",
      "source": [
        "### **리스트 안의 for 반복문**\n",
        "\n",
        "\n",
        "```\n",
        "# Using a list comprehension\n",
        "\n",
        "[x for x in iterable]\n",
        "```\n",
        "\n"
      ],
      "metadata": {
        "id": "H76FisbaQM6i"
      }
    },
    {
      "cell_type": "code",
      "source": [
        "list(range(6))"
      ],
      "metadata": {
        "id": "xhYyqnfYpPfm"
      },
      "execution_count": null,
      "outputs": []
    },
    {
      "cell_type": "code",
      "source": [
        "# 교재 p106\n",
        "add = []\n",
        "for i in range(6):\n",
        "    add.append(i)\n",
        "print(add)"
      ],
      "metadata": {
        "id": "FmQhdnGVQM6j"
      },
      "execution_count": null,
      "outputs": []
    },
    {
      "cell_type": "code",
      "source": [
        "# list comprehension\n"
      ],
      "metadata": {
        "id": "xtGYy8tMQM6k"
      },
      "execution_count": null,
      "outputs": []
    },
    {
      "cell_type": "code",
      "source": [
        "add = [i + 10 for i in range(6)]\n",
        "print(add)"
      ],
      "metadata": {
        "id": "GSd4529lQM6k"
      },
      "execution_count": null,
      "outputs": []
    },
    {
      "cell_type": "code",
      "source": [
        "# 교재 p106\n",
        "# 0~9까지의 정수 중 짝수는 그대로, 홀수는 \"odd\"로 리스트에 담아서 출력\n"
      ],
      "metadata": {
        "id": "G7frz9A6QM6k"
      },
      "execution_count": null,
      "outputs": []
    },
    {
      "cell_type": "code",
      "source": [
        "# list commprehension\n"
      ],
      "metadata": {
        "id": "jBATmjXrQM6k"
      },
      "execution_count": null,
      "outputs": []
    },
    {
      "cell_type": "markdown",
      "source": [
        "###**for문 연습문제**"
      ],
      "metadata": {
        "id": "YuQd1KGog7Or"
      }
    },
    {
      "cell_type": "markdown",
      "source": [
        "**연습문제 3**\n",
        "\n",
        "for문을 활용해서 1~100까지 더한 마지막 값을 출력하기.\n"
      ],
      "metadata": {
        "id": "o2nAGoGLYCFe"
      }
    },
    {
      "cell_type": "code",
      "execution_count": null,
      "metadata": {
        "execution": {
          "iopub.execute_input": "2023-05-22T04:43:45.070363Z",
          "iopub.status.busy": "2023-05-22T04:43:45.070107Z",
          "iopub.status.idle": "2023-05-22T04:43:45.072522Z",
          "shell.execute_reply": "2023-05-22T04:43:45.071891Z",
          "shell.execute_reply.started": "2023-05-22T04:43:45.070349Z"
        },
        "id": "bNL17xtz_oxg",
        "tags": []
      },
      "outputs": [],
      "source": [
        "# 0~5까지 합\n",
        "sum = 0+1+2+3+4+5"
      ]
    },
    {
      "cell_type": "code",
      "execution_count": null,
      "metadata": {
        "execution": {
          "iopub.execute_input": "2023-05-22T04:43:45.073982Z",
          "iopub.status.busy": "2023-05-22T04:43:45.073822Z",
          "iopub.status.idle": "2023-05-22T04:43:45.077194Z",
          "shell.execute_reply": "2023-05-22T04:43:45.076762Z",
          "shell.execute_reply.started": "2023-05-22T04:43:45.073968Z"
        },
        "id": "4ioVwVbJ_0vo",
        "tags": []
      },
      "outputs": [],
      "source": [
        "print(sum)"
      ]
    },
    {
      "cell_type": "code",
      "execution_count": null,
      "metadata": {
        "execution": {
          "iopub.execute_input": "2023-05-22T04:43:45.077889Z",
          "iopub.status.busy": "2023-05-22T04:43:45.077763Z",
          "iopub.status.idle": "2023-05-22T04:43:45.081324Z",
          "shell.execute_reply": "2023-05-22T04:43:45.080914Z",
          "shell.execute_reply.started": "2023-05-22T04:43:45.077876Z"
        },
        "id": "nm6_Z82y_15w",
        "tags": []
      },
      "outputs": [],
      "source": [
        "# sum 연산 반복\n",
        "sum = 0\n",
        "sum = sum + 1\n",
        "sum = sum + 2\n",
        "sum = sum + 3\n",
        "sum = sum + 4\n",
        "sum = sum + 5\n",
        "print(sum)"
      ]
    },
    {
      "cell_type": "code",
      "source": [
        "# for문 활용\n"
      ],
      "metadata": {
        "id": "m4nWwSUgtwfg"
      },
      "execution_count": null,
      "outputs": []
    },
    {
      "cell_type": "code",
      "source": [
        "# 복합 할당연산자 활용\n"
      ],
      "metadata": {
        "id": "11KH5UgOYHpA"
      },
      "execution_count": null,
      "outputs": []
    },
    {
      "cell_type": "code",
      "source": [
        "# 문제의 답\n",
        "sum = 0\n",
        "for i in range(1,101): # 1 ~ 100까지 더하기\n",
        "    sum += i\n",
        "print(sum)"
      ],
      "metadata": {
        "id": "MoFOSUj-uFw6"
      },
      "execution_count": null,
      "outputs": []
    },
    {
      "cell_type": "markdown",
      "source": [
        "**연습문제 4**\n",
        "\n",
        "1~100까지의 숫자 중에 3과 5의 공배수만 더하여 출력하기."
      ],
      "metadata": {
        "id": "zaTJ-Ut-YTND"
      }
    },
    {
      "cell_type": "code",
      "source": [
        "# 조건\n",
        "#i % 3 == 0 and i % 5 == 0"
      ],
      "metadata": {
        "id": "6xdgMRsTYS5d"
      },
      "execution_count": null,
      "outputs": []
    },
    {
      "cell_type": "code",
      "source": [
        "# 문제의 답\n"
      ],
      "metadata": {
        "id": "9v7_nJePW_wd"
      },
      "execution_count": null,
      "outputs": []
    },
    {
      "cell_type": "markdown",
      "source": [
        "**연습문제 5**\n",
        "\n",
        "- 이중루프\n",
        "\n",
        "- 구구단 출력하기.\n",
        "\n",
        "- 2단, 4단을 출력해보기."
      ],
      "metadata": {
        "id": "BZcWP7CfYmF-"
      }
    },
    {
      "cell_type": "code",
      "source": [
        "# 구구단 출력 반복\n",
        "print(\"{} x {} = {}\".format(3, 1, 3*1))\n",
        "print(\"{} x {} = {}\".format(3, 2, 3*2))\n",
        "print(\"{} x {} = {}\".format(3, 3, 3*3))\n",
        "print(\"{} x {} = {}\".format(3, 4, 3*4))\n",
        "print(\"{} x {} = {}\".format(3, 5, 3*5))\n",
        "print(\"{} x {} = {}\".format(3, 6, 3*6))\n",
        "print(\"{} x {} = {}\".format(3, 7, 3*7))\n",
        "print(\"{} x {} = {}\".format(3, 8, 3*8))\n",
        "print(\"{} x {} = {}\".format(3, 9, 3*9))"
      ],
      "metadata": {
        "id": "oGcVU0XnB2RX"
      },
      "execution_count": null,
      "outputs": []
    },
    {
      "cell_type": "code",
      "source": [
        "# 위의 코드를 for문으로 바꿔보기\n"
      ],
      "metadata": {
        "id": "l9McDU1owP9g"
      },
      "execution_count": null,
      "outputs": []
    },
    {
      "cell_type": "code",
      "source": [
        "# 문제의 답\n"
      ],
      "metadata": {
        "id": "sSSk9jMZh1O0"
      },
      "execution_count": null,
      "outputs": []
    },
    {
      "cell_type": "code",
      "source": [
        "# 몇 단인지 표시\n",
        "for j in [2,4]:\n",
        "    print(f\"------{j} 단------\")\n",
        "    for i in range(1,10):\n",
        "        print(\"{} x {} = {}\".format(j, i, j*i))"
      ],
      "metadata": {
        "id": "1VwfTPvhxa21"
      },
      "execution_count": null,
      "outputs": []
    },
    {
      "cell_type": "markdown",
      "source": [
        "##**반복문의 제어**\n",
        "\n",
        "- 중간에 반복을 종료하거나, 실행 중인 반복문을 건너 뛸 수 있다.\n",
        "- break\n",
        "- continue\n",
        "- pass\n"
      ],
      "metadata": {
        "id": "ifJ7nLVWVyof"
      }
    },
    {
      "cell_type": "markdown",
      "source": [
        "**break**\n",
        "\n",
        "- for, while 구문에서 반복을 멈출 수 있다."
      ],
      "metadata": {
        "id": "TuSHBmB6ix3e"
      }
    },
    {
      "cell_type": "code",
      "source": [
        "# break이 없는 경우 - while문\n",
        "i = 1\n",
        "while i < 7:\n",
        "    print(i)\n",
        "    i += 1"
      ],
      "metadata": {
        "id": "uR-NYvZ_Zu1s"
      },
      "execution_count": null,
      "outputs": []
    },
    {
      "cell_type": "code",
      "source": [
        "#교재 p107\n",
        "i = 1\n",
        "while i < 7:\n",
        "    print(i)\n",
        "    if i == 4: # i가 4가 되었을때 반복을 멈춤\n",
        "        break\n",
        "    i += 1"
      ],
      "metadata": {
        "id": "oxXzadbIU3Ck"
      },
      "execution_count": null,
      "outputs": []
    },
    {
      "cell_type": "code",
      "source": [
        "# break이 없는 경우 - for문\n",
        "for i in range(1,7):\n",
        "    print(i)\n",
        "    # if i == 4:\n",
        "    #     break"
      ],
      "metadata": {
        "id": "udy3xNw72GHX"
      },
      "execution_count": null,
      "outputs": []
    },
    {
      "cell_type": "code",
      "source": [
        "for i in range(1,7):\n",
        "    print(i)\n",
        "    if i == 4:\n",
        "        break"
      ],
      "metadata": {
        "id": "UEETmtteNOA5"
      },
      "execution_count": null,
      "outputs": []
    },
    {
      "cell_type": "code",
      "source": [
        "#교재 p107\n",
        "#6보다 작은 정수를 출력하다가 3이 되면 멈추게 하기.\n",
        "\n",
        "# for\n"
      ],
      "metadata": {
        "id": "T0wodwn1U2_E"
      },
      "execution_count": null,
      "outputs": []
    },
    {
      "cell_type": "code",
      "source": [
        "# 교재의 답\n",
        "for i in range(0,6):\n",
        "    print(i)\n",
        "    if i == 3:\n",
        "        break"
      ],
      "metadata": {
        "id": "OchcRtyk209h"
      },
      "execution_count": null,
      "outputs": []
    },
    {
      "cell_type": "code",
      "source": [
        "# while\n"
      ],
      "metadata": {
        "id": "ra77bYuqU26O"
      },
      "execution_count": null,
      "outputs": []
    },
    {
      "cell_type": "code",
      "source": [
        "# 2까지만 출력되는 경우\n",
        "i = 0\n",
        "while i < 6:\n",
        "    print(i)\n",
        "    i += 1\n",
        "    if i == 3:\n",
        "        break"
      ],
      "metadata": {
        "id": "GHJua5o_3KMq"
      },
      "execution_count": null,
      "outputs": []
    },
    {
      "cell_type": "markdown",
      "source": [
        "**continue**\n",
        "\n",
        "- 특정 조건에서 남은 명령을 건너뛰고, 다음 반복을 수행한다."
      ],
      "metadata": {
        "id": "bGoFHTOiNb2Y"
      }
    },
    {
      "cell_type": "code",
      "source": [
        "# continue가 없는 경우 - while문\n",
        "i = 0\n",
        "while i < 6:\n",
        "    i += 1\n",
        "    print(i)"
      ],
      "metadata": {
        "id": "ZFm4tDq-b1Tz"
      },
      "execution_count": null,
      "outputs": []
    },
    {
      "cell_type": "code",
      "source": [
        "# 교재 p108\n",
        "# while문\n",
        "i = 0\n",
        "while i < 6:\n",
        "    i += 1\n",
        "    if i == 3:  # i가 3일 때 print(i) 건너뛰기\n",
        "        continue\n",
        "    print(i)"
      ],
      "metadata": {
        "id": "c_sUERIeU2el"
      },
      "execution_count": null,
      "outputs": []
    },
    {
      "cell_type": "code",
      "source": [
        "# continue가 없는 경우 - for문\n",
        "for i in range(6):\n",
        "    i += 1\n",
        "    print(i)"
      ],
      "metadata": {
        "id": "dDldytBscQBd"
      },
      "execution_count": null,
      "outputs": []
    },
    {
      "cell_type": "code",
      "source": [
        "# 교재 p108\n",
        "# for문\n",
        "for i in range(6):\n",
        "  i += 1\n",
        "  if i == 3:\n",
        "    continue\n",
        "  print(i)"
      ],
      "metadata": {
        "id": "NVrS0ZekU2SY"
      },
      "execution_count": null,
      "outputs": []
    },
    {
      "cell_type": "code",
      "source": [
        "# 교재 p108\n",
        "# 6보다 작은 정수를 출력하다가 4가 될때 건너뛰고 출력하기.\n",
        "\n",
        "# while문\n"
      ],
      "metadata": {
        "id": "xWKxCcGRU1_M"
      },
      "execution_count": null,
      "outputs": []
    },
    {
      "cell_type": "code",
      "source": [
        "# 다음 숫자로 넘어가지 않는 경우\n",
        "# i = 0\n",
        "# while i < 5:\n",
        "#     if i == 4:\n",
        "#         continue\n",
        "#     print(i)\n",
        "#     i += 1"
      ],
      "metadata": {
        "id": "Yji1aDk67H-2"
      },
      "execution_count": null,
      "outputs": []
    },
    {
      "cell_type": "code",
      "source": [
        "# for문\n"
      ],
      "metadata": {
        "id": "2TvOdsinWKFJ"
      },
      "execution_count": null,
      "outputs": []
    },
    {
      "cell_type": "code",
      "source": [
        "# for문 - 교재의 답\n",
        "for i in range(0,5): # range(start, stop)의 숫자가 위와 다름\n",
        "    i += 1           # 1을 더해서 출력하기 때문에\n",
        "    if i == 4:\n",
        "        continue\n",
        "    print(i)"
      ],
      "metadata": {
        "id": "Z3Q_Hv3lBpsJ"
      },
      "execution_count": null,
      "outputs": []
    },
    {
      "cell_type": "markdown",
      "source": [
        "**pass**\n",
        "\n",
        "- null operation\n",
        "- pass가 실행될때, 아무일도 일어나지 않는다.\n",
        "- 실행되어야 하는 코드가 없을 때 사용한다."
      ],
      "metadata": {
        "id": "Mn2IoHxnObxH"
      }
    },
    {
      "cell_type": "code",
      "source": [
        "# 교재 p108\n",
        "for x in [0, 1, 2]:\n",
        "    pass\n"
      ],
      "metadata": {
        "id": "5l73GOPQWKBa"
      },
      "execution_count": null,
      "outputs": []
    },
    {
      "cell_type": "code",
      "source": [
        "# x가 1일 때 출력하지 않기\n"
      ],
      "metadata": {
        "id": "qYv4K_f-PVcV"
      },
      "execution_count": null,
      "outputs": []
    },
    {
      "cell_type": "markdown",
      "source": [
        "**참고**\n",
        "* else의 또 다른 사용법"
      ],
      "metadata": {
        "id": "hlJYZmkpPjao"
      }
    },
    {
      "cell_type": "code",
      "source": [
        "# 교재 p109\n",
        "i = 1\n",
        "while i < 6:\n",
        "    print(i)\n",
        "    i += 1\n",
        "else:   # 반복이 모두 끝나고 실행\n",
        "    print(\"i는 6보다 크지 않다.\")"
      ],
      "metadata": {
        "id": "5KoQaWQnWJ-T"
      },
      "execution_count": null,
      "outputs": []
    },
    {
      "cell_type": "code",
      "source": [
        "for i in range(1, 6):\n",
        "    print(i)\n",
        "else:   # 반복이 모두 끝나고 실행\n",
        "    print(\"i는 6보다 크지 않다.\")"
      ],
      "metadata": {
        "id": "LNjyEWsxWJ6s"
      },
      "execution_count": null,
      "outputs": []
    },
    {
      "cell_type": "code",
      "source": [
        "for x in range(5):\n",
        "    if x == 3:\n",
        "        break\n",
        "    print(x)\n",
        "else:   # break으로 반복이 중간에 중단되면, else절은 실행되지 않음.\n",
        "    print(\"Finally finished!\")"
      ],
      "metadata": {
        "id": "bVm2zxJhWJ3n"
      },
      "execution_count": null,
      "outputs": []
    },
    {
      "cell_type": "code",
      "source": [
        "# 교재 p.109의 실습\n",
        "# 정수 2부터 6까지 출력하고 반복이 끝나면, \"7보다 작다\"라는 메시지 출력하기.\n",
        "\n",
        "# 영상에서는 따로 다루지 않았으나, 정정할 내용이 있어 남겨놓습니다.\n",
        "\n",
        "# while문\n",
        "i = 2\n",
        "while i < 7:\n",
        "    print(i)\n",
        "    i += 1\n",
        "else:\n",
        "    print(\"i는 7보다 작다.\")"
      ],
      "metadata": {
        "id": "0g7GVCEQFSVA"
      },
      "execution_count": null,
      "outputs": []
    },
    {
      "cell_type": "code",
      "source": [
        "# for문\n",
        "for i in range(2,7):\n",
        "    print(i)   # 정정 내용 : 교재의 i += 1 코드는 위와 마찬가지로 지워주시면 됩니다.\n",
        "else:\n",
        "    print(\"i는 7보다 작다.\")"
      ],
      "metadata": {
        "id": "wVcN-kueFgOe"
      },
      "execution_count": null,
      "outputs": []
    }
  ]
}