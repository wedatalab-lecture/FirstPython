{
  "nbformat": 4,
  "nbformat_minor": 0,
  "metadata": {
    "colab": {
      "provenance": [],
      "toc_visible": true,
      "authorship_tag": "ABX9TyOvRPMyy6YVXRv5h0MwHCQd",
      "include_colab_link": true
    },
    "kernelspec": {
      "name": "python3",
      "display_name": "Python 3"
    },
    "language_info": {
      "name": "python"
    }
  },
  "cells": [
    {
      "cell_type": "markdown",
      "metadata": {
        "id": "view-in-github",
        "colab_type": "text"
      },
      "source": [
        "<a href=\"https://colab.research.google.com/github/wedatalab-lecture/FirstPython/blob/main/2_%EC%9E%90%EB%A3%8C%ED%98%95_(1)_.ipynb\" target=\"_parent\"><img src=\"https://colab.research.google.com/assets/colab-badge.svg\" alt=\"Open In Colab\"/></a>"
      ]
    },
    {
      "cell_type": "markdown",
      "source": [
        "#2.자료형 (1)\n",
        "\n",
        "- 입력하기\n",
        "- 출력하기\n",
        "- 변수\n",
        "\n",
        "\n",
        "\n",
        "```\n",
        "교재\n",
        "p.53~61\n",
        "\n",
        "Ⅲ.자료형\n",
        "1.시작하기 전에 알아두자\n",
        "2.변수\n",
        "```\n",
        "\n"
      ],
      "metadata": {
        "id": "NRXnQ8_230vF"
      }
    },
    {
      "cell_type": "code",
      "source": [
        "#주석 : 설명"
      ],
      "metadata": {
        "id": "FOhR--mQ-g73"
      },
      "execution_count": 10,
      "outputs": []
    },
    {
      "cell_type": "markdown",
      "source": [
        "## **입력하기**\n",
        "- input() : 사용자의 입력을 받는 함수\n",
        "- 입력 값을 항상 문자열로 받아온다.\n",
        "- 입력 받은 값을 변수에 저장할 수 있다."
      ],
      "metadata": {
        "id": "N4fQuC_p6geP"
      }
    },
    {
      "cell_type": "code",
      "source": [
        "##p53\n",
        "\"Python\""
      ],
      "metadata": {
        "id": "d-LTBAiTOpSh",
        "colab": {
          "base_uri": "https://localhost:8080/",
          "height": 35
        },
        "outputId": "51c3bf53-69c5-411d-8ac8-8f28fb198591"
      },
      "execution_count": 11,
      "outputs": [
        {
          "output_type": "execute_result",
          "data": {
            "text/plain": [
              "'Python'"
            ],
            "application/vnd.google.colaboratory.intrinsic+json": {
              "type": "string"
            }
          },
          "metadata": {},
          "execution_count": 11
        }
      ]
    },
    {
      "cell_type": "code",
      "source": [
        "# input(prompt)\n"
      ],
      "metadata": {
        "id": "DITU_MZs5IE7"
      },
      "execution_count": 12,
      "outputs": []
    },
    {
      "cell_type": "code",
      "source": [
        "# type\n"
      ],
      "metadata": {
        "id": "-eZF91B_6GND"
      },
      "execution_count": 13,
      "outputs": []
    },
    {
      "cell_type": "code",
      "source": [
        "# id"
      ],
      "metadata": {
        "id": "7EZ1uy7R6IfJ"
      },
      "execution_count": 14,
      "outputs": []
    },
    {
      "cell_type": "markdown",
      "source": [
        "## **출력하기**\n",
        "\n",
        "- print() : 값을 출력해주는 함수\n",
        "- print 뒤 () 소괄호 안의 값을 출력한다.\n",
        "- 쉼표( , , , ) 로 여러 값을 출력할 수 있다."
      ],
      "metadata": {
        "id": "Eh2dtRa46wI6"
      }
    },
    {
      "cell_type": "code",
      "source": [
        "##p54\n",
        "print(\"Hello, Python!\")\n",
        "print(\"1+2\")\n",
        "print(1+2)"
      ],
      "metadata": {
        "id": "iVQLfmDrOtEq",
        "colab": {
          "base_uri": "https://localhost:8080/"
        },
        "outputId": "b02dcfa6-ea9c-4da7-a790-7510f4db7bff"
      },
      "execution_count": 15,
      "outputs": [
        {
          "output_type": "stream",
          "name": "stdout",
          "text": [
            "Hello, Python!\n",
            "1+2\n",
            "3\n"
          ]
        }
      ]
    },
    {
      "cell_type": "code",
      "execution_count": 16,
      "metadata": {
        "execution": {
          "iopub.execute_input": "2023-05-22T04:06:06.207130Z",
          "iopub.status.busy": "2023-05-22T04:06:06.206687Z",
          "iopub.status.idle": "2023-05-22T04:06:06.209235Z",
          "shell.execute_reply": "2023-05-22T04:06:06.208918Z",
          "shell.execute_reply.started": "2023-05-22T04:06:06.207114Z"
        },
        "id": "wFVuzb09po8f",
        "colab": {
          "base_uri": "https://localhost:8080/"
        },
        "outputId": "d5c341da-11b6-45ff-88f6-6d077ae34e52"
      },
      "outputs": [
        {
          "output_type": "stream",
          "name": "stdout",
          "text": [
            "1\n"
          ]
        }
      ],
      "source": [
        "print(1)    #숫자"
      ]
    },
    {
      "cell_type": "code",
      "execution_count": 17,
      "metadata": {
        "execution": {
          "iopub.execute_input": "2023-05-22T04:06:06.209870Z",
          "iopub.status.busy": "2023-05-22T04:06:06.209759Z",
          "iopub.status.idle": "2023-05-22T04:06:06.212348Z",
          "shell.execute_reply": "2023-05-22T04:06:06.212003Z",
          "shell.execute_reply.started": "2023-05-22T04:06:06.209858Z"
        },
        "id": "lirijl8wprho",
        "colab": {
          "base_uri": "https://localhost:8080/"
        },
        "outputId": "0c531ee3-68e8-4c4c-f119-bea102c33e92"
      },
      "outputs": [
        {
          "output_type": "stream",
          "name": "stdout",
          "text": [
            "1\n"
          ]
        }
      ],
      "source": [
        "print(\"1\")  #문자"
      ]
    },
    {
      "cell_type": "code",
      "execution_count": 18,
      "metadata": {
        "execution": {
          "iopub.execute_input": "2023-05-22T04:06:06.203177Z",
          "iopub.status.busy": "2023-05-22T04:06:06.202917Z",
          "iopub.status.idle": "2023-05-22T04:06:06.206125Z",
          "shell.execute_reply": "2023-05-22T04:06:06.205747Z",
          "shell.execute_reply.started": "2023-05-22T04:06:06.203157Z"
        },
        "id": "EtDmj6s3pjFh"
      },
      "outputs": [],
      "source": [
        "# print(end = )\n"
      ]
    },
    {
      "cell_type": "code",
      "execution_count": 19,
      "metadata": {
        "execution": {
          "iopub.execute_input": "2023-05-22T04:06:06.216020Z",
          "iopub.status.busy": "2023-05-22T04:06:06.215903Z",
          "iopub.status.idle": "2023-05-22T04:06:06.218559Z",
          "shell.execute_reply": "2023-05-22T04:06:06.218229Z",
          "shell.execute_reply.started": "2023-05-22T04:06:06.216007Z"
        },
        "id": "ZQJ-QuXjpy8a"
      },
      "outputs": [],
      "source": [
        "# 여러 값을 함께 출력\n"
      ]
    },
    {
      "cell_type": "code",
      "source": [],
      "metadata": {
        "id": "Jk3hYoCXPxC1"
      },
      "execution_count": 19,
      "outputs": []
    },
    {
      "cell_type": "markdown",
      "source": [
        "**숫자 계산하기**"
      ],
      "metadata": {
        "id": "G8gxGcDP7gVX"
      }
    },
    {
      "cell_type": "code",
      "source": [
        "##p55\n",
        "5+4*3"
      ],
      "metadata": {
        "id": "pCj7VRdjOsvw",
        "colab": {
          "base_uri": "https://localhost:8080/"
        },
        "outputId": "9809d27a-ec06-4905-82a2-737b6d4471b8"
      },
      "execution_count": 20,
      "outputs": [
        {
          "output_type": "execute_result",
          "data": {
            "text/plain": [
              "17"
            ]
          },
          "metadata": {},
          "execution_count": 20
        }
      ]
    },
    {
      "cell_type": "code",
      "source": [
        "# 몫과 나머지 출력\n",
        "# 10 / 3\n"
      ],
      "metadata": {
        "id": "TGifZ4AH5byJ"
      },
      "execution_count": 21,
      "outputs": []
    },
    {
      "cell_type": "code",
      "source": [
        "# 제곱\n"
      ],
      "metadata": {
        "id": "IT_my78u5fQT"
      },
      "execution_count": 22,
      "outputs": []
    },
    {
      "cell_type": "markdown",
      "source": [
        "**문자열 출력하기**"
      ],
      "metadata": {
        "id": "U4SyDllEUo1a"
      }
    },
    {
      "cell_type": "code",
      "source": [
        "##p56\n",
        "\n",
        "print(\"파이썬은\"+ \"인터프리터이다.\")\n",
        "print(\"파이썬은\"+ \" \" + \"인터프리터이다.\")\n",
        "print(\"$\" * 10)"
      ],
      "metadata": {
        "id": "t8z-KWJNOuRX",
        "colab": {
          "base_uri": "https://localhost:8080/"
        },
        "outputId": "5b789d23-cc9d-4667-978a-153fa215e7bc"
      },
      "execution_count": 23,
      "outputs": [
        {
          "output_type": "stream",
          "name": "stdout",
          "text": [
            "파이썬은인터프리터이다.\n",
            "파이썬은 인터프리터이다.\n",
            "$$$$$$$$$$\n"
          ]
        }
      ]
    },
    {
      "cell_type": "markdown",
      "source": [
        "문자열 연산자\n",
        "- ```+ : 문자끼리 연결```\n",
        "- ```* : 문자열을 해당 수만큼 반복```\n"
      ],
      "metadata": {
        "id": "Og9HbZCa8Wxq"
      }
    },
    {
      "cell_type": "code",
      "source": [],
      "metadata": {
        "id": "YmmyFq_z8SuV"
      },
      "execution_count": 23,
      "outputs": []
    },
    {
      "cell_type": "code",
      "source": [
        "##p56\n",
        "# 문자열 안에 문자 쓰기\n",
        "\n",
        "print('구름이 \"동동\" 떠다닙니다.')\n",
        "print(\"구름이 ‘동동’ 떠다닙니다.\")\n",
        "print(\"구름이 \\\"동동\\\" 떠다닙니다.\")"
      ],
      "metadata": {
        "id": "W-9eUPqARb9w",
        "colab": {
          "base_uri": "https://localhost:8080/"
        },
        "outputId": "6307a265-e88d-483a-8134-61c4075b2f89"
      },
      "execution_count": 24,
      "outputs": [
        {
          "output_type": "stream",
          "name": "stdout",
          "text": [
            "구름이 \"동동\" 떠다닙니다.\n",
            "구름이 ‘동동’ 떠다닙니다.\n",
            "구름이 \"동동\" 떠다닙니다.\n"
          ]
        }
      ]
    },
    {
      "cell_type": "markdown",
      "metadata": {
        "id": "qEWGLEkwzuBL"
      },
      "source": [
        "문자열 안에 문자 쓰기\n",
        "\n",
        "- 큰따옴표, 작은따옴표를 문자로 인식하기위한 방법\n",
        "- 큰 따옴표와 작은 따옴표를 번갈아 사용하거나, 하나만 사용한다면 백슬러시 \\ 를 사용해야 한다."
      ]
    },
    {
      "cell_type": "code",
      "source": [
        "# \"아이폰\" vs \"갤럭시\"\n",
        "print(\"\\\"아이폰\\\" vs \\\"갤럭시\\\"\")"
      ],
      "metadata": {
        "id": "_OAlOCRF9FLU",
        "colab": {
          "base_uri": "https://localhost:8080/"
        },
        "outputId": "29af52f8-d06c-4be1-bb8e-7df4d702ce0d"
      },
      "execution_count": 25,
      "outputs": [
        {
          "output_type": "stream",
          "name": "stdout",
          "text": [
            "\"아이폰\" vs \"갤럭시\"\n"
          ]
        }
      ]
    },
    {
      "cell_type": "code",
      "source": [
        "##p56\n",
        "print(\"구름이 \\n 동동 떠다닙니다.\")\n",
        "print(\"구름이 \\t 동동 떠다닙니다.\")\n",
        "print(\"구름이 \\'동동\\' 떠다닙니다.\")"
      ],
      "metadata": {
        "id": "JOLCia6SRbr6",
        "colab": {
          "base_uri": "https://localhost:8080/"
        },
        "outputId": "98e987a9-e466-4f1b-c4c6-8399a8779477"
      },
      "execution_count": 26,
      "outputs": [
        {
          "output_type": "stream",
          "name": "stdout",
          "text": [
            "구름이 \n",
            " 동동 떠다닙니다.\n",
            "구름이 \t 동동 떠다닙니다.\n",
            "구름이 '동동' 떠다닙니다.\n"
          ]
        }
      ]
    },
    {
      "cell_type": "markdown",
      "source": [
        "이스케이프 문자\n",
        "* \\n : 줄바꿈\n",
        "* \\t : 탭"
      ],
      "metadata": {
        "id": "mER6OFeC9WI6"
      }
    },
    {
      "cell_type": "code",
      "source": [],
      "metadata": {
        "id": "Wab3sZcE9iNn"
      },
      "execution_count": 26,
      "outputs": []
    },
    {
      "cell_type": "code",
      "source": [
        "##p57\n",
        "print(\"\"\"파이썬 인터프리터는\n",
        "따옴표로 묶어주면\n",
        "모두 문자열이라고 인식한다.\"\"\")"
      ],
      "metadata": {
        "id": "szfhcofLRbe6",
        "colab": {
          "base_uri": "https://localhost:8080/"
        },
        "outputId": "0a495dec-3fdf-4e51-f955-b8fd80503556"
      },
      "execution_count": 27,
      "outputs": [
        {
          "output_type": "stream",
          "name": "stdout",
          "text": [
            "파이썬 인터프리터는\n",
            "따옴표로 묶어주면\n",
            "모두 문자열이라고 인식한다.\n"
          ]
        }
      ]
    },
    {
      "cell_type": "code",
      "source": [],
      "metadata": {
        "id": "ZC4iyifBRnC2"
      },
      "execution_count": 27,
      "outputs": []
    },
    {
      "cell_type": "markdown",
      "source": [
        "## **변수**\n",
        "\n",
        "- 변수 : 값을 담는 그릇\n",
        "- 할당연산자 : 변수에 값을 할당하는 연산을 의미하는 기호"
      ],
      "metadata": {
        "id": "3DHLvmW6BDK0"
      }
    },
    {
      "cell_type": "code",
      "source": [
        "# =\n"
      ],
      "metadata": {
        "id": "nsFKjxFvSAJD"
      },
      "execution_count": 28,
      "outputs": []
    },
    {
      "cell_type": "code",
      "source": [],
      "metadata": {
        "id": "s2WXfQWxSUjS"
      },
      "execution_count": 28,
      "outputs": []
    },
    {
      "cell_type": "code",
      "source": [
        "##p58\n",
        "age = 21\n",
        "age"
      ],
      "metadata": {
        "id": "ySb_VjkTRbBL",
        "colab": {
          "base_uri": "https://localhost:8080/"
        },
        "outputId": "99f6ad82-00c8-4a1e-a4be-6629b83b6bad"
      },
      "execution_count": 29,
      "outputs": [
        {
          "output_type": "execute_result",
          "data": {
            "text/plain": [
              "21"
            ]
          },
          "metadata": {},
          "execution_count": 29
        }
      ]
    },
    {
      "cell_type": "code",
      "source": [
        "# type\n"
      ],
      "metadata": {
        "id": "JSDGAM_BBrbe"
      },
      "execution_count": 30,
      "outputs": []
    },
    {
      "cell_type": "code",
      "source": [],
      "metadata": {
        "id": "2ZrW4tXpSelj"
      },
      "execution_count": 30,
      "outputs": []
    },
    {
      "cell_type": "code",
      "source": [
        "# %whos\n",
        "%whos"
      ],
      "metadata": {
        "colab": {
          "base_uri": "https://localhost:8080/"
        },
        "id": "R8ZiCkRdBvnx",
        "outputId": "09b1524b-4ce9-44f6-a8fb-942868913b00"
      },
      "execution_count": 31,
      "outputs": [
        {
          "output_type": "stream",
          "name": "stdout",
          "text": [
            "Variable    Type                          Data/Info\n",
            "---------------------------------------------------\n",
            "acos        builtin_function_or_method    <built-in function acos>\n",
            "acosh       builtin_function_or_method    <built-in function acosh>\n",
            "age         int                           21\n",
            "asin        builtin_function_or_method    <built-in function asin>\n",
            "asinh       builtin_function_or_method    <built-in function asinh>\n",
            "atan        builtin_function_or_method    <built-in function atan>\n",
            "atan2       builtin_function_or_method    <built-in function atan2>\n",
            "atanh       builtin_function_or_method    <built-in function atanh>\n",
            "ceil        builtin_function_or_method    <built-in function ceil>\n",
            "comb        builtin_function_or_method    <built-in function comb>\n",
            "copysign    builtin_function_or_method    <built-in function copysign>\n",
            "cos         builtin_function_or_method    <built-in function cos>\n",
            "cosh        builtin_function_or_method    <built-in function cosh>\n",
            "degrees     builtin_function_or_method    <built-in function degrees>\n",
            "dist        builtin_function_or_method    <built-in function dist>\n",
            "e           float                         2.718281828459045\n",
            "erf         builtin_function_or_method    <built-in function erf>\n",
            "erfc        builtin_function_or_method    <built-in function erfc>\n",
            "exp         builtin_function_or_method    <built-in function exp>\n",
            "expm1       builtin_function_or_method    <built-in function expm1>\n",
            "fabs        builtin_function_or_method    <built-in function fabs>\n",
            "factorial   builtin_function_or_method    <built-in function factorial>\n",
            "floor       builtin_function_or_method    <built-in function floor>\n",
            "fmod        builtin_function_or_method    <built-in function fmod>\n",
            "frexp       builtin_function_or_method    <built-in function frexp>\n",
            "fsum        builtin_function_or_method    <built-in function fsum>\n",
            "gamma       builtin_function_or_method    <built-in function gamma>\n",
            "gcd         builtin_function_or_method    <built-in function gcd>\n",
            "hypot       builtin_function_or_method    <built-in function hypot>\n",
            "inf         float                         inf\n",
            "isclose     builtin_function_or_method    <built-in function isclose>\n",
            "isfinite    builtin_function_or_method    <built-in function isfinite>\n",
            "isinf       builtin_function_or_method    <built-in function isinf>\n",
            "isnan       builtin_function_or_method    <built-in function isnan>\n",
            "isqrt       builtin_function_or_method    <built-in function isqrt>\n",
            "lcm         builtin_function_or_method    <built-in function lcm>\n",
            "ldexp       builtin_function_or_method    <built-in function ldexp>\n",
            "lgamma      builtin_function_or_method    <built-in function lgamma>\n",
            "log         builtin_function_or_method    <built-in function log>\n",
            "log10       builtin_function_or_method    <built-in function log10>\n",
            "log1p       builtin_function_or_method    <built-in function log1p>\n",
            "log2        builtin_function_or_method    <built-in function log2>\n",
            "modf        builtin_function_or_method    <built-in function modf>\n",
            "nan         float                         nan\n",
            "nextafter   builtin_function_or_method    <built-in function nextafter>\n",
            "perm        builtin_function_or_method    <built-in function perm>\n",
            "pi          int                           1\n",
            "pow         builtin_function_or_method    <built-in function pow>\n",
            "prod        builtin_function_or_method    <built-in function prod>\n",
            "radians     builtin_function_or_method    <built-in function radians>\n",
            "remainder   builtin_function_or_method    <built-in function remainder>\n",
            "sin         builtin_function_or_method    <built-in function sin>\n",
            "sinh        builtin_function_or_method    <built-in function sinh>\n",
            "sqrt        builtin_function_or_method    <built-in function sqrt>\n",
            "tan         builtin_function_or_method    <built-in function tan>\n",
            "tanh        builtin_function_or_method    <built-in function tanh>\n",
            "tau         float                         6.283185307179586\n",
            "trunc       builtin_function_or_method    <built-in function trunc>\n",
            "ulp         builtin_function_or_method    <built-in function ulp>\n"
          ]
        }
      ]
    },
    {
      "cell_type": "markdown",
      "source": [
        "**파이썬이 자체적으로 사용하는 이름, 키워드**\n",
        "\n",
        "* 파이썬이 자체적으로 사용하기 위해 내부에 저장한 언어\n",
        "\n",
        "* 변수나 함수의 이름을 지을 때 사용할 수 없다."
      ],
      "metadata": {
        "id": "gBHGj9ZvVfxO"
      }
    },
    {
      "cell_type": "code",
      "source": [
        "##p60\n",
        "# 예약어 확인\n",
        "import keyword\n",
        "keyword.kwlist"
      ],
      "metadata": {
        "id": "dk4nXJzyRa4b",
        "colab": {
          "base_uri": "https://localhost:8080/"
        },
        "outputId": "b720d64c-e2ee-4d33-e2db-a96863d79516"
      },
      "execution_count": 32,
      "outputs": [
        {
          "output_type": "execute_result",
          "data": {
            "text/plain": [
              "['False',\n",
              " 'None',\n",
              " 'True',\n",
              " 'and',\n",
              " 'as',\n",
              " 'assert',\n",
              " 'async',\n",
              " 'await',\n",
              " 'break',\n",
              " 'class',\n",
              " 'continue',\n",
              " 'def',\n",
              " 'del',\n",
              " 'elif',\n",
              " 'else',\n",
              " 'except',\n",
              " 'finally',\n",
              " 'for',\n",
              " 'from',\n",
              " 'global',\n",
              " 'if',\n",
              " 'import',\n",
              " 'in',\n",
              " 'is',\n",
              " 'lambda',\n",
              " 'nonlocal',\n",
              " 'not',\n",
              " 'or',\n",
              " 'pass',\n",
              " 'raise',\n",
              " 'return',\n",
              " 'try',\n",
              " 'while',\n",
              " 'with',\n",
              " 'yield']"
            ]
          },
          "metadata": {},
          "execution_count": 32
        }
      ]
    },
    {
      "cell_type": "code",
      "source": [],
      "metadata": {
        "id": "U6NAnGLKC0Ca"
      },
      "execution_count": 32,
      "outputs": []
    },
    {
      "cell_type": "markdown",
      "source": [
        "**변수와 상수**\n",
        "\n",
        "* 변수(Variable) : 변할 수 있는 수, 저장된 값을 다른 값으로 바꿀 수 있다.\n",
        "* 상수(Constant) : 항상 같은 수, 항상 똑같은 값을 가지고 있다."
      ],
      "metadata": {
        "id": "ms_A7XZhVxm7"
      }
    },
    {
      "cell_type": "code",
      "source": [],
      "metadata": {
        "id": "1ToPYZw8UCDn"
      },
      "execution_count": 32,
      "outputs": []
    },
    {
      "cell_type": "code",
      "source": [],
      "metadata": {
        "id": "aqANQ5phTqEV"
      },
      "execution_count": 32,
      "outputs": []
    },
    {
      "cell_type": "code",
      "source": [],
      "metadata": {
        "id": "s5_RkFKQT3nO"
      },
      "execution_count": 32,
      "outputs": []
    },
    {
      "cell_type": "code",
      "source": [
        "#p61\n",
        "from math import * # math 모듈의 모든 함수를 불러옴"
      ],
      "metadata": {
        "id": "h74X0s8JRawT"
      },
      "execution_count": 33,
      "outputs": []
    },
    {
      "cell_type": "code",
      "source": [
        "# %whos\n",
        "%whos"
      ],
      "metadata": {
        "colab": {
          "base_uri": "https://localhost:8080/"
        },
        "id": "zrMgbpAuGqbz",
        "outputId": "0ed5afeb-00da-411a-a075-88aa62286449"
      },
      "execution_count": 34,
      "outputs": [
        {
          "output_type": "stream",
          "name": "stdout",
          "text": [
            "Variable    Type                          Data/Info\n",
            "---------------------------------------------------\n",
            "acos        builtin_function_or_method    <built-in function acos>\n",
            "acosh       builtin_function_or_method    <built-in function acosh>\n",
            "age         int                           21\n",
            "asin        builtin_function_or_method    <built-in function asin>\n",
            "asinh       builtin_function_or_method    <built-in function asinh>\n",
            "atan        builtin_function_or_method    <built-in function atan>\n",
            "atan2       builtin_function_or_method    <built-in function atan2>\n",
            "atanh       builtin_function_or_method    <built-in function atanh>\n",
            "ceil        builtin_function_or_method    <built-in function ceil>\n",
            "comb        builtin_function_or_method    <built-in function comb>\n",
            "copysign    builtin_function_or_method    <built-in function copysign>\n",
            "cos         builtin_function_or_method    <built-in function cos>\n",
            "cosh        builtin_function_or_method    <built-in function cosh>\n",
            "degrees     builtin_function_or_method    <built-in function degrees>\n",
            "dist        builtin_function_or_method    <built-in function dist>\n",
            "e           float                         2.718281828459045\n",
            "erf         builtin_function_or_method    <built-in function erf>\n",
            "erfc        builtin_function_or_method    <built-in function erfc>\n",
            "exp         builtin_function_or_method    <built-in function exp>\n",
            "expm1       builtin_function_or_method    <built-in function expm1>\n",
            "fabs        builtin_function_or_method    <built-in function fabs>\n",
            "factorial   builtin_function_or_method    <built-in function factorial>\n",
            "floor       builtin_function_or_method    <built-in function floor>\n",
            "fmod        builtin_function_or_method    <built-in function fmod>\n",
            "frexp       builtin_function_or_method    <built-in function frexp>\n",
            "fsum        builtin_function_or_method    <built-in function fsum>\n",
            "gamma       builtin_function_or_method    <built-in function gamma>\n",
            "gcd         builtin_function_or_method    <built-in function gcd>\n",
            "hypot       builtin_function_or_method    <built-in function hypot>\n",
            "inf         float                         inf\n",
            "isclose     builtin_function_or_method    <built-in function isclose>\n",
            "isfinite    builtin_function_or_method    <built-in function isfinite>\n",
            "isinf       builtin_function_or_method    <built-in function isinf>\n",
            "isnan       builtin_function_or_method    <built-in function isnan>\n",
            "isqrt       builtin_function_or_method    <built-in function isqrt>\n",
            "keyword     module                        <module 'keyword' from '/<...>b/python3.10/keyword.py'>\n",
            "lcm         builtin_function_or_method    <built-in function lcm>\n",
            "ldexp       builtin_function_or_method    <built-in function ldexp>\n",
            "lgamma      builtin_function_or_method    <built-in function lgamma>\n",
            "log         builtin_function_or_method    <built-in function log>\n",
            "log10       builtin_function_or_method    <built-in function log10>\n",
            "log1p       builtin_function_or_method    <built-in function log1p>\n",
            "log2        builtin_function_or_method    <built-in function log2>\n",
            "modf        builtin_function_or_method    <built-in function modf>\n",
            "nan         float                         nan\n",
            "nextafter   builtin_function_or_method    <built-in function nextafter>\n",
            "perm        builtin_function_or_method    <built-in function perm>\n",
            "pi          float                         3.141592653589793\n",
            "pow         builtin_function_or_method    <built-in function pow>\n",
            "prod        builtin_function_or_method    <built-in function prod>\n",
            "radians     builtin_function_or_method    <built-in function radians>\n",
            "remainder   builtin_function_or_method    <built-in function remainder>\n",
            "sin         builtin_function_or_method    <built-in function sin>\n",
            "sinh        builtin_function_or_method    <built-in function sinh>\n",
            "sqrt        builtin_function_or_method    <built-in function sqrt>\n",
            "tan         builtin_function_or_method    <built-in function tan>\n",
            "tanh        builtin_function_or_method    <built-in function tanh>\n",
            "tau         float                         6.283185307179586\n",
            "trunc       builtin_function_or_method    <built-in function trunc>\n",
            "ulp         builtin_function_or_method    <built-in function ulp>\n"
          ]
        }
      ]
    },
    {
      "cell_type": "code",
      "source": [
        "# 원주율 파이\n",
        "print(pi)"
      ],
      "metadata": {
        "colab": {
          "base_uri": "https://localhost:8080/"
        },
        "id": "LkY9bIy8FET_",
        "outputId": "19a6dd19-f6c7-42ed-ae59-2dca6ce6bd8f"
      },
      "execution_count": 35,
      "outputs": [
        {
          "output_type": "stream",
          "name": "stdout",
          "text": [
            "3.141592653589793\n"
          ]
        }
      ]
    },
    {
      "cell_type": "code",
      "source": [],
      "metadata": {
        "id": "sClk6DziUhXA"
      },
      "execution_count": 35,
      "outputs": []
    },
    {
      "cell_type": "code",
      "source": [],
      "metadata": {
        "id": "1n_N_wRxUjmJ"
      },
      "execution_count": 35,
      "outputs": []
    },
    {
      "cell_type": "code",
      "source": [
        "# 자연상수\n",
        "print(e)"
      ],
      "metadata": {
        "colab": {
          "base_uri": "https://localhost:8080/"
        },
        "id": "ezroGENwFG6h",
        "outputId": "28fe6c56-d904-4aa9-980a-23e35b6926d2"
      },
      "execution_count": 36,
      "outputs": [
        {
          "output_type": "stream",
          "name": "stdout",
          "text": [
            "2.718281828459045\n"
          ]
        }
      ]
    },
    {
      "cell_type": "code",
      "source": [
        "# literal의 개념\n",
        "# \"문자 그대로\"\n"
      ],
      "metadata": {
        "id": "skNyYPfWIX7V"
      },
      "execution_count": 37,
      "outputs": []
    },
    {
      "cell_type": "code",
      "source": [],
      "metadata": {
        "id": "zNcJVtxLU2pj"
      },
      "execution_count": 37,
      "outputs": []
    }
  ]
}