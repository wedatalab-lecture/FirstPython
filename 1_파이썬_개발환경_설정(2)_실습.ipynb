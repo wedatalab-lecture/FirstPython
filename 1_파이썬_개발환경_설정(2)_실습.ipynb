{
  "nbformat": 4,
  "nbformat_minor": 0,
  "metadata": {
    "colab": {
      "private_outputs": true,
      "provenance": [],
      "authorship_tag": "ABX9TyPECKsdL/Gowl5vKQKN25oX",
      "include_colab_link": true
    },
    "kernelspec": {
      "name": "python3",
      "display_name": "Python 3"
    },
    "language_info": {
      "name": "python"
    }
  },
  "cells": [
    {
      "cell_type": "markdown",
      "metadata": {
        "id": "view-in-github",
        "colab_type": "text"
      },
      "source": [
        "<a href=\"https://colab.research.google.com/github/wedatalab-lecture/FirstPython/blob/main/1_%ED%8C%8C%EC%9D%B4%EC%8D%AC_%EA%B0%9C%EB%B0%9C%ED%99%98%EA%B2%BD_%EC%84%A4%EC%A0%95(2)_%EC%8B%A4%EC%8A%B5.ipynb\" target=\"_parent\"><img src=\"https://colab.research.google.com/assets/colab-badge.svg\" alt=\"Open In Colab\"/></a>"
      ]
    },
    {
      "cell_type": "markdown",
      "source": [
        "#1.파이썬 개발환경 설정 (2)\n",
        "\n",
        "- Colab 사용법\n",
        "- 구글 드라이브와 연동\n",
        "- 라이브러리 설치하고 불러오기\n"
      ],
      "metadata": {
        "id": "hrBu-GKimVGd"
      }
    },
    {
      "cell_type": "markdown",
      "source": [
        "## **Colab 사용법**\n",
        "\n",
        "교재 p.39~42"
      ],
      "metadata": {
        "id": "2avDukPPoUwy"
      }
    },
    {
      "cell_type": "code",
      "source": [
        "# 목차 만들기\n"
      ],
      "metadata": {
        "id": "tYo38QWKow-H"
      },
      "execution_count": null,
      "outputs": []
    },
    {
      "cell_type": "code",
      "source": [
        "# 런타임 변수 확인\n"
      ],
      "metadata": {
        "id": "l4fGKxgRm0XJ"
      },
      "execution_count": null,
      "outputs": []
    },
    {
      "cell_type": "markdown",
      "source": [
        "## **구글 드라이브와 연동**\n",
        "\n",
        "교재 p.43~45\n",
        "\n",
        "\n",
        "\n",
        "\n"
      ],
      "metadata": {
        "id": "OYh7SngbKjtl"
      }
    },
    {
      "cell_type": "code",
      "source": [
        "%pwd"
      ],
      "metadata": {
        "id": "yHPsu8zzt0fU"
      },
      "execution_count": null,
      "outputs": []
    },
    {
      "cell_type": "code",
      "source": [
        "%ls -al"
      ],
      "metadata": {
        "id": "vezLGvndt6Uc"
      },
      "execution_count": null,
      "outputs": []
    },
    {
      "cell_type": "code",
      "execution_count": null,
      "metadata": {
        "id": "5T-iKexUI4Th"
      },
      "outputs": [],
      "source": [
        "# 구글 드라이브 마운트\n",
        "from google.colab import drive\n",
        "drive.mount('/content/drive')"
      ]
    },
    {
      "cell_type": "code",
      "source": [
        "# 경로 설정\n",
        "base_dir = \"/content/drive/MyDrive/Data\""
      ],
      "metadata": {
        "id": "vVZCRQ71KOZM"
      },
      "execution_count": null,
      "outputs": []
    },
    {
      "cell_type": "markdown",
      "source": [
        "## **라이브러리 설치하고 불러오기**\n",
        "\n",
        "교재 p.46~49\n",
        "\n",
        "\n",
        "\n",
        "\n",
        "\n"
      ],
      "metadata": {
        "id": "VdGisSjBLqNe"
      }
    },
    {
      "cell_type": "code",
      "source": [
        "# 내장함수 확인\n",
        "import builtins\n",
        "\n",
        "dir(builtins)"
      ],
      "metadata": {
        "id": "oiiieNchLthY"
      },
      "execution_count": null,
      "outputs": []
    },
    {
      "cell_type": "code",
      "source": [
        "# 표준 라이브러리 확인\n",
        "import sys\n",
        "\n",
        "sys.builtin_module_names\n"
      ],
      "metadata": {
        "id": "uoupBVOMLunJ"
      },
      "execution_count": null,
      "outputs": []
    },
    {
      "cell_type": "code",
      "source": [
        "# time 모듈 불러오기\n",
        "import time\n",
        "\n",
        "# 현재 시간 확인 : 세계 표준시(UTC) 기준\n",
        "time.localtime()"
      ],
      "metadata": {
        "id": "V1xA7tGQMP3B"
      },
      "execution_count": null,
      "outputs": []
    },
    {
      "cell_type": "code",
      "source": [
        "# 외부 라이브러리 설치하기\n",
        "!pip install camelcase"
      ],
      "metadata": {
        "id": "GopsSsryNj0Z"
      },
      "execution_count": null,
      "outputs": []
    },
    {
      "cell_type": "code",
      "source": [
        "# 외부 라이브러리 불러오기\n",
        "import camelcase"
      ],
      "metadata": {
        "id": "CEssh6JUvpmE"
      },
      "execution_count": null,
      "outputs": []
    },
    {
      "cell_type": "code",
      "source": [
        "# 글자 바꾸기\n",
        "c = camelcase.CamelCase()\n",
        "txt = \"hello, world!\"\n",
        "\n",
        "print(c.hump(txt))"
      ],
      "metadata": {
        "id": "zMmzmDAnNk8J"
      },
      "execution_count": null,
      "outputs": []
    },
    {
      "cell_type": "code",
      "source": [
        "# 넘파이 설치\n",
        "!pip install numpy"
      ],
      "metadata": {
        "id": "_rLk5pxov5Y1"
      },
      "execution_count": null,
      "outputs": []
    },
    {
      "cell_type": "code",
      "source": [
        "# 넘파이 불러오기\n",
        "import numpy"
      ],
      "metadata": {
        "id": "UDo-yZ5vwBXf"
      },
      "execution_count": null,
      "outputs": []
    },
    {
      "cell_type": "code",
      "source": [
        "# 넘파이 자료형, 함수 등 확인\n"
      ],
      "metadata": {
        "id": "pNgCEv8kwDFr"
      },
      "execution_count": null,
      "outputs": []
    }
  ]
}