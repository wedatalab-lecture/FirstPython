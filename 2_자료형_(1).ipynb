{
  "nbformat": 4,
  "nbformat_minor": 0,
  "metadata": {
    "colab": {
      "provenance": [],
      "toc_visible": true,
      "authorship_tag": "ABX9TyP5UORKZuDyQbXzbKN1/wlM",
      "include_colab_link": true
    },
    "kernelspec": {
      "name": "python3",
      "display_name": "Python 3"
    },
    "language_info": {
      "name": "python"
    }
  },
  "cells": [
    {
      "cell_type": "markdown",
      "metadata": {
        "id": "view-in-github",
        "colab_type": "text"
      },
      "source": [
        "<a href=\"https://colab.research.google.com/github/wedatalab-lecture/FirstPython/blob/main/2_%EC%9E%90%EB%A3%8C%ED%98%95_(1).ipynb\" target=\"_parent\"><img src=\"https://colab.research.google.com/assets/colab-badge.svg\" alt=\"Open In Colab\"/></a>"
      ]
    },
    {
      "cell_type": "markdown",
      "source": [
        "#2.자료형 (1)\n",
        "\n",
        "- 입력하기\n",
        "- 출력하기\n",
        "- 변수\n",
        "\n",
        "\n",
        "\n",
        "```\n",
        "교재\n",
        "p.53~61\n",
        "\n",
        "Ⅲ.자료형\n",
        "1.시작하기 전에 알아두자\n",
        "2.변수\n",
        "```\n",
        "\n"
      ],
      "metadata": {
        "id": "NRXnQ8_230vF"
      }
    },
    {
      "cell_type": "code",
      "source": [
        "#주석 : 설명"
      ],
      "metadata": {
        "id": "FOhR--mQ-g73"
      },
      "execution_count": 1,
      "outputs": []
    },
    {
      "cell_type": "markdown",
      "source": [
        "## **입력하기**\n",
        "- input() : 사용자의 입력을 받는 함수\n",
        "- 입력 값을 항상 문자열로 받아온다.\n",
        "- 입력 받은 값을 변수에 저장할 수 있다."
      ],
      "metadata": {
        "id": "N4fQuC_p6geP"
      }
    },
    {
      "cell_type": "code",
      "source": [
        "##p53\n",
        "\"Python\""
      ],
      "metadata": {
        "id": "d-LTBAiTOpSh",
        "colab": {
          "base_uri": "https://localhost:8080/",
          "height": 35
        },
        "outputId": "f5aa7183-1629-4c50-8a74-ba2b047d8a21"
      },
      "execution_count": 2,
      "outputs": [
        {
          "output_type": "execute_result",
          "data": {
            "text/plain": [
              "'Python'"
            ],
            "application/vnd.google.colaboratory.intrinsic+json": {
              "type": "string"
            }
          },
          "metadata": {},
          "execution_count": 2
        }
      ]
    },
    {
      "cell_type": "code",
      "source": [
        "# input(prompt)\n",
        "input(\"이름을 입력하세요\")\n"
      ],
      "metadata": {
        "id": "DITU_MZs5IE7",
        "colab": {
          "base_uri": "https://localhost:8080/",
          "height": 52
        },
        "outputId": "45c20393-e129-4383-f537-343a032d6665"
      },
      "execution_count": 3,
      "outputs": [
        {
          "name": "stdout",
          "output_type": "stream",
          "text": [
            "이름을 입력하세요박소민\n"
          ]
        },
        {
          "output_type": "execute_result",
          "data": {
            "text/plain": [
              "'박소민'"
            ],
            "application/vnd.google.colaboratory.intrinsic+json": {
              "type": "string"
            }
          },
          "metadata": {},
          "execution_count": 3
        }
      ]
    },
    {
      "cell_type": "code",
      "source": [
        "# type\n",
        "type(input(\"숫자\"))"
      ],
      "metadata": {
        "id": "-eZF91B_6GND",
        "colab": {
          "base_uri": "https://localhost:8080/"
        },
        "outputId": "1499fb46-6e1c-41e2-e371-97c0969144dd"
      },
      "execution_count": 5,
      "outputs": [
        {
          "name": "stdout",
          "output_type": "stream",
          "text": [
            "숫자1\n"
          ]
        },
        {
          "output_type": "execute_result",
          "data": {
            "text/plain": [
              "str"
            ]
          },
          "metadata": {},
          "execution_count": 5
        }
      ]
    },
    {
      "cell_type": "code",
      "source": [
        "# id\n",
        "id(input(\"숫자\"))"
      ],
      "metadata": {
        "id": "7EZ1uy7R6IfJ",
        "colab": {
          "base_uri": "https://localhost:8080/"
        },
        "outputId": "f82b4789-bcdf-45e6-b50a-732bc73abf3c"
      },
      "execution_count": 6,
      "outputs": [
        {
          "name": "stdout",
          "output_type": "stream",
          "text": [
            "숫자1\n"
          ]
        },
        {
          "output_type": "execute_result",
          "data": {
            "text/plain": [
              "140475267603568"
            ]
          },
          "metadata": {},
          "execution_count": 6
        }
      ]
    },
    {
      "cell_type": "markdown",
      "source": [
        "## **출력하기**\n",
        "\n",
        "- print() : 값을 출력해주는 함수\n",
        "- print 뒤 () 소괄호 안의 값을 출력한다.\n",
        "- 쉼표( , , , ) 로 여러 값을 출력할 수 있다."
      ],
      "metadata": {
        "id": "Eh2dtRa46wI6"
      }
    },
    {
      "cell_type": "code",
      "source": [
        "##p54\n",
        "print(\"Hello, Python!\")\n",
        "print(\"1+2\")\n",
        "print(1+2)"
      ],
      "metadata": {
        "id": "iVQLfmDrOtEq",
        "colab": {
          "base_uri": "https://localhost:8080/"
        },
        "outputId": "2e3860fa-05c0-41ea-b282-67b6416c0e31"
      },
      "execution_count": 7,
      "outputs": [
        {
          "output_type": "stream",
          "name": "stdout",
          "text": [
            "Hello, Python!\n",
            "1+2\n",
            "3\n"
          ]
        }
      ]
    },
    {
      "cell_type": "code",
      "execution_count": 8,
      "metadata": {
        "execution": {
          "iopub.execute_input": "2023-05-22T04:06:06.207130Z",
          "iopub.status.busy": "2023-05-22T04:06:06.206687Z",
          "iopub.status.idle": "2023-05-22T04:06:06.209235Z",
          "shell.execute_reply": "2023-05-22T04:06:06.208918Z",
          "shell.execute_reply.started": "2023-05-22T04:06:06.207114Z"
        },
        "id": "wFVuzb09po8f",
        "colab": {
          "base_uri": "https://localhost:8080/"
        },
        "outputId": "1f8a845d-460b-4de2-b3e4-2d8eafd1247c"
      },
      "outputs": [
        {
          "output_type": "stream",
          "name": "stdout",
          "text": [
            "1\n"
          ]
        }
      ],
      "source": [
        "print(1)    #숫자"
      ]
    },
    {
      "cell_type": "code",
      "execution_count": 9,
      "metadata": {
        "execution": {
          "iopub.execute_input": "2023-05-22T04:06:06.209870Z",
          "iopub.status.busy": "2023-05-22T04:06:06.209759Z",
          "iopub.status.idle": "2023-05-22T04:06:06.212348Z",
          "shell.execute_reply": "2023-05-22T04:06:06.212003Z",
          "shell.execute_reply.started": "2023-05-22T04:06:06.209858Z"
        },
        "id": "lirijl8wprho",
        "colab": {
          "base_uri": "https://localhost:8080/"
        },
        "outputId": "db6992c4-d7e6-40fb-f812-d26cba034b3b"
      },
      "outputs": [
        {
          "output_type": "stream",
          "name": "stdout",
          "text": [
            "1\n"
          ]
        }
      ],
      "source": [
        "print(\"1\")  #문자"
      ]
    },
    {
      "cell_type": "code",
      "execution_count": 12,
      "metadata": {
        "execution": {
          "iopub.execute_input": "2023-05-22T04:06:06.203177Z",
          "iopub.status.busy": "2023-05-22T04:06:06.202917Z",
          "iopub.status.idle": "2023-05-22T04:06:06.206125Z",
          "shell.execute_reply": "2023-05-22T04:06:06.205747Z",
          "shell.execute_reply.started": "2023-05-22T04:06:06.203157Z"
        },
        "id": "EtDmj6s3pjFh",
        "colab": {
          "base_uri": "https://localhost:8080/"
        },
        "outputId": "8834367c-8d75-4442-b4c2-4b5106b92b9c"
      },
      "outputs": [
        {
          "output_type": "stream",
          "name": "stdout",
          "text": [
            "박소민 입니다\n"
          ]
        }
      ],
      "source": [
        "# print(end = )\n",
        "print(\"박소민\", end = \" \")\n",
        "print(\"입니다\")"
      ]
    },
    {
      "cell_type": "code",
      "execution_count": 13,
      "metadata": {
        "execution": {
          "iopub.execute_input": "2023-05-22T04:06:06.216020Z",
          "iopub.status.busy": "2023-05-22T04:06:06.215903Z",
          "iopub.status.idle": "2023-05-22T04:06:06.218559Z",
          "shell.execute_reply": "2023-05-22T04:06:06.218229Z",
          "shell.execute_reply.started": "2023-05-22T04:06:06.216007Z"
        },
        "id": "ZQJ-QuXjpy8a",
        "colab": {
          "base_uri": "https://localhost:8080/"
        },
        "outputId": "7fa6bb47-d754-4c29-f80b-84b8ff64ae7a"
      },
      "outputs": [
        {
          "output_type": "stream",
          "name": "stdout",
          "text": [
            "my name is somin\n"
          ]
        }
      ],
      "source": [
        "# 여러 값을 함께 출력\n",
        "print(\"my name is\", \"somin\")"
      ]
    },
    {
      "cell_type": "code",
      "source": [
        "print(1,2,3)"
      ],
      "metadata": {
        "colab": {
          "base_uri": "https://localhost:8080/"
        },
        "id": "Jk3hYoCXPxC1",
        "outputId": "2a281ed1-125f-48f5-fcec-e7b8322b0fbd"
      },
      "execution_count": 14,
      "outputs": [
        {
          "output_type": "stream",
          "name": "stdout",
          "text": [
            "1 2 3\n"
          ]
        }
      ]
    },
    {
      "cell_type": "markdown",
      "source": [
        "**숫자 계산하기**"
      ],
      "metadata": {
        "id": "G8gxGcDP7gVX"
      }
    },
    {
      "cell_type": "code",
      "source": [
        "##p55\n",
        "5+4*3"
      ],
      "metadata": {
        "id": "pCj7VRdjOsvw",
        "colab": {
          "base_uri": "https://localhost:8080/"
        },
        "outputId": "ea8773f5-f5b0-4c21-bf95-9152c7b7cc68"
      },
      "execution_count": 17,
      "outputs": [
        {
          "output_type": "execute_result",
          "data": {
            "text/plain": [
              "17"
            ]
          },
          "metadata": {},
          "execution_count": 17
        }
      ]
    },
    {
      "cell_type": "code",
      "source": [
        "# 몫과 나머지 출력\n",
        "# 10 / 3\n",
        "print(\"몫\", 10 // 3, \"나머지\", 10%3)"
      ],
      "metadata": {
        "id": "TGifZ4AH5byJ",
        "colab": {
          "base_uri": "https://localhost:8080/"
        },
        "outputId": "6ff96ac7-1d11-414e-81e8-d67de70e0dac"
      },
      "execution_count": 19,
      "outputs": [
        {
          "output_type": "stream",
          "name": "stdout",
          "text": [
            "몫 3 나머지 1\n"
          ]
        }
      ]
    },
    {
      "cell_type": "code",
      "source": [
        "# 제곱\n",
        "print(\"2의 5제곱은?\", 2**5)"
      ],
      "metadata": {
        "id": "IT_my78u5fQT",
        "colab": {
          "base_uri": "https://localhost:8080/"
        },
        "outputId": "12ce87f2-f302-4ed2-c348-0f1fea0d962f"
      },
      "execution_count": 21,
      "outputs": [
        {
          "output_type": "stream",
          "name": "stdout",
          "text": [
            "2의 5제곱은? 32\n"
          ]
        }
      ]
    },
    {
      "cell_type": "markdown",
      "source": [
        "**문자열 출력하기**"
      ],
      "metadata": {
        "id": "U4SyDllEUo1a"
      }
    },
    {
      "cell_type": "code",
      "source": [
        "##p56\n",
        "\n",
        "print(\"파이썬은\"+ \"인터프리터이다.\")\n",
        "print(\"파이썬은\"+ \" \" + \"인터프리터이다.\")\n",
        "print(\"$\" * 10)"
      ],
      "metadata": {
        "id": "t8z-KWJNOuRX",
        "colab": {
          "base_uri": "https://localhost:8080/"
        },
        "outputId": "1f636561-ebc5-443a-ca9a-01855a67451b"
      },
      "execution_count": 22,
      "outputs": [
        {
          "output_type": "stream",
          "name": "stdout",
          "text": [
            "파이썬은인터프리터이다.\n",
            "파이썬은 인터프리터이다.\n",
            "$$$$$$$$$$\n"
          ]
        }
      ]
    },
    {
      "cell_type": "markdown",
      "source": [
        "문자열 연산자\n",
        "- ```+ : 문자끼리 연결```\n",
        "- ```* : 문자열을 해당 수만큼 반복```\n"
      ],
      "metadata": {
        "id": "Og9HbZCa8Wxq"
      }
    },
    {
      "cell_type": "code",
      "source": [],
      "metadata": {
        "id": "YmmyFq_z8SuV"
      },
      "execution_count": null,
      "outputs": []
    },
    {
      "cell_type": "code",
      "source": [
        "##p56\n",
        "# 문자열 안에 문자 쓰기\n",
        "\n",
        "print('구름이 \"동동\" 떠다닙니다.')\n",
        "print(\"구름이 ‘동동’ 떠다닙니다.\")\n",
        "print(\"구름이 \\\"동동\\\" 떠다닙니다.\")"
      ],
      "metadata": {
        "id": "W-9eUPqARb9w",
        "colab": {
          "base_uri": "https://localhost:8080/"
        },
        "outputId": "5c666938-1587-448a-c9a6-43b9a64fd026"
      },
      "execution_count": 23,
      "outputs": [
        {
          "output_type": "stream",
          "name": "stdout",
          "text": [
            "구름이 \"동동\" 떠다닙니다.\n",
            "구름이 ‘동동’ 떠다닙니다.\n",
            "구름이 \"동동\" 떠다닙니다.\n"
          ]
        }
      ]
    },
    {
      "cell_type": "markdown",
      "metadata": {
        "id": "qEWGLEkwzuBL"
      },
      "source": [
        "문자열 안에 문자 쓰기\n",
        "\n",
        "- 큰따옴표, 작은따옴표를 문자로 인식하기위한 방법\n",
        "- 큰 따옴표와 작은 따옴표를 번갈아 사용하거나, 하나만 사용한다면 백슬러시 \\ 를 사용해야 한다."
      ]
    },
    {
      "cell_type": "code",
      "source": [
        "# \"아이폰\" vs \"갤럭시\"\n",
        "print(\"\\\"아이폰\\\" vs \\\"갤럭시\\\"\")"
      ],
      "metadata": {
        "id": "_OAlOCRF9FLU",
        "colab": {
          "base_uri": "https://localhost:8080/"
        },
        "outputId": "86734cab-3eda-4245-8e3c-79f8d5c4b19e"
      },
      "execution_count": 26,
      "outputs": [
        {
          "output_type": "stream",
          "name": "stdout",
          "text": [
            "\"아이폰\" vs \"갤럭시\"\n"
          ]
        }
      ]
    },
    {
      "cell_type": "code",
      "source": [
        "##p56\n",
        "print(\"구름이 \\n 동동 떠다닙니다.\")\n",
        "print(\"구름이 \\t 동동 떠다닙니다.\")\n",
        "print(\"구름이 \\'동동\\' 떠다닙니다.\")"
      ],
      "metadata": {
        "id": "JOLCia6SRbr6",
        "colab": {
          "base_uri": "https://localhost:8080/"
        },
        "outputId": "b7f42a44-0ed4-4ac7-c8b4-1382574cab1d"
      },
      "execution_count": 27,
      "outputs": [
        {
          "output_type": "stream",
          "name": "stdout",
          "text": [
            "구름이 \n",
            " 동동 떠다닙니다.\n",
            "구름이 \t 동동 떠다닙니다.\n",
            "구름이 '동동' 떠다닙니다.\n"
          ]
        }
      ]
    },
    {
      "cell_type": "markdown",
      "source": [
        "이스케이프 문자\n",
        "* \\n : 줄바꿈\n",
        "* \\t : 탭"
      ],
      "metadata": {
        "id": "mER6OFeC9WI6"
      }
    },
    {
      "cell_type": "code",
      "source": [],
      "metadata": {
        "id": "Wab3sZcE9iNn"
      },
      "execution_count": null,
      "outputs": []
    },
    {
      "cell_type": "code",
      "source": [
        "##p57\n",
        "print(\"\"\"파이썬 인터프리터는\n",
        "따옴표로 묶어주면\n",
        "모두 문자열이라고 인식한다.\"\"\")"
      ],
      "metadata": {
        "id": "szfhcofLRbe6",
        "colab": {
          "base_uri": "https://localhost:8080/"
        },
        "outputId": "6d233fed-5160-47b2-e441-8ab4cead3de8"
      },
      "execution_count": 28,
      "outputs": [
        {
          "output_type": "stream",
          "name": "stdout",
          "text": [
            "파이썬 인터프리터는\n",
            "따옴표로 묶어주면\n",
            "모두 문자열이라고 인식한다.\n"
          ]
        }
      ]
    },
    {
      "cell_type": "code",
      "source": [
        "print(\"\"\"파이썬\n",
        "인터프리터\n",
        "      문자열\"\"\")"
      ],
      "metadata": {
        "colab": {
          "base_uri": "https://localhost:8080/"
        },
        "id": "ZC4iyifBRnC2",
        "outputId": "24f748b5-c864-4855-e978-5edbf42bbf69"
      },
      "execution_count": 30,
      "outputs": [
        {
          "output_type": "stream",
          "name": "stdout",
          "text": [
            "파이썬\n",
            "인터프리터\n",
            "      문자열\n"
          ]
        }
      ]
    },
    {
      "cell_type": "markdown",
      "source": [
        "## **변수**\n",
        "\n",
        "- 변수 : 값을 담는 그릇\n",
        "- 할당연산자 : 변수에 값을 할당하는 연산을 의미하는 기호"
      ],
      "metadata": {
        "id": "3DHLvmW6BDK0"
      }
    },
    {
      "cell_type": "code",
      "source": [
        "# =\n",
        "name = input(\"이름을 입력하세요\")"
      ],
      "metadata": {
        "colab": {
          "base_uri": "https://localhost:8080/"
        },
        "id": "nsFKjxFvSAJD",
        "outputId": "70aa2de2-7105-438d-83f1-e6e24352a215"
      },
      "execution_count": 33,
      "outputs": [
        {
          "name": "stdout",
          "output_type": "stream",
          "text": [
            "이름을 입력하세요박소민\n"
          ]
        }
      ]
    },
    {
      "cell_type": "code",
      "source": [
        "print(name)"
      ],
      "metadata": {
        "colab": {
          "base_uri": "https://localhost:8080/"
        },
        "id": "s2WXfQWxSUjS",
        "outputId": "14b1a3c3-8b0c-491d-86fb-37279580020d"
      },
      "execution_count": 34,
      "outputs": [
        {
          "output_type": "stream",
          "name": "stdout",
          "text": [
            "박소민\n"
          ]
        }
      ]
    },
    {
      "cell_type": "code",
      "source": [
        "##p58\n",
        "age = 21\n",
        "age"
      ],
      "metadata": {
        "id": "ySb_VjkTRbBL",
        "colab": {
          "base_uri": "https://localhost:8080/"
        },
        "outputId": "d1e21b3e-4d1e-447b-e0cf-2ecfa8e60bf1"
      },
      "execution_count": 35,
      "outputs": [
        {
          "output_type": "execute_result",
          "data": {
            "text/plain": [
              "21"
            ]
          },
          "metadata": {},
          "execution_count": 35
        }
      ]
    },
    {
      "cell_type": "code",
      "source": [
        "# type\n",
        "type(age)"
      ],
      "metadata": {
        "colab": {
          "base_uri": "https://localhost:8080/"
        },
        "id": "JSDGAM_BBrbe",
        "outputId": "8b2ea0dd-daa4-4a7e-91bb-16efa59e5b3d"
      },
      "execution_count": 36,
      "outputs": [
        {
          "output_type": "execute_result",
          "data": {
            "text/plain": [
              "int"
            ]
          },
          "metadata": {},
          "execution_count": 36
        }
      ]
    },
    {
      "cell_type": "code",
      "source": [
        "type(name)"
      ],
      "metadata": {
        "colab": {
          "base_uri": "https://localhost:8080/"
        },
        "id": "2ZrW4tXpSelj",
        "outputId": "475d1e5d-0b7b-4481-cde4-55a1ac813a62"
      },
      "execution_count": 37,
      "outputs": [
        {
          "output_type": "execute_result",
          "data": {
            "text/plain": [
              "str"
            ]
          },
          "metadata": {},
          "execution_count": 37
        }
      ]
    },
    {
      "cell_type": "code",
      "source": [
        "# %whos\n",
        "%whos"
      ],
      "metadata": {
        "colab": {
          "base_uri": "https://localhost:8080/"
        },
        "id": "R8ZiCkRdBvnx",
        "outputId": "874ffcc8-dd81-4606-97a3-cc7b4ad174da"
      },
      "execution_count": 38,
      "outputs": [
        {
          "output_type": "stream",
          "name": "stdout",
          "text": [
            "Variable   Type    Data/Info\n",
            "----------------------------\n",
            "age        int     21\n",
            "name       str     박소민\n"
          ]
        }
      ]
    },
    {
      "cell_type": "markdown",
      "source": [
        "**파이썬이 자체적으로 사용하는 이름, 키워드**\n",
        "\n",
        "* 파이썬이 자체적으로 사용하기 위해 내부에 저장한 언어\n",
        "\n",
        "* 변수나 함수의 이름을 지을 때 사용할 수 없다."
      ],
      "metadata": {
        "id": "gBHGj9ZvVfxO"
      }
    },
    {
      "cell_type": "code",
      "source": [
        "##p60\n",
        "# 예약어 확인\n",
        "import keyword\n",
        "keyword.kwlist"
      ],
      "metadata": {
        "id": "dk4nXJzyRa4b",
        "colab": {
          "base_uri": "https://localhost:8080/"
        },
        "outputId": "f05e3862-e53f-422f-ff2f-01bf62c6ad77"
      },
      "execution_count": 39,
      "outputs": [
        {
          "output_type": "execute_result",
          "data": {
            "text/plain": [
              "['False',\n",
              " 'None',\n",
              " 'True',\n",
              " 'and',\n",
              " 'as',\n",
              " 'assert',\n",
              " 'async',\n",
              " 'await',\n",
              " 'break',\n",
              " 'class',\n",
              " 'continue',\n",
              " 'def',\n",
              " 'del',\n",
              " 'elif',\n",
              " 'else',\n",
              " 'except',\n",
              " 'finally',\n",
              " 'for',\n",
              " 'from',\n",
              " 'global',\n",
              " 'if',\n",
              " 'import',\n",
              " 'in',\n",
              " 'is',\n",
              " 'lambda',\n",
              " 'nonlocal',\n",
              " 'not',\n",
              " 'or',\n",
              " 'pass',\n",
              " 'raise',\n",
              " 'return',\n",
              " 'try',\n",
              " 'while',\n",
              " 'with',\n",
              " 'yield']"
            ]
          },
          "metadata": {},
          "execution_count": 39
        }
      ]
    },
    {
      "cell_type": "code",
      "source": [
        "True = \"박소민\""
      ],
      "metadata": {
        "colab": {
          "base_uri": "https://localhost:8080/",
          "height": 134
        },
        "id": "U6NAnGLKC0Ca",
        "outputId": "7be2b32c-e226-47e2-8cb4-008b7a18d6e8"
      },
      "execution_count": 41,
      "outputs": [
        {
          "output_type": "error",
          "ename": "SyntaxError",
          "evalue": "ignored",
          "traceback": [
            "\u001b[0;36m  File \u001b[0;32m\"<ipython-input-41-5ec657d8690b>\"\u001b[0;36m, line \u001b[0;32m1\u001b[0m\n\u001b[0;31m    True = \"박소민\"\u001b[0m\n\u001b[0m    ^\u001b[0m\n\u001b[0;31mSyntaxError\u001b[0m\u001b[0;31m:\u001b[0m cannot assign to True\n"
          ]
        }
      ]
    },
    {
      "cell_type": "markdown",
      "source": [
        "**변수와 상수**\n",
        "\n",
        "* 변수(Variable) : 변할 수 있는 수, 저장된 값을 다른 값으로 바꿀 수 있다.\n",
        "* 상수(Constant) : 항상 같은 수, 항상 똑같은 값을 가지고 있다."
      ],
      "metadata": {
        "id": "ms_A7XZhVxm7"
      }
    },
    {
      "cell_type": "code",
      "source": [
        "print(name)"
      ],
      "metadata": {
        "colab": {
          "base_uri": "https://localhost:8080/",
          "height": 169
        },
        "id": "1ToPYZw8UCDn",
        "outputId": "5cdbac78-64f3-4db9-cfa6-02f3ac99c96d"
      },
      "execution_count": 1,
      "outputs": [
        {
          "output_type": "error",
          "ename": "NameError",
          "evalue": "ignored",
          "traceback": [
            "\u001b[0;31m---------------------------------------------------------------------------\u001b[0m",
            "\u001b[0;31mNameError\u001b[0m                                 Traceback (most recent call last)",
            "\u001b[0;32m<ipython-input-1-9ba126b17b03>\u001b[0m in \u001b[0;36m<cell line: 1>\u001b[0;34m()\u001b[0m\n\u001b[0;32m----> 1\u001b[0;31m \u001b[0mprint\u001b[0m\u001b[0;34m(\u001b[0m\u001b[0mname\u001b[0m\u001b[0;34m)\u001b[0m\u001b[0;34m\u001b[0m\u001b[0;34m\u001b[0m\u001b[0m\n\u001b[0m",
            "\u001b[0;31mNameError\u001b[0m: name 'name' is not defined"
          ]
        }
      ]
    },
    {
      "cell_type": "code",
      "source": [
        "name = \"박소민\"\n",
        "print(name)"
      ],
      "metadata": {
        "colab": {
          "base_uri": "https://localhost:8080/"
        },
        "id": "aqANQ5phTqEV",
        "outputId": "5881f669-6d5d-44bb-b7f6-737ec93b85e4"
      },
      "execution_count": 46,
      "outputs": [
        {
          "output_type": "stream",
          "name": "stdout",
          "text": [
            "박소민\n"
          ]
        }
      ]
    },
    {
      "cell_type": "code",
      "source": [
        "name = \"맞아용\"\n",
        "print(name)"
      ],
      "metadata": {
        "colab": {
          "base_uri": "https://localhost:8080/"
        },
        "id": "s5_RkFKQT3nO",
        "outputId": "93630171-946a-44e6-def3-d70ee61f83b7"
      },
      "execution_count": 47,
      "outputs": [
        {
          "output_type": "stream",
          "name": "stdout",
          "text": [
            "맞아용\n"
          ]
        }
      ]
    },
    {
      "cell_type": "code",
      "source": [
        "#p61\n",
        "from math import * # math 모듈의 모든 함수를 불러옴"
      ],
      "metadata": {
        "id": "h74X0s8JRawT"
      },
      "execution_count": 2,
      "outputs": []
    },
    {
      "cell_type": "code",
      "source": [
        "# %whos\n",
        "%whos"
      ],
      "metadata": {
        "colab": {
          "base_uri": "https://localhost:8080/"
        },
        "id": "zrMgbpAuGqbz",
        "outputId": "18a455d3-6e84-439c-c60e-b2e2a0ed59fc"
      },
      "execution_count": 3,
      "outputs": [
        {
          "output_type": "stream",
          "name": "stdout",
          "text": [
            "Variable    Type                          Data/Info\n",
            "---------------------------------------------------\n",
            "acos        builtin_function_or_method    <built-in function acos>\n",
            "acosh       builtin_function_or_method    <built-in function acosh>\n",
            "asin        builtin_function_or_method    <built-in function asin>\n",
            "asinh       builtin_function_or_method    <built-in function asinh>\n",
            "atan        builtin_function_or_method    <built-in function atan>\n",
            "atan2       builtin_function_or_method    <built-in function atan2>\n",
            "atanh       builtin_function_or_method    <built-in function atanh>\n",
            "ceil        builtin_function_or_method    <built-in function ceil>\n",
            "comb        builtin_function_or_method    <built-in function comb>\n",
            "copysign    builtin_function_or_method    <built-in function copysign>\n",
            "cos         builtin_function_or_method    <built-in function cos>\n",
            "cosh        builtin_function_or_method    <built-in function cosh>\n",
            "degrees     builtin_function_or_method    <built-in function degrees>\n",
            "dist        builtin_function_or_method    <built-in function dist>\n",
            "e           float                         2.718281828459045\n",
            "erf         builtin_function_or_method    <built-in function erf>\n",
            "erfc        builtin_function_or_method    <built-in function erfc>\n",
            "exp         builtin_function_or_method    <built-in function exp>\n",
            "expm1       builtin_function_or_method    <built-in function expm1>\n",
            "fabs        builtin_function_or_method    <built-in function fabs>\n",
            "factorial   builtin_function_or_method    <built-in function factorial>\n",
            "floor       builtin_function_or_method    <built-in function floor>\n",
            "fmod        builtin_function_or_method    <built-in function fmod>\n",
            "frexp       builtin_function_or_method    <built-in function frexp>\n",
            "fsum        builtin_function_or_method    <built-in function fsum>\n",
            "gamma       builtin_function_or_method    <built-in function gamma>\n",
            "gcd         builtin_function_or_method    <built-in function gcd>\n",
            "hypot       builtin_function_or_method    <built-in function hypot>\n",
            "inf         float                         inf\n",
            "isclose     builtin_function_or_method    <built-in function isclose>\n",
            "isfinite    builtin_function_or_method    <built-in function isfinite>\n",
            "isinf       builtin_function_or_method    <built-in function isinf>\n",
            "isnan       builtin_function_or_method    <built-in function isnan>\n",
            "isqrt       builtin_function_or_method    <built-in function isqrt>\n",
            "lcm         builtin_function_or_method    <built-in function lcm>\n",
            "ldexp       builtin_function_or_method    <built-in function ldexp>\n",
            "lgamma      builtin_function_or_method    <built-in function lgamma>\n",
            "log         builtin_function_or_method    <built-in function log>\n",
            "log10       builtin_function_or_method    <built-in function log10>\n",
            "log1p       builtin_function_or_method    <built-in function log1p>\n",
            "log2        builtin_function_or_method    <built-in function log2>\n",
            "modf        builtin_function_or_method    <built-in function modf>\n",
            "nan         float                         nan\n",
            "nextafter   builtin_function_or_method    <built-in function nextafter>\n",
            "perm        builtin_function_or_method    <built-in function perm>\n",
            "pi          float                         3.141592653589793\n",
            "pow         builtin_function_or_method    <built-in function pow>\n",
            "prod        builtin_function_or_method    <built-in function prod>\n",
            "radians     builtin_function_or_method    <built-in function radians>\n",
            "remainder   builtin_function_or_method    <built-in function remainder>\n",
            "sin         builtin_function_or_method    <built-in function sin>\n",
            "sinh        builtin_function_or_method    <built-in function sinh>\n",
            "sqrt        builtin_function_or_method    <built-in function sqrt>\n",
            "tan         builtin_function_or_method    <built-in function tan>\n",
            "tanh        builtin_function_or_method    <built-in function tanh>\n",
            "tau         float                         6.283185307179586\n",
            "trunc       builtin_function_or_method    <built-in function trunc>\n",
            "ulp         builtin_function_or_method    <built-in function ulp>\n"
          ]
        }
      ]
    },
    {
      "cell_type": "code",
      "source": [
        "# 원주율 파이\n",
        "print(pi)"
      ],
      "metadata": {
        "colab": {
          "base_uri": "https://localhost:8080/"
        },
        "id": "LkY9bIy8FET_",
        "outputId": "b67bf08c-289a-4f3f-e82a-779db02b4119"
      },
      "execution_count": 4,
      "outputs": [
        {
          "output_type": "stream",
          "name": "stdout",
          "text": [
            "3.141592653589793\n"
          ]
        }
      ]
    },
    {
      "cell_type": "code",
      "source": [
        "pi = 1"
      ],
      "metadata": {
        "id": "sClk6DziUhXA"
      },
      "execution_count": 5,
      "outputs": []
    },
    {
      "cell_type": "code",
      "source": [
        "print(pi)"
      ],
      "metadata": {
        "colab": {
          "base_uri": "https://localhost:8080/"
        },
        "id": "1n_N_wRxUjmJ",
        "outputId": "e3862f7e-2fde-4ed8-bb34-4a906c2e8a97"
      },
      "execution_count": 6,
      "outputs": [
        {
          "output_type": "stream",
          "name": "stdout",
          "text": [
            "1\n"
          ]
        }
      ]
    },
    {
      "cell_type": "code",
      "source": [
        "# 자연상수\n",
        "print(e)"
      ],
      "metadata": {
        "colab": {
          "base_uri": "https://localhost:8080/"
        },
        "id": "ezroGENwFG6h",
        "outputId": "5d131fa4-8c01-4971-abdf-84469eff7abb"
      },
      "execution_count": 7,
      "outputs": [
        {
          "output_type": "stream",
          "name": "stdout",
          "text": [
            "2.718281828459045\n"
          ]
        }
      ]
    },
    {
      "cell_type": "code",
      "source": [
        "# literal의 개념\n",
        "# \"문자 그대로\"\n",
        "1"
      ],
      "metadata": {
        "colab": {
          "base_uri": "https://localhost:8080/"
        },
        "id": "skNyYPfWIX7V",
        "outputId": "4ef5ef89-b76c-43de-d8fb-c98f06acd995"
      },
      "execution_count": 8,
      "outputs": [
        {
          "output_type": "execute_result",
          "data": {
            "text/plain": [
              "1"
            ]
          },
          "metadata": {},
          "execution_count": 8
        }
      ]
    },
    {
      "cell_type": "code",
      "source": [
        "\"박소민\""
      ],
      "metadata": {
        "colab": {
          "base_uri": "https://localhost:8080/",
          "height": 35
        },
        "id": "zNcJVtxLU2pj",
        "outputId": "1a3aa828-0f32-4598-f244-cb01adee4d1d"
      },
      "execution_count": 9,
      "outputs": [
        {
          "output_type": "execute_result",
          "data": {
            "text/plain": [
              "'박소민'"
            ],
            "application/vnd.google.colaboratory.intrinsic+json": {
              "type": "string"
            }
          },
          "metadata": {},
          "execution_count": 9
        }
      ]
    }
  ]
}