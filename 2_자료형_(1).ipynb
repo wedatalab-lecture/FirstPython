{
  "nbformat": 4,
  "nbformat_minor": 0,
  "metadata": {
    "colab": {
      "private_outputs": true,
      "provenance": [],
      "authorship_tag": "ABX9TyPBBdcYeXGX7TjL2lfXz4hl",
      "include_colab_link": true
    },
    "kernelspec": {
      "name": "python3",
      "display_name": "Python 3"
    },
    "language_info": {
      "name": "python"
    }
  },
  "cells": [
    {
      "cell_type": "markdown",
      "metadata": {
        "id": "view-in-github",
        "colab_type": "text"
      },
      "source": [
        "<a href=\"https://colab.research.google.com/github/wedatalab-lecture/FirstPython/blob/main/2_%EC%9E%90%EB%A3%8C%ED%98%95_(1).ipynb\" target=\"_parent\"><img src=\"https://colab.research.google.com/assets/colab-badge.svg\" alt=\"Open In Colab\"/></a>"
      ]
    },
    {
      "cell_type": "markdown",
      "source": [
        "#2.자료형 (1)\n",
        "\n",
        "- 입력하기\n",
        "- 출력하기\n",
        "\n",
        "\n",
        "\n",
        "```\n",
        "교재\n",
        "p.53~57\n",
        "\n",
        "Ⅲ.자료형\n",
        "1.시작하기 전에 알아두자\n",
        "```\n",
        "\n"
      ],
      "metadata": {
        "id": "NRXnQ8_230vF"
      }
    },
    {
      "cell_type": "code",
      "source": [
        "#주석\n"
      ],
      "metadata": {
        "id": "FOhR--mQ-g73"
      },
      "execution_count": null,
      "outputs": []
    },
    {
      "cell_type": "markdown",
      "source": [
        "## **입력하기**\n",
        "- input() : 사용자의 입력을 받는 함수\n",
        "- 입력 값을 항상 문자열로 받아온다.\n",
        "- 입력 받은 값을 변수에 저장할 수 있다."
      ],
      "metadata": {
        "id": "N4fQuC_p6geP"
      }
    },
    {
      "cell_type": "code",
      "source": [
        "#p53\n",
        "\"Python\""
      ],
      "metadata": {
        "id": "d-LTBAiTOpSh"
      },
      "execution_count": null,
      "outputs": []
    },
    {
      "cell_type": "code",
      "source": [
        "# input(prompt)\n"
      ],
      "metadata": {
        "id": "DITU_MZs5IE7"
      },
      "execution_count": null,
      "outputs": []
    },
    {
      "cell_type": "code",
      "source": [
        "# type\n"
      ],
      "metadata": {
        "id": "-eZF91B_6GND"
      },
      "execution_count": null,
      "outputs": []
    },
    {
      "cell_type": "code",
      "source": [
        "# id\n"
      ],
      "metadata": {
        "id": "7EZ1uy7R6IfJ"
      },
      "execution_count": null,
      "outputs": []
    },
    {
      "cell_type": "markdown",
      "source": [
        "## **출력하기**\n",
        "\n",
        "- print() : 값을 출력해주는 함수\n",
        "- print 뒤 () 소괄호 안의 값을 출력한다.\n",
        "- 쉼표( , , , ) 로 여러 값을 출력할 수 있다."
      ],
      "metadata": {
        "id": "Eh2dtRa46wI6"
      }
    },
    {
      "cell_type": "code",
      "source": [
        "#p54\n",
        "print(\"Hello, Python!\")\n",
        "print(\"1+2\")\n",
        "print(1+2)"
      ],
      "metadata": {
        "id": "iVQLfmDrOtEq"
      },
      "execution_count": null,
      "outputs": []
    },
    {
      "cell_type": "code",
      "execution_count": null,
      "metadata": {
        "execution": {
          "iopub.execute_input": "2023-05-22T04:06:06.207130Z",
          "iopub.status.busy": "2023-05-22T04:06:06.206687Z",
          "iopub.status.idle": "2023-05-22T04:06:06.209235Z",
          "shell.execute_reply": "2023-05-22T04:06:06.208918Z",
          "shell.execute_reply.started": "2023-05-22T04:06:06.207114Z"
        },
        "id": "wFVuzb09po8f"
      },
      "outputs": [],
      "source": [
        "print(1)    #숫자"
      ]
    },
    {
      "cell_type": "code",
      "execution_count": null,
      "metadata": {
        "execution": {
          "iopub.execute_input": "2023-05-22T04:06:06.209870Z",
          "iopub.status.busy": "2023-05-22T04:06:06.209759Z",
          "iopub.status.idle": "2023-05-22T04:06:06.212348Z",
          "shell.execute_reply": "2023-05-22T04:06:06.212003Z",
          "shell.execute_reply.started": "2023-05-22T04:06:06.209858Z"
        },
        "id": "lirijl8wprho"
      },
      "outputs": [],
      "source": [
        "print(\"1\")  #문자"
      ]
    },
    {
      "cell_type": "code",
      "execution_count": null,
      "metadata": {
        "execution": {
          "iopub.execute_input": "2023-05-22T04:06:06.203177Z",
          "iopub.status.busy": "2023-05-22T04:06:06.202917Z",
          "iopub.status.idle": "2023-05-22T04:06:06.206125Z",
          "shell.execute_reply": "2023-05-22T04:06:06.205747Z",
          "shell.execute_reply.started": "2023-05-22T04:06:06.203157Z"
        },
        "id": "EtDmj6s3pjFh"
      },
      "outputs": [],
      "source": [
        "# print(end = )\n",
        "print(\"박소민\", end = \" \")\n",
        "print(\"입니다\")"
      ]
    },
    {
      "cell_type": "code",
      "execution_count": null,
      "metadata": {
        "execution": {
          "iopub.execute_input": "2023-05-22T04:06:06.216020Z",
          "iopub.status.busy": "2023-05-22T04:06:06.215903Z",
          "iopub.status.idle": "2023-05-22T04:06:06.218559Z",
          "shell.execute_reply": "2023-05-22T04:06:06.218229Z",
          "shell.execute_reply.started": "2023-05-22T04:06:06.216007Z"
        },
        "id": "ZQJ-QuXjpy8a"
      },
      "outputs": [],
      "source": [
        "# 여러 값을 함께 출력\n",
        "print(\"my name is\", \"somin\")"
      ]
    },
    {
      "cell_type": "markdown",
      "source": [
        "**숫자 계산하기**"
      ],
      "metadata": {
        "id": "G8gxGcDP7gVX"
      }
    },
    {
      "cell_type": "code",
      "source": [
        "#p55\n",
        "5+4*3"
      ],
      "metadata": {
        "id": "pCj7VRdjOsvw"
      },
      "execution_count": null,
      "outputs": []
    },
    {
      "cell_type": "code",
      "source": [
        "# 몫과 나머지 출력\n"
      ],
      "metadata": {
        "id": "TGifZ4AH5byJ"
      },
      "execution_count": null,
      "outputs": []
    },
    {
      "cell_type": "code",
      "source": [
        "# 제곱\n"
      ],
      "metadata": {
        "id": "IT_my78u5fQT"
      },
      "execution_count": null,
      "outputs": []
    },
    {
      "cell_type": "markdown",
      "source": [
        "**문자열 출력하기**"
      ],
      "metadata": {
        "id": "U4SyDllEUo1a"
      }
    },
    {
      "cell_type": "code",
      "source": [
        "#p56\n",
        "\n",
        "print(\"파이썬은\"+ \"인터프리터이다.\")\n",
        "print(\"파이썬은\"+ \" \" + \"인터프리터이다.\")\n",
        "print(\"$\" * 10)"
      ],
      "metadata": {
        "id": "t8z-KWJNOuRX"
      },
      "execution_count": null,
      "outputs": []
    },
    {
      "cell_type": "markdown",
      "source": [
        "문자열 연산자\n",
        "- ```+ : 문자끼리 연결```\n",
        "- ```* : 문자열을 해당 수만큼 반복```\n"
      ],
      "metadata": {
        "id": "Og9HbZCa8Wxq"
      }
    },
    {
      "cell_type": "code",
      "source": [],
      "metadata": {
        "id": "YmmyFq_z8SuV"
      },
      "execution_count": null,
      "outputs": []
    },
    {
      "cell_type": "code",
      "source": [
        "#p56\n",
        "# 문자열 안에 문자 쓰기\n",
        "\n",
        "print('구름이 \"동동\" 떠다닙니다.')\n",
        "print(\"구름이 ‘동동’ 떠다닙니다.\")\n",
        "print(\"구름이 \\\"동동\\\" 떠다닙니다.\")"
      ],
      "metadata": {
        "id": "W-9eUPqARb9w"
      },
      "execution_count": null,
      "outputs": []
    },
    {
      "cell_type": "markdown",
      "metadata": {
        "id": "qEWGLEkwzuBL"
      },
      "source": [
        "문자열 안에 문자 쓰기\n",
        "\n",
        "- 큰따옴표, 작은따옴표를 문자로 인식하기위한 방법\n",
        "- 큰 따옴표와 작은 따옴표를 번갈아 사용하거나, 하나만 사용한다면 백슬러시 \\ 를 사용해야 한다."
      ]
    },
    {
      "cell_type": "code",
      "source": [
        "# \"아이폰\" vs \"갤럭시\"\n"
      ],
      "metadata": {
        "id": "_OAlOCRF9FLU"
      },
      "execution_count": null,
      "outputs": []
    },
    {
      "cell_type": "code",
      "source": [
        "#p56\n",
        "print(\"구름이 \\n 동동 떠다닙니다.\")\n",
        "print(\"구름이 \\t 동동 떠다닙니다.\")\n",
        "print(\"구름이 \\'동동\\' 떠다닙니다.\")"
      ],
      "metadata": {
        "id": "JOLCia6SRbr6"
      },
      "execution_count": null,
      "outputs": []
    },
    {
      "cell_type": "markdown",
      "source": [
        "이스케이프 문자\n",
        "* /n : 줄바꿈\n",
        "* /t : 탭"
      ],
      "metadata": {
        "id": "mER6OFeC9WI6"
      }
    },
    {
      "cell_type": "code",
      "source": [],
      "metadata": {
        "id": "Wab3sZcE9iNn"
      },
      "execution_count": null,
      "outputs": []
    },
    {
      "cell_type": "code",
      "source": [
        "#p57\n",
        "print(\"\"\"파이썬 인터프리터는\n",
        "따옴표로 묶어주면\n",
        "모두 문자열이라고 인식한다.\"\"\")"
      ],
      "metadata": {
        "id": "szfhcofLRbe6"
      },
      "execution_count": null,
      "outputs": []
    }
  ]
}