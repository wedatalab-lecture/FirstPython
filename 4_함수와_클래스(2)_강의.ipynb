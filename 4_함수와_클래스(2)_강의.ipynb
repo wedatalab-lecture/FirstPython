{
  "nbformat": 4,
  "nbformat_minor": 0,
  "metadata": {
    "colab": {
      "private_outputs": true,
      "provenance": [],
      "toc_visible": true,
      "authorship_tag": "ABX9TyP220OpYE+NZSdxrz2puLow",
      "include_colab_link": true
    },
    "kernelspec": {
      "name": "python3",
      "display_name": "Python 3"
    },
    "language_info": {
      "name": "python"
    }
  },
  "cells": [
    {
      "cell_type": "markdown",
      "metadata": {
        "id": "view-in-github",
        "colab_type": "text"
      },
      "source": [
        "<a href=\"https://colab.research.google.com/github/wedatalab-lecture/FirstPython/blob/main/4_%ED%95%A8%EC%88%98%EC%99%80_%ED%81%B4%EB%9E%98%EC%8A%A4(2)_%EA%B0%95%EC%9D%98.ipynb\" target=\"_parent\"><img src=\"https://colab.research.google.com/assets/colab-badge.svg\" alt=\"Open In Colab\"/></a>"
      ]
    },
    {
      "cell_type": "markdown",
      "source": [
        "\n",
        "#4.함수와 클래스 (2)\n",
        "\n",
        "- 클래스와 인스턴스\n",
        "- 클래스 안 변수와 메서드\n",
        "- 클래스 상속\n",
        "\n",
        "```\n",
        "교재 : \"비전공자를 위한 처음 만나는 파이썬\"(권건우 외 7명 저)\n",
        "\n",
        "p.123 ~ 130\n",
        "\n",
        "Ⅴ.함수와 클래스\n",
        "    2. 클래스\n",
        "```\n",
        "\n"
      ],
      "metadata": {
        "id": "NRXnQ8_230vF"
      }
    },
    {
      "cell_type": "markdown",
      "source": [
        "##**클래스와 인스턴스**\n",
        "\n",
        "- 파이썬의 모든 데이터는 객체이다.\n",
        "- 클래스는 이 객체를 만들어내는 설계도면이라고 할 수 있다.\n",
        "- 붕어빵틀(클래스) --> 붕어빵(클래스로 만든 내용물)로 비유할 수 있다.\n",
        "- 클래스 안에는 여러 변수, 함수 등이 포함될 수 있다.\n",
        "\n",
        "* 클래스 더 알아보기 :\n",
        "https://docs.python.org/3/tutorial/classes.html#\n",
        "\n",
        "\n"
      ],
      "metadata": {
        "id": "ICtkp14k8S2A"
      }
    },
    {
      "cell_type": "markdown",
      "source": [
        "**클래스 정의**\n",
        "\n",
        "```\n",
        "class ClassName:\n",
        "    클래스 내용\n",
        "```\n",
        "\n",
        "* 클래스 정의 더 알아보기 : https://docs.python.org/3/tutorial/classes.html#a-first-look-at-classes\n"
      ],
      "metadata": {
        "id": "bpImWZplFSow"
      }
    },
    {
      "cell_type": "code",
      "source": [
        "#p124\n",
        "# 가장 기본적인 형태의 클래스 만들기\n",
        "class FirstClass:\n",
        "  pass # 아무 동작도 안 하는 클래스 생성"
      ],
      "metadata": {
        "id": "wym2ThspsIH7"
      },
      "execution_count": null,
      "outputs": []
    },
    {
      "cell_type": "code",
      "source": [
        "%whos"
      ],
      "metadata": {
        "id": "w754gp3tI9rL"
      },
      "execution_count": null,
      "outputs": []
    },
    {
      "cell_type": "markdown",
      "source": [
        "**인스턴스(instance) 생성**\n",
        "\n",
        "- 하나의 클래스로 여러 개의 객체를 생성할 수 있다.\n",
        "- 클래스로 만든 객체를 인스턴스라고 한다.\n",
        "- 객체에는 변수도 있고 함수도 있다.\n",
        "\n",
        "* 인스턴스 더 알아보기 : https://docs.python.org/3/tutorial/classes.html#instance-objects"
      ],
      "metadata": {
        "id": "YmBcV09LJEqP"
      }
    },
    {
      "cell_type": "code",
      "source": [
        "# 인스턴스화(instantiation)\n",
        "first_instance1 = FirstClass()\n",
        "first_instance2 = FirstClass()"
      ],
      "metadata": {
        "id": "lskmrCUDsH5P"
      },
      "execution_count": null,
      "outputs": []
    },
    {
      "cell_type": "code",
      "source": [
        "print(type(first_instance1))\n",
        "print(type(first_instance2))"
      ],
      "metadata": {
        "id": "UapXFxL1sHot"
      },
      "execution_count": null,
      "outputs": []
    },
    {
      "cell_type": "code",
      "source": [
        "%whos"
      ],
      "metadata": {
        "id": "vUxH2_9QKX8x"
      },
      "execution_count": null,
      "outputs": []
    },
    {
      "cell_type": "code",
      "source": [
        "a = 10\n",
        "%whos\n"
      ],
      "metadata": {
        "id": "afee0h469H93"
      },
      "execution_count": null,
      "outputs": []
    },
    {
      "cell_type": "markdown",
      "source": [
        "##**클래스 안 변수와 메서드(method)**\n",
        "\n",
        "- 클래스 객체는 속성참조와 인스턴스화라는 두 가지 작업을 지원한다.\n",
        "\n",
        "- 그 중 속성 참조는 클래스 안 변수와 함수를 object.name의 문법으로 사용하는 것을 말한다.\n",
        "\n"
      ],
      "metadata": {
        "id": "B5rlDQG9z0k3"
      }
    },
    {
      "cell_type": "markdown",
      "source": [
        "**클래스 안 변수 생성**\n",
        "\n",
        "서로 다른 인스턴스여도 클래스가 같으면 클래스 내의 변수를 공유한다."
      ],
      "metadata": {
        "id": "dtmEe_srNgf2"
      }
    },
    {
      "cell_type": "code",
      "source": [
        "#p125\n",
        "class Book:\n",
        "  author = \"lunabooks\" # 변수 생성"
      ],
      "metadata": {
        "id": "qMG6s-E_sGnZ"
      },
      "execution_count": null,
      "outputs": []
    },
    {
      "cell_type": "code",
      "source": [
        "book_author1 = Book()\n",
        "book_author2 = Book()"
      ],
      "metadata": {
        "id": "6sIl5tlIsGdL"
      },
      "execution_count": null,
      "outputs": []
    },
    {
      "cell_type": "code",
      "source": [
        "book_author1.author"
      ],
      "metadata": {
        "id": "ttuy34fV9xhN"
      },
      "execution_count": null,
      "outputs": []
    },
    {
      "cell_type": "code",
      "source": [
        "print(id(book_author1))\n",
        "print(id(book_author2))"
      ],
      "metadata": {
        "id": "8KBlKqDu-GV2"
      },
      "execution_count": null,
      "outputs": []
    },
    {
      "cell_type": "code",
      "source": [
        "print(book_author1.author)\n",
        "print(book_author2.author)"
      ],
      "metadata": {
        "id": "X0m_rECj9wj_"
      },
      "execution_count": null,
      "outputs": []
    },
    {
      "cell_type": "markdown",
      "source": [
        "**메서드(method) 생성**\n",
        "\n",
        "* 메서드는 클래스 안에서 정의된 함수를 말한다.\n",
        "* 메서드 더 알아보기 : https://docs.python.org/3/tutorial/classes.html#method-objects"
      ],
      "metadata": {
        "id": "eT0y-C9BNpIZ"
      }
    },
    {
      "cell_type": "code",
      "source": [
        "# 문자열의 메서드 확인\n",
        "s = \"abc\"\n",
        "# s."
      ],
      "metadata": {
        "id": "PaMnG7IdOJKA"
      },
      "execution_count": null,
      "outputs": []
    },
    {
      "cell_type": "code",
      "source": [
        "# self 인자를 사용 안했을때\n",
        "class Book:\n",
        "    author = \"LunaFine\"\n",
        "    def title():\n",
        "        return \"FirstPython\""
      ],
      "metadata": {
        "id": "EuJdwsZl-lZJ"
      },
      "execution_count": null,
      "outputs": []
    },
    {
      "cell_type": "code",
      "source": [
        "ins1 = Book()"
      ],
      "metadata": {
        "id": "jtc2hDub-x6u"
      },
      "execution_count": null,
      "outputs": []
    },
    {
      "cell_type": "code",
      "source": [
        "ins1.title()"
      ],
      "metadata": {
        "id": "djVq5zUe-1Km"
      },
      "execution_count": null,
      "outputs": []
    },
    {
      "cell_type": "code",
      "source": [
        "#p126\n",
        "# self.author 사용 안했을때\n",
        "class Book: # 클래스 생성\n",
        "    author = \"lunabooks\"\n",
        "\n",
        "    def title(self): # 메서드 생성\n",
        "        name = \"my first python by \" + author\n",
        "        return name\n",
        "\n",
        "first_book = Book()\n",
        "first_book.title()"
      ],
      "metadata": {
        "id": "duZ6KGy7sGYI"
      },
      "execution_count": null,
      "outputs": []
    },
    {
      "cell_type": "code",
      "source": [
        "#p126\n",
        "# self.author 사용\n",
        "class Book:\n",
        "  author = \"lunabooks\"\n",
        "\n",
        "  def title(self):\n",
        "    name = \"my first python by \" + self.author\n",
        "    return name\n",
        "first_book = Book()\n",
        "first_book.title()\n"
      ],
      "metadata": {
        "id": "lz4HjybfsGTx"
      },
      "execution_count": null,
      "outputs": []
    },
    {
      "cell_type": "markdown",
      "source": [
        "**self란?**\n",
        "- 클래스 안에서 함수를 정의할 때는 일반 함수와는 다르게 첫번째 인자로 self라는 키워드를 사용해야 한다.\n",
        "- 클래스의 메소드를 호출하면 내부적으로 한개의 인자가 전달되기 때문이다.\n",
        "- self 이외에 다른 이름을 사용하여도 되지만 보통 self라는 이름으로 사용한다."
      ],
      "metadata": {
        "id": "AlspjdBZON9J"
      }
    },
    {
      "cell_type": "code",
      "source": [
        "# self의 정체 확인하기\n",
        "class Book:\n",
        "  auhtor = \"lunabooks\"\n",
        "\n",
        "  def title(self):\n",
        "    name = \"my first python by \" + self.auhtor\n",
        "    print(\"self의 id==\", id(self)) # self의 메모리 주소 출력\n",
        "    return name\n",
        "first_book = Book()\n",
        "print(\"클래스 Book의 id==\",id(Book))\n",
        "print(\"인스턴스 first_book의 id==\", id(first_book))\n",
        "first_book.title()\n",
        "\n",
        "# 참고 : 실행 할때마다 각 객체의 id값은 다르게 나올 수 있음.\n",
        "# 인스턴스의 id가 self의 id와 같은지 확인하면 됩니다."
      ],
      "metadata": {
        "id": "hJibxXPtOdTO"
      },
      "execution_count": null,
      "outputs": []
    },
    {
      "cell_type": "markdown",
      "source": [
        "* self, 즉 함수의 첫번째 인자로 전달되는 것은 인스턴스 자기 자신이다.\n",
        "* self.author를 통해서 Book클래스의 author변수를 전달 할 수 있는 것이다."
      ],
      "metadata": {
        "id": "NEbTubqmP4ml"
      }
    },
    {
      "cell_type": "code",
      "source": [
        "#p127\n",
        "# 함수의 인자가 전달되지 않는 경우\n",
        "class Book:\n",
        "  def price():\n",
        "    return 15000\n",
        "\n",
        "book_price = Book()\n",
        "book_price.price()\n"
      ],
      "metadata": {
        "id": "fvAiz_LzsGPN"
      },
      "execution_count": null,
      "outputs": []
    },
    {
      "cell_type": "code",
      "source": [
        "# 첫번째 인자로 self를 전달\n",
        "class Book:\n",
        "  def price(self):\n",
        "    return 15000\n",
        "\n",
        "book_price = Book()\n",
        "book_price.price()"
      ],
      "metadata": {
        "id": "1zTzXlhjowOR"
      },
      "execution_count": null,
      "outputs": []
    },
    {
      "cell_type": "markdown",
      "source": [
        "**특수한 메서드**\n",
        "\n",
        "* 대표적으로 초깃값을 설정하는 __init__() 메서드가 있다.\n",
        "* 특정한 초깃값으로 인스턴스를 생성할 수 있다.\n",
        "\n",
        "```\n",
        "def __init__(self):\n",
        "    self.data = []\n",
        "```"
      ],
      "metadata": {
        "id": "5mn6BdswChYy"
      }
    },
    {
      "cell_type": "code",
      "source": [
        "# 예제\n",
        "class Complex:\n",
        "    def __init__(self, realpart, imagpart):\n",
        "        self.r = realpart\n",
        "        self.i = imagpart"
      ],
      "metadata": {
        "id": "3POyRmCmRzkt"
      },
      "execution_count": null,
      "outputs": []
    },
    {
      "cell_type": "code",
      "source": [
        "# 인스턴스 생성할때 클래스 안에 초깃값 전달\n",
        "x = Complex(3.0, -4.5)"
      ],
      "metadata": {
        "id": "IEPeN7CcsMi_"
      },
      "execution_count": null,
      "outputs": []
    },
    {
      "cell_type": "code",
      "source": [
        "x.r"
      ],
      "metadata": {
        "id": "lHLMkgtKsUQq"
      },
      "execution_count": null,
      "outputs": []
    },
    {
      "cell_type": "code",
      "source": [
        "x.i"
      ],
      "metadata": {
        "id": "g4bP-LKNsfHh"
      },
      "execution_count": null,
      "outputs": []
    },
    {
      "cell_type": "code",
      "source": [
        "#튜플로 출력\n",
        "x.r, x.i"
      ],
      "metadata": {
        "id": "rVKZzJALsRXD"
      },
      "execution_count": null,
      "outputs": []
    },
    {
      "cell_type": "code",
      "source": [
        "#p127\n",
        "# class Book의 price 변수의 값이 정의되어 있는 경우\n",
        "class Book:\n",
        "    price = 10000\n",
        "\n",
        "    def title(self):\n",
        "        name = \"my first python price is\" + self.price\n",
        "        return name"
      ],
      "metadata": {
        "id": "V2HXZNaZsGJ3"
      },
      "execution_count": null,
      "outputs": []
    },
    {
      "cell_type": "code",
      "source": [
        "# 인스턴스 생성\n",
        "book_1 = Book()"
      ],
      "metadata": {
        "id": "68N2dlNYVS6y"
      },
      "execution_count": null,
      "outputs": []
    },
    {
      "cell_type": "code",
      "source": [
        "# price 변수\n",
        "book_1.price"
      ],
      "metadata": {
        "id": "MXuMCDCYWItq"
      },
      "execution_count": null,
      "outputs": []
    },
    {
      "cell_type": "code",
      "source": [
        "#p127\n",
        "# class Book의 price 변수 초깃값 설정하기.\n",
        "class Book:\n",
        "    def __init__(self, price):\n",
        "        self.price = price\n",
        "\n",
        "    def title(self):\n",
        "        name = \"my first python price is\" + self.price\n",
        "        return name\n"
      ],
      "metadata": {
        "id": "ZwW6FttPVKTM"
      },
      "execution_count": null,
      "outputs": []
    },
    {
      "cell_type": "code",
      "source": [
        "#인스턴스 생성\n",
        "book_1 = Book(\"20000\")"
      ],
      "metadata": {
        "id": "xW7xgcHCtB1d"
      },
      "execution_count": null,
      "outputs": []
    },
    {
      "cell_type": "code",
      "source": [
        "#price 변수\n",
        "book_1.price"
      ],
      "metadata": {
        "id": "DOmk-NgetFM1"
      },
      "execution_count": null,
      "outputs": []
    },
    {
      "cell_type": "code",
      "source": [
        "#title 메서드\n",
        "book_1.title()"
      ],
      "metadata": {
        "id": "twOTCi7xiUBF"
      },
      "execution_count": null,
      "outputs": []
    },
    {
      "cell_type": "markdown",
      "source": [
        "**클래스의 흐름**\n",
        "* 교재 p.128 그림 참고"
      ],
      "metadata": {
        "id": "lN4MelHh_iQG"
      }
    },
    {
      "cell_type": "code",
      "source": [
        "#p128\n",
        "# 클래스의 흐름\n",
        "class Book:\n",
        "    def __init__(self, price):\n",
        "        self.price = price\n",
        "\n",
        "    def title(self):\n",
        "        name = \"my first python price is \"  + self.price\n",
        "        return name\n"
      ],
      "metadata": {
        "id": "AVp-PGu3sEDS"
      },
      "execution_count": null,
      "outputs": []
    },
    {
      "cell_type": "code",
      "source": [
        "#특정 초깃값으로 설정된 인스턴스 생성\n",
        "book_price1 = Book(\"15000\")"
      ],
      "metadata": {
        "id": "lnEqniWdpay7"
      },
      "execution_count": null,
      "outputs": []
    },
    {
      "cell_type": "code",
      "source": [
        "book_price1.title()  #메서드"
      ],
      "metadata": {
        "id": "OvQwKST-vRec"
      },
      "execution_count": null,
      "outputs": []
    },
    {
      "cell_type": "code",
      "source": [
        "book_price1.price # 클래스의 변수"
      ],
      "metadata": {
        "id": "BwH2MsFYvR_l"
      },
      "execution_count": null,
      "outputs": []
    },
    {
      "cell_type": "code",
      "source": [
        "# 같은 클래스에 속하는 인스턴스 생성\n",
        "# 초깃값은 다르게 생성\n",
        "\n",
        "book_price2 = Book(\"20000\")"
      ],
      "metadata": {
        "id": "OCu-RXHmpZUA"
      },
      "execution_count": null,
      "outputs": []
    },
    {
      "cell_type": "code",
      "source": [
        "book_price2.title()"
      ],
      "metadata": {
        "id": "62CY6MCwvYUb"
      },
      "execution_count": null,
      "outputs": []
    },
    {
      "cell_type": "code",
      "source": [
        "book_price2.price"
      ],
      "metadata": {
        "id": "9-yBNZFWvYzL"
      },
      "execution_count": null,
      "outputs": []
    },
    {
      "cell_type": "markdown",
      "source": [
        "**(참고)클래스와 인스턴스 변수**\n",
        "* 더 알아보기 : https://docs.python.org/3/tutorial/classes.html#class-and-instance-variables\n",
        "\n",
        "* 클래스 변수(class variables)는 모든 인스턴스에 공유되는 변수이다.\n",
        "* 인스턴스 변수(instance variables)는 각 인스턴스에만 고유하다."
      ],
      "metadata": {
        "id": "AZZqs2wfTR6t"
      }
    },
    {
      "cell_type": "code",
      "source": [
        "# 예제 1\n",
        "# 클래스 변수와 인스턴스 변수의 차이\n",
        "class Dog:\n",
        "    kind = 'canine'         # class variable shared by all instances\n",
        "    def __init__(self, name):\n",
        "        self.name = name    # instance variable unique to each instance\n"
      ],
      "metadata": {
        "id": "FfzQ94DCTcq3"
      },
      "execution_count": null,
      "outputs": []
    },
    {
      "cell_type": "code",
      "source": [
        "# 인스턴스 생성\n",
        "d = Dog('Fido')"
      ],
      "metadata": {
        "id": "36WudMTpwUUj"
      },
      "execution_count": null,
      "outputs": []
    },
    {
      "cell_type": "code",
      "source": [
        "# 클래스 변수 확인\n",
        "d.kind"
      ],
      "metadata": {
        "id": "jIgKTj_YwcqQ"
      },
      "execution_count": null,
      "outputs": []
    },
    {
      "cell_type": "code",
      "source": [
        "# 인스턴스 변수 확인\n",
        "d.name"
      ],
      "metadata": {
        "id": "c4tay5ZVwhp_"
      },
      "execution_count": null,
      "outputs": []
    },
    {
      "cell_type": "code",
      "source": [
        "# 인스턴스 생성\n",
        "e = Dog('Buddy')"
      ],
      "metadata": {
        "id": "TDktIzdgwYGF"
      },
      "execution_count": null,
      "outputs": []
    },
    {
      "cell_type": "code",
      "source": [
        "# 클래스 변수 확인\n",
        "e.kind"
      ],
      "metadata": {
        "id": "zJ9tPnUPwmj0"
      },
      "execution_count": null,
      "outputs": []
    },
    {
      "cell_type": "code",
      "source": [
        "#인스턴스 변수 확인\n",
        "e.name"
      ],
      "metadata": {
        "id": "MYi_QUjNwp_x"
      },
      "execution_count": null,
      "outputs": []
    },
    {
      "cell_type": "code",
      "source": [
        "# 예제 2\n",
        "# 클래스 안에 리스트 생성\n",
        "class Dog:\n",
        "\n",
        "    tricks = []             # mistaken use of a class variable\n",
        "\n",
        "    def __init__(self, name):\n",
        "        self.name = name\n",
        "\n",
        "    def add_trick(self, trick):\n",
        "        self.tricks.append(trick) # 리스트에 요소 추가"
      ],
      "metadata": {
        "id": "5wz22nnkVQCh"
      },
      "execution_count": null,
      "outputs": []
    },
    {
      "cell_type": "code",
      "source": [
        "# 인스턴스 생성\n",
        "a = Dog(\"Fido\")"
      ],
      "metadata": {
        "id": "7UbgxAl9xGe9"
      },
      "execution_count": null,
      "outputs": []
    },
    {
      "cell_type": "code",
      "source": [
        "# 메서드 실행\n",
        "a.add_trick(\"roll\")"
      ],
      "metadata": {
        "id": "MJBm4muIxKMh"
      },
      "execution_count": null,
      "outputs": []
    },
    {
      "cell_type": "code",
      "source": [
        "# 리스트(클래스 변수) 확인\n",
        "a.tricks"
      ],
      "metadata": {
        "id": "_LG-EQRJxe9v"
      },
      "execution_count": null,
      "outputs": []
    },
    {
      "cell_type": "code",
      "source": [
        "# 인스턴스 생성\n",
        "b = Dog(\"Buddy\")"
      ],
      "metadata": {
        "id": "pv0zFG6rxhlU"
      },
      "execution_count": null,
      "outputs": []
    },
    {
      "cell_type": "code",
      "source": [
        "# 메서드 실행\n",
        "b.add_trick('play')"
      ],
      "metadata": {
        "id": "nFP6cHLkxkVV"
      },
      "execution_count": null,
      "outputs": []
    },
    {
      "cell_type": "code",
      "source": [
        "# 리스트(클래스 변수) 확인\n",
        "b.tricks"
      ],
      "metadata": {
        "id": "-Dn4oJZQxnnK"
      },
      "execution_count": null,
      "outputs": []
    },
    {
      "cell_type": "code",
      "source": [
        "# 예제 3\n",
        "# init 메서드 안에 리스트 생성\n",
        "# 각 인스턴스 별 고유한 리스트 생성\n",
        "class Dog:\n",
        "    def __init__(self, name):\n",
        "        self.name = name\n",
        "        self.tricks = []    # creates a new empty list for each dog\n",
        "\n",
        "    def add_trick(self, trick):\n",
        "        self.tricks.append(trick) # 리스트에 요소 추가"
      ],
      "metadata": {
        "id": "_mM3Z-pqVUhC"
      },
      "execution_count": null,
      "outputs": []
    },
    {
      "cell_type": "code",
      "source": [
        "# 인스턴스 생성\n",
        "a = Dog(\"Fido\")"
      ],
      "metadata": {
        "id": "6Nbn_vB7yy3N"
      },
      "execution_count": null,
      "outputs": []
    },
    {
      "cell_type": "code",
      "source": [
        "# 메서드 실행\n",
        "a.add_trick(\"roll\")"
      ],
      "metadata": {
        "id": "OTFH0K-ry3jI"
      },
      "execution_count": null,
      "outputs": []
    },
    {
      "cell_type": "code",
      "source": [
        "# 리스트(인스턴스 변수) 확인\n",
        "a.tricks"
      ],
      "metadata": {
        "id": "51PSyIxay6_t"
      },
      "execution_count": null,
      "outputs": []
    },
    {
      "cell_type": "code",
      "source": [
        "# 인스턴스 생성\n",
        "b = Dog(\"Buddy\")"
      ],
      "metadata": {
        "id": "Vgqo8-W9y-Co"
      },
      "execution_count": null,
      "outputs": []
    },
    {
      "cell_type": "code",
      "source": [
        "# 메서드 실행\n",
        "b.add_trick(\"play\")"
      ],
      "metadata": {
        "id": "_lHwxHNVzBpb"
      },
      "execution_count": null,
      "outputs": []
    },
    {
      "cell_type": "code",
      "source": [
        "# 리스트(인스턴스 변수) 확인\n",
        "b.tricks"
      ],
      "metadata": {
        "id": "SHhhNg03zDpK"
      },
      "execution_count": null,
      "outputs": []
    },
    {
      "cell_type": "markdown",
      "source": [
        "##**클래스 상속(inheritance)**\n",
        "\n",
        "\n",
        "- 기초 클래스의 기능을 물려 받아, 파생된 클래스를 만들 수 있다.\n",
        "- 기초 클래스(base class)/부모 클래스(parent class)/상위 클래스(super class)\n",
        "- 파생 클래스(derived class)/자식 클래스(child class)/하위 클래스(sub class)\n",
        "- 기초 클래스의 기능을 재활용하고, 파생 클래스들의 공통되는 부분을 기초 클래스에 정의하여, 중복을 제거할 수 있다.\n",
        "\n",
        "```\n",
        "class DerivedClassName(BaseClassName):\n",
        "    <statement-1>\n",
        "    .\n",
        "    .\n",
        "    .\n",
        "    <statement-N>\n",
        "```\n",
        "\n",
        "* 상속 더 알아보기 : https://docs.python.org/3/tutorial/classes.html#inheritance\n",
        "\n"
      ],
      "metadata": {
        "id": "-KYvDtCix9TG"
      }
    },
    {
      "cell_type": "code",
      "source": [
        "# base class\n",
        "class Book:\n",
        "    title = \"FirstPython\"\n",
        "\n",
        "    def __init__(self,price):\n",
        "        self.price = price\n",
        "\n",
        "    def description(self):\n",
        "        print(\"title:\", self.title, \"price:\", self.price)"
      ],
      "metadata": {
        "id": "lDHmzlyApoNd"
      },
      "execution_count": null,
      "outputs": []
    },
    {
      "cell_type": "code",
      "source": [
        "# 초깃값을 전달하여 인스턴스 생성\n",
        "a = Book(\"20000\")"
      ],
      "metadata": {
        "id": "GWXTuz5hwkF5"
      },
      "execution_count": null,
      "outputs": []
    },
    {
      "cell_type": "code",
      "source": [
        "# 메서드 실행\n",
        "a.description()"
      ],
      "metadata": {
        "id": "txJum1aFwohc"
      },
      "execution_count": null,
      "outputs": []
    },
    {
      "cell_type": "code",
      "source": [
        "#p129\n",
        "# derived class\n",
        "# 부모 클래스 Book의 기능을 그대로 물려받는 자식 클래스 MoreBook 생성\n",
        "class MoreBook(Book):\n",
        "    pass"
      ],
      "metadata": {
        "id": "n7zlD3KbsD9F"
      },
      "execution_count": null,
      "outputs": []
    },
    {
      "cell_type": "code",
      "source": [
        "# 자식 클래스의 instance 생성\n",
        "b = MoreBook(\"30000\")"
      ],
      "metadata": {
        "id": "RN-piC9QqXxX"
      },
      "execution_count": null,
      "outputs": []
    },
    {
      "cell_type": "code",
      "source": [
        "# 메서드 실행\n",
        "b.description()"
      ],
      "metadata": {
        "id": "-VZ77SDy1Aj2"
      },
      "execution_count": null,
      "outputs": []
    },
    {
      "cell_type": "code",
      "source": [
        "# 부모 클래스 Book으로 또 다른 자식 클래스 생성\n",
        "class MoreBook_2(Book):\n",
        "    publisher = \"LunaFine\"\n"
      ],
      "metadata": {
        "id": "sJtaRHmT1Soo"
      },
      "execution_count": null,
      "outputs": []
    },
    {
      "cell_type": "code",
      "source": [
        "# MoreBook_2의 인스턴스 생성\n",
        "c = MoreBook_2(\"10000\")"
      ],
      "metadata": {
        "id": "Kk5HbEto1baO"
      },
      "execution_count": null,
      "outputs": []
    },
    {
      "cell_type": "code",
      "source": [
        "# 자식 클래스에 추가한 변수 publisher\n",
        "c.publisher"
      ],
      "metadata": {
        "id": "40mAxQYIWJRO"
      },
      "execution_count": null,
      "outputs": []
    },
    {
      "cell_type": "code",
      "source": [
        "class MoreBook_2(Book):\n",
        "    publisher = \"LunaFine\"\n",
        "\n",
        "    def print_info(self):  # 메서드 추가\n",
        "        print(self.publisher)"
      ],
      "metadata": {
        "id": "A3XXkvsyWG2L"
      },
      "execution_count": null,
      "outputs": []
    },
    {
      "cell_type": "code",
      "source": [
        "# 인스턴스 생성\n",
        "c = MoreBook_2(\"10000\")"
      ],
      "metadata": {
        "id": "s4PAclgF1fUI"
      },
      "execution_count": null,
      "outputs": []
    },
    {
      "cell_type": "code",
      "source": [
        "# 메서드 실행\n",
        "c.print_info()"
      ],
      "metadata": {
        "id": "sjxBxhb7Zi9k"
      },
      "execution_count": null,
      "outputs": []
    },
    {
      "cell_type": "markdown",
      "source": [
        "* **isinstance(object, class A) :**\n",
        "\n",
        "object가 class A의 인스턴스이면 True 반환"
      ],
      "metadata": {
        "id": "DuWEW2M1bCET"
      }
    },
    {
      "cell_type": "code",
      "source": [
        "# b는 MoreBook의 인스턴스인가?\n",
        "\n",
        "isinstance(b, MoreBook)"
      ],
      "metadata": {
        "id": "i0xGGVpaqaq9"
      },
      "execution_count": null,
      "outputs": []
    },
    {
      "cell_type": "code",
      "source": [
        "# MoreBook은 Book의 자식 클래스\n",
        "# 그렇다면, b는 Book의 인스턴스인가?\n",
        "\n",
        "isinstance(b, Book)"
      ],
      "metadata": {
        "id": "UzZGZjrQwziW"
      },
      "execution_count": null,
      "outputs": []
    },
    {
      "cell_type": "code",
      "source": [
        "# a는 book의 인스턴스\n",
        "# 그렇다면, a는 MoreBook의 인스턴스도 되는가?\n",
        "\n",
        "isinstance(a, MoreBook)"
      ],
      "metadata": {
        "id": "GggiIGCoe4ZA"
      },
      "execution_count": null,
      "outputs": []
    },
    {
      "cell_type": "markdown",
      "source": [
        "* **issubclass(class A, class B)**:\n",
        "\n",
        "class A가 class B의 하위 클래스이면 True 반환"
      ],
      "metadata": {
        "id": "XYeYnQDJcHrg"
      }
    },
    {
      "cell_type": "code",
      "source": [
        "# MoreBook은 Book의 자식 클래스인가?\n",
        "\n",
        "issubclass(MoreBook, Book)"
      ],
      "metadata": {
        "id": "sLQGgKKnv8YH"
      },
      "execution_count": null,
      "outputs": []
    },
    {
      "cell_type": "code",
      "source": [
        "# MoreBook의 자식 클래스 MoreMoreBook\n",
        "class MoreMoreBook(MoreBook):\n",
        "    pass"
      ],
      "metadata": {
        "id": "UdSA-C0G4EkX"
      },
      "execution_count": null,
      "outputs": []
    },
    {
      "cell_type": "code",
      "source": [
        "# MoreBook은 Book의 자식 클래스\n",
        "# 그렇다면, MoreMoreBook은 Book의 자식 클래스인가?\n",
        "\n",
        "issubclass(MoreMoreBook,Book)"
      ],
      "metadata": {
        "id": "sOJDlND24tla"
      },
      "execution_count": null,
      "outputs": []
    },
    {
      "cell_type": "code",
      "source": [
        "#p130\n",
        "#예제\n",
        "\n",
        "class Person:\n",
        "  def __init__(self, fname, lname):\n",
        "    self.firstname = fname\n",
        "    self.lastname = lname\n",
        "  def printname(self):\n",
        "    print(self.firstname, self.lastname)"
      ],
      "metadata": {
        "id": "sgchqtTHsD0J"
      },
      "execution_count": null,
      "outputs": []
    },
    {
      "cell_type": "code",
      "source": [
        "x = Person(\"Bob\", \"Stoll\")\n",
        "x.printname()"
      ],
      "metadata": {
        "id": "GGrUhN7GsDJf"
      },
      "execution_count": null,
      "outputs": []
    },
    {
      "cell_type": "code",
      "source": [
        "class Student(Person):\n",
        "    pass\n",
        "\n",
        "x = Student(\"Joseph\", \"Adler\")\n",
        "x.printname()"
      ],
      "metadata": {
        "id": "AOgODzDesCuq"
      },
      "execution_count": null,
      "outputs": []
    },
    {
      "cell_type": "markdown",
      "source": [
        "**메서드 재정의(Overriding)**\n",
        "- 파생 클래스는 기초 클래스의 메서드를 재정의 할 수 있다."
      ],
      "metadata": {
        "id": "EtU-Dz1dOVfx"
      }
    },
    {
      "cell_type": "code",
      "source": [
        "# base class\n",
        "class Book:\n",
        "    title = \"FirstPython\"\n",
        "\n",
        "    def __init__(self,price):\n",
        "        self.price = price\n",
        "\n",
        "    def description(self):\n",
        "        print(\"title:\", self.title, \"price:\", self.price)"
      ],
      "metadata": {
        "id": "fwyt7WuYQEoJ"
      },
      "execution_count": null,
      "outputs": []
    },
    {
      "cell_type": "code",
      "source": [
        "# Book의 자식 클래스 MoreBook\n",
        "# 부모 클래스의 메서드 재정의\n",
        "class MoreBook(Book):\n",
        "    publisher = \"LunaFine\"\n",
        "    def description(self):\n",
        "        print(\"publisher:\", self.publisher)"
      ],
      "metadata": {
        "id": "xEvyumgEx8DM"
      },
      "execution_count": null,
      "outputs": []
    },
    {
      "cell_type": "code",
      "source": [
        "# 부모 클래스 인스턴스 생성\n",
        "a = Book(\"20000\")"
      ],
      "metadata": {
        "id": "4h-kfpPpyfOy"
      },
      "execution_count": null,
      "outputs": []
    },
    {
      "cell_type": "code",
      "source": [
        "# 부모 클래스 메서드 실행\n",
        "a.description()"
      ],
      "metadata": {
        "id": "YKA6ZStyPnsz"
      },
      "execution_count": null,
      "outputs": []
    },
    {
      "cell_type": "code",
      "source": [
        "# 자식 클래스 인스턴스 생성\n",
        "c = MoreBook(\"30000\")"
      ],
      "metadata": {
        "id": "EhyHntp2PlIR"
      },
      "execution_count": null,
      "outputs": []
    },
    {
      "cell_type": "code",
      "source": [
        "# 자식 클래스 메서드 실행\n",
        "# 재정의한 메서드\n",
        "c.description()"
      ],
      "metadata": {
        "id": "HFPjTB0jyia-"
      },
      "execution_count": null,
      "outputs": []
    },
    {
      "cell_type": "code",
      "source": [
        "# 기초 클래스 메서드의 기능 그대로 이용하기\n",
        "class MoreBook(Book):\n",
        "    publisher = \"LunaFine\"\n",
        "\n",
        "    def description(self):\n",
        "        super().description()  # 부모 클래스의 메서드 반환\n",
        "        print(\"publisher:\", self.publisher)"
      ],
      "metadata": {
        "id": "hBLADtqlQnc_"
      },
      "execution_count": null,
      "outputs": []
    },
    {
      "cell_type": "markdown",
      "source": [
        "* super() 더 알아보기 : https://docs.python.org/3/library/functions.html#super\n"
      ],
      "metadata": {
        "id": "6qIor64WQ362"
      }
    },
    {
      "cell_type": "code",
      "source": [
        "# 자식 클래스 인스턴스 생성\n",
        "d = MoreBook(\"30000\")"
      ],
      "metadata": {
        "id": "rXP3Icy-Q5Yg"
      },
      "execution_count": null,
      "outputs": []
    },
    {
      "cell_type": "code",
      "source": [
        "# 자식 클래스 메서드 실행\n",
        "# 재정의한 메서드\n",
        "d.description()"
      ],
      "metadata": {
        "id": "dL7UEJzpQ-0Q"
      },
      "execution_count": null,
      "outputs": []
    },
    {
      "cell_type": "markdown",
      "source": [
        "**다중상속(Multiple Inheritance)**\n",
        "\n",
        "- 여러 기초 클래스의 기능을 물려받은 클래스를 만들 수 있다.\n",
        "```\n",
        "class DerivedClassName(Base1, Base2, Base3):\n",
        "    <statement-1>\n",
        "    .\n",
        "    .\n",
        "    .\n",
        "    <statement-N>\n",
        "```\n",
        "* 다중상속 더 알아보기 : https://docs.python.org/3/tutorial/classes.html#multiple-inheritance\n",
        "\n",
        "\n",
        "\n",
        "\n"
      ],
      "metadata": {
        "id": "Uf4DULISxuK6"
      }
    },
    {
      "cell_type": "code",
      "source": [
        "# base class 1 : 부모 클래스 Student\n",
        "class Student:\n",
        "    name = \"Bob\"\n",
        "    def printname(self):\n",
        "        print(self.name)"
      ],
      "metadata": {
        "id": "AlVpmRJFRyP6"
      },
      "execution_count": null,
      "outputs": []
    },
    {
      "cell_type": "code",
      "source": [
        "# base class 2 : 부모 클래스 Teacher\n",
        "class Teacher:\n",
        "    subject = \"math\"\n",
        "    def printsubject(self):\n",
        "        print(self.subject)"
      ],
      "metadata": {
        "id": "FZhXyh5lT0KL"
      },
      "execution_count": null,
      "outputs": []
    },
    {
      "cell_type": "code",
      "source": [
        "# derived class : 자식 클래스 School\n",
        "class School(Student, Teacher):\n",
        "    location = \"Seoul\"\n",
        "    def printloc(self):\n",
        "        print(self.location)"
      ],
      "metadata": {
        "id": "dxv_97fuT8_3"
      },
      "execution_count": null,
      "outputs": []
    },
    {
      "cell_type": "code",
      "source": [
        "# 자식 클래스로 인스턴스 생성\n",
        "x = School()"
      ],
      "metadata": {
        "id": "jn1qFnceUBIO"
      },
      "execution_count": null,
      "outputs": []
    },
    {
      "cell_type": "code",
      "source": [
        "# 부모 클래스 Teacher의 메서드 호출\n",
        "x.printsubject()"
      ],
      "metadata": {
        "id": "Msw094Y2UFn0"
      },
      "execution_count": null,
      "outputs": []
    },
    {
      "cell_type": "code",
      "source": [
        "# 부모 클래스 Student의 메서드 호출\n",
        "x.printname()"
      ],
      "metadata": {
        "id": "11R7iYUc3N3m"
      },
      "execution_count": null,
      "outputs": []
    },
    {
      "cell_type": "markdown",
      "source": [
        "* **mro()**:\n",
        "\n",
        "Method Resolution Order\n",
        "\n",
        "메서드 결정 순서(메서드들의 우선순위)를 알려주는 함수.\n",
        "\n"
      ],
      "metadata": {
        "id": "fhz_hgd9vhhL"
      }
    },
    {
      "cell_type": "code",
      "source": [
        "# 예제\n",
        "class parent_A:\n",
        "    def foo(self):\n",
        "        print(\"foo_A\")"
      ],
      "metadata": {
        "id": "aSJ6GW_JU88X"
      },
      "execution_count": null,
      "outputs": []
    },
    {
      "cell_type": "code",
      "source": [
        "class parent_B:\n",
        "    def foo(self):\n",
        "        print(\"foo_B\")"
      ],
      "metadata": {
        "id": "BtRUZkYxWPYz"
      },
      "execution_count": null,
      "outputs": []
    },
    {
      "cell_type": "code",
      "source": [
        "# parent_A, parent_B 상속\n",
        "class child(parent_A, parent_B):\n",
        "    pass"
      ],
      "metadata": {
        "id": "JIHWHFyU-dLj"
      },
      "execution_count": null,
      "outputs": []
    },
    {
      "cell_type": "code",
      "source": [
        "# 인스턴스 생성\n",
        "x = child()"
      ],
      "metadata": {
        "id": "5fJYZ8oX-lYi"
      },
      "execution_count": null,
      "outputs": []
    },
    {
      "cell_type": "code",
      "source": [
        "# foo 메서드 호출\n",
        "x.foo()"
      ],
      "metadata": {
        "id": "qFiLYnkm-o0e"
      },
      "execution_count": null,
      "outputs": []
    },
    {
      "cell_type": "code",
      "source": [
        "# Method Resolution Order\n",
        "child.mro()"
      ],
      "metadata": {
        "id": "jwIrQG-UVxFT"
      },
      "execution_count": null,
      "outputs": []
    },
    {
      "cell_type": "code",
      "source": [
        "# parent_B, parent_A 상속\n",
        "class child_B_A(parent_B, parent_A):\n",
        "    pass"
      ],
      "metadata": {
        "id": "geOMyLhM_Opv"
      },
      "execution_count": null,
      "outputs": []
    },
    {
      "cell_type": "code",
      "source": [
        "# 인스턴스 생성\n",
        "y = child_B_A()"
      ],
      "metadata": {
        "id": "ZqNT0EDI_VV4"
      },
      "execution_count": null,
      "outputs": []
    },
    {
      "cell_type": "code",
      "source": [
        "# foo 메서드 호출\n",
        "y.foo()"
      ],
      "metadata": {
        "id": "pva6S3fE_Y09"
      },
      "execution_count": null,
      "outputs": []
    },
    {
      "cell_type": "code",
      "source": [
        "# Method Resolution Order\n",
        "child_B_A.mro()"
      ],
      "metadata": {
        "id": "z7jLO2E2_dQD"
      },
      "execution_count": null,
      "outputs": []
    },
    {
      "cell_type": "code",
      "source": [
        "# 자식 클래스에 foo 메서드 정의\n",
        "class child_C(parent_A,parent_B):\n",
        "    def foo(self):\n",
        "        print(\"child\")"
      ],
      "metadata": {
        "id": "woNXSMPdADvv"
      },
      "execution_count": null,
      "outputs": []
    },
    {
      "cell_type": "code",
      "source": [
        "# 인스턴스 생성\n",
        "z = child_C()"
      ],
      "metadata": {
        "id": "X5x_HAa8AOr4"
      },
      "execution_count": null,
      "outputs": []
    },
    {
      "cell_type": "code",
      "source": [
        "# foo 메서드 호출\n",
        "z.foo()"
      ],
      "metadata": {
        "id": "kQP5VLG9ARmi"
      },
      "execution_count": null,
      "outputs": []
    },
    {
      "cell_type": "code",
      "source": [
        "# Method Resolution Order\n",
        "child_C.mro()"
      ],
      "metadata": {
        "id": "E-f-574fATzK"
      },
      "execution_count": null,
      "outputs": []
    }
  ]
}