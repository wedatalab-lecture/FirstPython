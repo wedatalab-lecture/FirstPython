{
  "nbformat": 4,
  "nbformat_minor": 0,
  "metadata": {
    "colab": {
      "private_outputs": true,
      "provenance": [],
      "authorship_tag": "ABX9TyP2FaVGOEo6WxwhRq11qi28",
      "include_colab_link": true
    },
    "kernelspec": {
      "name": "python3",
      "display_name": "Python 3"
    },
    "language_info": {
      "name": "python"
    }
  },
  "cells": [
    {
      "cell_type": "markdown",
      "metadata": {
        "id": "view-in-github",
        "colab_type": "text"
      },
      "source": [
        "<a href=\"https://colab.research.google.com/github/wedatalab-lecture/FirstPython/blob/main/3_%EC%A1%B0%EA%B1%B4%EA%B3%BC_%EB%B0%98%EB%B3%B5(3)_%EA%B0%95%EC%9D%98.ipynb\" target=\"_parent\"><img src=\"https://colab.research.google.com/assets/colab-badge.svg\" alt=\"Open In Colab\"/></a>"
      ]
    },
    {
      "cell_type": "markdown",
      "source": [
        "#3.조건과 반복 (3)\n",
        "\n",
        "- 추가 자료 : 종합문제\n",
        "- if문, while문, for문, 반복문의 제어\n"
      ],
      "metadata": {
        "id": "NRXnQ8_230vF"
      }
    },
    {
      "cell_type": "markdown",
      "source": [
        "##**종합문제**\n",
        "\n"
      ],
      "metadata": {
        "id": "eI-9ntvRhAe_"
      }
    },
    {
      "cell_type": "markdown",
      "source": [
        "**종합문제 1**\n",
        "\n",
        "- 사용자가 입력한 숫자를 계속해서 리스트 n에 저장한다.\n",
        "- 빈값을 입력하면 더 이상 값을 n에 저장하지 않고 종료한다.\n",
        "- 받을 수 있는 숫자의 개수는 10개 이하가 되도록 작성한다.\n",
        "- n이라는 리스트에 들어가 있는 숫자 중에 3의 배수의 총합과 평균을 구하시오.\n"
      ],
      "metadata": {
        "id": "PCz5ZLa0jqa6"
      }
    },
    {
      "cell_type": "code",
      "source": [
        "# 문제의 답\n",
        "\n",
        "# 숫자 입력받아서 리스트에 저장하기\n",
        "i = 1\n",
        "li = []\n",
        "while i < 11:\n",
        "    num = input(\"숫자를 입력하세요.\")\n",
        "    if num == \"\":   # 빈값을 입력하면 반복 종료\n",
        "        break\n",
        "    li.append(int(num))  # 입력한 값을 정수로 바꿔서 리스트에 추가\n",
        "    i += 1"
      ],
      "metadata": {
        "id": "lOeRlBWcRYE5"
      },
      "execution_count": null,
      "outputs": []
    },
    {
      "cell_type": "code",
      "source": [
        "print(li)"
      ],
      "metadata": {
        "id": "7Ai2_T4iiol5"
      },
      "execution_count": null,
      "outputs": []
    },
    {
      "cell_type": "code",
      "source": [
        "# 3의 배수의 총합과 평균 구하기\n",
        "sum_3 = 0\n",
        "count_3 = 0\n",
        "for i in li:\n",
        "    if i % 3 == 0:  # 3의 배수일 경우\n",
        "        sum_3 += i  # 3의 배수의 합\n",
        "        count_3 += 1 # 3의 배수의 개수\n",
        "print(\"3의 배수 총합:\",sum_3)\n",
        "print(\"3의 배수 평균:\", sum_3/count_3)"
      ],
      "metadata": {
        "id": "cJSAsvgujGVq"
      },
      "execution_count": null,
      "outputs": []
    },
    {
      "cell_type": "markdown",
      "source": [
        "**종합문제 2**\n",
        "\n",
        "- 이름을 입력하면 나이를 알려주는 프로그램 만들기.\n",
        "- 이름과 나이를 입력받아 딕셔너리에 추가 후 출력.\n",
        "- 계속해서 이름과 나이를 입력받는데, 빈칸이 입력으로 들어가면 중지한다."
      ],
      "metadata": {
        "id": "BqVsh-REj1GJ"
      }
    },
    {
      "cell_type": "code",
      "source": [
        "# 문제의 답\n",
        "\n",
        "# 이름과 나이 입력받기\n",
        "d = {}\n",
        "while True:\n",
        "    name = input(\"이름:\")\n",
        "    if name == \"\":  # 빈값을 입력하면 반복 종료\n",
        "        break\n",
        "    age = input(\"나이:\")\n",
        "    if age == \"\":   # 빈값을 입력하면 반복 종료\n",
        "        break\n",
        "    d[name] = int(age)  # 딕셔너리에 이름과 나이 추가\n",
        "print(\"딕셔너리:\", d)"
      ],
      "metadata": {
        "id": "ZeWFLIgQRgIJ"
      },
      "execution_count": null,
      "outputs": []
    },
    {
      "cell_type": "code",
      "source": [
        "# 이름을 입력하면 나이를 알려주기\n",
        "user_name = input(\"이름을 입력하세요.\")\n",
        "print(\"{}의 나이는 {}세 입니다.\".format(user_name, d[user_name]))"
      ],
      "metadata": {
        "id": "Nt4rTdsyRacx"
      },
      "execution_count": null,
      "outputs": []
    },
    {
      "cell_type": "code",
      "source": [
        "# 딕셔너리에 없는 이름의 경우 처리하기\n",
        "user_name = input(\"이름을 입력하세요.\")\n",
        "if user_name in d.keys():\n",
        "    print(\"{}의 나이는 {}세 입니다.\".format(user_name, d[user_name]))\n",
        "else:\n",
        "    print(\"딕셔너리에 없는 이름입니다.\")"
      ],
      "metadata": {
        "id": "3NdT2mRLlMmT"
      },
      "execution_count": null,
      "outputs": []
    }
  ]
}