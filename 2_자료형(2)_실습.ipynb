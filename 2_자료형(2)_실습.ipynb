{
  "nbformat": 4,
  "nbformat_minor": 0,
  "metadata": {
    "colab": {
      "provenance": [],
      "authorship_tag": "ABX9TyNl2sIFuuP827ecXSaJvVve",
      "include_colab_link": true
    },
    "kernelspec": {
      "name": "python3",
      "display_name": "Python 3"
    },
    "language_info": {
      "name": "python"
    }
  },
  "cells": [
    {
      "cell_type": "markdown",
      "metadata": {
        "id": "view-in-github",
        "colab_type": "text"
      },
      "source": [
        "<a href=\"https://colab.research.google.com/github/wedatalab-lecture/FirstPython/blob/main/2_%EC%9E%90%EB%A3%8C%ED%98%95(2)_%EC%8B%A4%EC%8A%B5.ipynb\" target=\"_parent\"><img src=\"https://colab.research.google.com/assets/colab-badge.svg\" alt=\"Open In Colab\"/></a>"
      ]
    },
    {
      "cell_type": "markdown",
      "source": [
        "#2.자료형 (2)\n",
        "\n",
        "- 자료형 개요\n",
        "- 연속자료형 다루기\n",
        "\n",
        "\n",
        "```\n",
        "교재 : \"비전공자를 위한 처음 만나는 파이썬\"(권건우 외 7명 저)\n",
        "\n",
        "p.62~68\n",
        "\n",
        "Ⅲ.자료형\n",
        "3.자료형 개요\n",
        "4.연속자료형 다루기\n",
        "```\n",
        "\n"
      ],
      "metadata": {
        "id": "NRXnQ8_230vF"
      }
    },
    {
      "cell_type": "markdown",
      "source": [
        "##**자료형 개요**\n",
        "\n",
        "- 파이썬의 내장된 자료형(built-in data types)"
      ],
      "metadata": {
        "id": "LufI7Rx5WVHS"
      }
    },
    {
      "cell_type": "code",
      "source": [
        "#p62\n",
        "x = 20\n",
        "print(type(x))"
      ],
      "metadata": {
        "id": "qSIZzmaZRaal",
        "colab": {
          "base_uri": "https://localhost:8080/"
        },
        "outputId": "e853a032-688d-4c8b-bc84-dac22ff5d203"
      },
      "execution_count": null,
      "outputs": [
        {
          "output_type": "stream",
          "name": "stdout",
          "text": [
            "<class 'int'>\n"
          ]
        }
      ]
    },
    {
      "cell_type": "code",
      "source": [
        "#int\n",
        "x = 20\n",
        "\n",
        "#float\n",
        "x = -2.0\n",
        "\n",
        "#bool: 두 개의 논리값 True, False\n",
        "x = True\n",
        "\n",
        "#str: “”,‘’안에 문자, 숫자, 기호를 나열\n",
        "x = \"Hello, Python 2023!\"\n",
        "\n",
        "#list: [ ] 대괄호 안에 여러 가지 자료형 저장\n",
        "x = ['a', 2, '공']\n",
        "\n",
        "#tuple: ( ) 소괄호 안에 여러 가지 자료형 저장\n",
        "x = ('a', 2, '공')\n",
        "\n",
        "#dict: {Key1 : Value1,  Key2 : Value2, ...}\n",
        "x = {'a':10, 'b':20, 'c':'cap'}\n",
        "\n",
        "#set\n",
        "x = {'cat', 'dog', 'lion'}\n"
      ],
      "metadata": {
        "id": "o5mNMKEERaRC"
      },
      "execution_count": null,
      "outputs": []
    },
    {
      "cell_type": "markdown",
      "source": [
        "**컨테이너 객체(container)**\n",
        "\n",
        "- 자료형의 종류와 상관없이 담을 수 있는 객체"
      ],
      "metadata": {
        "id": "-vLllnGIf17g"
      }
    },
    {
      "cell_type": "markdown",
      "source": [
        "**시퀀스 자료형(sequence)**\n",
        "\n",
        "- 요소가 연속적으로 이어져있다.\n",
        "- 순서가 있다."
      ],
      "metadata": {
        "id": "x2ymZI0idkM8"
      }
    },
    {
      "cell_type": "code",
      "source": [
        "# 문자열, 리스트, 튜플\n"
      ],
      "metadata": {
        "id": "BvKMwV1-dukQ"
      },
      "execution_count": null,
      "outputs": []
    },
    {
      "cell_type": "code",
      "source": [],
      "metadata": {
        "id": "Yt0q5SIiCoVx"
      },
      "execution_count": null,
      "outputs": []
    },
    {
      "cell_type": "markdown",
      "source": [
        "**비시퀀스 자료형**\n",
        "\n",
        "- 순서가 없다."
      ],
      "metadata": {
        "id": "wG94paeKgR-g"
      }
    },
    {
      "cell_type": "code",
      "source": [
        "#p64\n",
        "set_1 = {1,2,3,4}\n",
        "print(4 in set_1)\n",
        "print(5 in set_1)"
      ],
      "metadata": {
        "id": "Ata7p6V5RZ5y",
        "colab": {
          "base_uri": "https://localhost:8080/"
        },
        "outputId": "46a37c88-a623-46ed-d277-a992cbe24b1a"
      },
      "execution_count": null,
      "outputs": [
        {
          "output_type": "stream",
          "name": "stdout",
          "text": [
            "True\n",
            "False\n"
          ]
        }
      ]
    },
    {
      "cell_type": "code",
      "source": [
        "# 딕셔너리, 집합\n"
      ],
      "metadata": {
        "id": "9LIErj0yeE-Q"
      },
      "execution_count": null,
      "outputs": []
    },
    {
      "cell_type": "markdown",
      "source": [
        "**반복 가능한 객체(iterable)**\n",
        "\n",
        "- 값을 하나씩 차례대로 꺼낼 수 있는 객체.\n",
        "- 반복문 for, while과 함께 사용된다."
      ],
      "metadata": {
        "id": "v1-tLIV3gct6"
      }
    },
    {
      "cell_type": "code",
      "source": [
        "# 리스트, 튜플, 집합, 딕셔너리, 문자열\n"
      ],
      "metadata": {
        "id": "XZBQ-KatgcOo"
      },
      "execution_count": null,
      "outputs": []
    },
    {
      "cell_type": "markdown",
      "source": [
        "**자료형 메서드(method)**\n",
        "\n",
        "- 자료형에 소속된 함수"
      ],
      "metadata": {
        "id": "d21E9PaIhGzh"
      }
    },
    {
      "cell_type": "code",
      "source": [],
      "metadata": {
        "id": "c9iDa4auhSW2"
      },
      "execution_count": null,
      "outputs": []
    },
    {
      "cell_type": "code",
      "source": [],
      "metadata": {
        "id": "t7Rh7ckjEpXO"
      },
      "execution_count": null,
      "outputs": []
    },
    {
      "cell_type": "markdown",
      "source": [
        "**자료형 더 알아보기**\n",
        "\n",
        "아래 파이썬 공식문서 참고.\n",
        "\n",
        "https://docs.python.org/3/library/stdtypes.html\n"
      ],
      "metadata": {
        "id": "pOfnkMdwhXUj"
      }
    },
    {
      "cell_type": "markdown",
      "source": [
        "##**연속자료형 다루기**\n",
        "\n",
        "- 인덱싱과 슬라이싱(indexing, slicing)"
      ],
      "metadata": {
        "id": "FygS9GBjXOHc"
      }
    },
    {
      "cell_type": "code",
      "source": [
        "#p66\n",
        "a = \"Hello, World!\"\n",
        "a[1]\n",
        "a[7]\n",
        "a[-2]"
      ],
      "metadata": {
        "id": "iJr_uMD4W6tE",
        "colab": {
          "base_uri": "https://localhost:8080/",
          "height": 35
        },
        "outputId": "aafc228c-1a2c-4453-cdd4-26e6fed34291"
      },
      "execution_count": null,
      "outputs": [
        {
          "output_type": "execute_result",
          "data": {
            "text/plain": [
              "'d'"
            ],
            "application/vnd.google.colaboratory.intrinsic+json": {
              "type": "string"
            }
          },
          "metadata": {},
          "execution_count": 7
        }
      ]
    },
    {
      "cell_type": "code",
      "source": [
        "# 양수 index\n"
      ],
      "metadata": {
        "id": "71ny5dXSie2o"
      },
      "execution_count": null,
      "outputs": []
    },
    {
      "cell_type": "code",
      "source": [
        "# 음수 index\n"
      ],
      "metadata": {
        "id": "x23Pnvxeihee"
      },
      "execution_count": null,
      "outputs": []
    },
    {
      "cell_type": "code",
      "source": [
        "#p67\n",
        "a = \"Hello, World!\"\n",
        "a[1:3]\n",
        "a[:5]\n",
        "a[5:]\n",
        "a[:]"
      ],
      "metadata": {
        "id": "s4oOf-eNW6ja",
        "colab": {
          "base_uri": "https://localhost:8080/",
          "height": 35
        },
        "outputId": "b2f47f03-7ab9-4bec-c7e0-b046789d6634"
      },
      "execution_count": null,
      "outputs": [
        {
          "output_type": "execute_result",
          "data": {
            "text/plain": [
              "'Hello, World!'"
            ],
            "application/vnd.google.colaboratory.intrinsic+json": {
              "type": "string"
            }
          },
          "metadata": {},
          "execution_count": 10
        }
      ]
    },
    {
      "cell_type": "code",
      "source": [
        "# 슬라이싱 : [start:end:step]\n",
        "a[0:3]"
      ],
      "metadata": {
        "id": "uTQQPJjIiomc",
        "colab": {
          "base_uri": "https://localhost:8080/",
          "height": 35
        },
        "outputId": "03e94e35-45eb-49e0-d996-b60e8ce8768b"
      },
      "execution_count": null,
      "outputs": [
        {
          "output_type": "execute_result",
          "data": {
            "text/plain": [
              "'Hel'"
            ],
            "application/vnd.google.colaboratory.intrinsic+json": {
              "type": "string"
            }
          },
          "metadata": {},
          "execution_count": 11
        }
      ]
    },
    {
      "cell_type": "code",
      "source": [
        "# 아래 리스트에서 홀수만 가져오려면?\n"
      ],
      "metadata": {
        "id": "_XOGmSXmW6aC"
      },
      "execution_count": null,
      "outputs": []
    },
    {
      "cell_type": "code",
      "source": [
        "# 아래 리스트에서 짝수만 가져오려면?\n"
      ],
      "metadata": {
        "id": "JpEFwmFgW6Nc"
      },
      "execution_count": null,
      "outputs": []
    },
    {
      "cell_type": "markdown",
      "source": [
        "**연속자료형의 다양한 활용**\n",
        "\n",
        "- 연산자 in, not in\n",
        "\n",
        "- 내장함수 len, min, max\n",
        "\n",
        "\n"
      ],
      "metadata": {
        "id": "yMwr_Rwt5Op4"
      }
    },
    {
      "cell_type": "code",
      "source": [
        "#p68\n",
        "\n",
        "li = [1,2,3,4,5]\n",
        "li_2 = [6,7,8,9,10]\n",
        "x = 3\n"
      ],
      "metadata": {
        "id": "zbtyWS9OW6A8"
      },
      "execution_count": null,
      "outputs": []
    },
    {
      "cell_type": "code",
      "source": [
        "5 in li  # 리스트 안에 해당요소가 있는지"
      ],
      "metadata": {
        "id": "kJavlj9a-5Rj",
        "colab": {
          "base_uri": "https://localhost:8080/"
        },
        "outputId": "08f99b2c-6f86-4c4a-e157-ac0c5322467d"
      },
      "execution_count": null,
      "outputs": [
        {
          "output_type": "execute_result",
          "data": {
            "text/plain": [
              "True"
            ]
          },
          "metadata": {},
          "execution_count": 15
        }
      ]
    },
    {
      "cell_type": "code",
      "source": [
        "5 not in li"
      ],
      "metadata": {
        "id": "EV1zhOdZ-5Ks",
        "colab": {
          "base_uri": "https://localhost:8080/"
        },
        "outputId": "22b715a8-6bdf-4d57-b140-e318d41d153a"
      },
      "execution_count": null,
      "outputs": [
        {
          "output_type": "execute_result",
          "data": {
            "text/plain": [
              "False"
            ]
          },
          "metadata": {},
          "execution_count": 16
        }
      ]
    },
    {
      "cell_type": "code",
      "source": [
        "li + li_2   # 리스트 합치기 연산"
      ],
      "metadata": {
        "id": "xCmu2C04_TSK",
        "colab": {
          "base_uri": "https://localhost:8080/"
        },
        "outputId": "76ef25ce-67f7-4fc9-e787-132ce89adff7"
      },
      "execution_count": null,
      "outputs": [
        {
          "output_type": "execute_result",
          "data": {
            "text/plain": [
              "[1, 2, 3, 4, 5, 6, 7, 8, 9, 10]"
            ]
          },
          "metadata": {},
          "execution_count": 17
        }
      ]
    },
    {
      "cell_type": "code",
      "source": [
        "li * x    # 리스트 해당 수만큼 반복"
      ],
      "metadata": {
        "id": "mkv96G_F_TFg",
        "colab": {
          "base_uri": "https://localhost:8080/"
        },
        "outputId": "9c3f655f-eb51-4cc8-80da-1f8427161387"
      },
      "execution_count": null,
      "outputs": [
        {
          "output_type": "execute_result",
          "data": {
            "text/plain": [
              "[1, 2, 3, 4, 5, 1, 2, 3, 4, 5, 1, 2, 3, 4, 5]"
            ]
          },
          "metadata": {},
          "execution_count": 18
        }
      ]
    },
    {
      "cell_type": "code",
      "source": [
        "len(li)  # 길이"
      ],
      "metadata": {
        "id": "52o5cY5D_ezY",
        "colab": {
          "base_uri": "https://localhost:8080/"
        },
        "outputId": "26a8d262-e5d0-49c6-d612-f10604d704d7"
      },
      "execution_count": null,
      "outputs": [
        {
          "output_type": "execute_result",
          "data": {
            "text/plain": [
              "5"
            ]
          },
          "metadata": {},
          "execution_count": 19
        }
      ]
    },
    {
      "cell_type": "code",
      "source": [
        "min(li)   # 가장 작은 값"
      ],
      "metadata": {
        "id": "ksiNEy94_ek_",
        "colab": {
          "base_uri": "https://localhost:8080/"
        },
        "outputId": "e5ea9916-7f29-4169-c457-67af704c62f9"
      },
      "execution_count": null,
      "outputs": [
        {
          "output_type": "execute_result",
          "data": {
            "text/plain": [
              "1"
            ]
          },
          "metadata": {},
          "execution_count": 20
        }
      ]
    },
    {
      "cell_type": "code",
      "source": [
        "max(li)   # 가장 큰 값"
      ],
      "metadata": {
        "id": "73em7reH_q3u",
        "colab": {
          "base_uri": "https://localhost:8080/"
        },
        "outputId": "ad26ccac-8976-4cd6-cc89-d9720fa8c119"
      },
      "execution_count": null,
      "outputs": [
        {
          "output_type": "execute_result",
          "data": {
            "text/plain": [
              "5"
            ]
          },
          "metadata": {},
          "execution_count": 21
        }
      ]
    },
    {
      "cell_type": "code",
      "source": [
        "li.count(x)  # 개수"
      ],
      "metadata": {
        "id": "7W_lwxrA_quV",
        "colab": {
          "base_uri": "https://localhost:8080/"
        },
        "outputId": "5f5ed540-d54d-4f43-8a5c-1d968e8e3707"
      },
      "execution_count": null,
      "outputs": [
        {
          "output_type": "execute_result",
          "data": {
            "text/plain": [
              "1"
            ]
          },
          "metadata": {},
          "execution_count": 22
        }
      ]
    },
    {
      "cell_type": "code",
      "source": [
        "li.index(x)   # 위치"
      ],
      "metadata": {
        "id": "qPb88mO__qiM",
        "colab": {
          "base_uri": "https://localhost:8080/"
        },
        "outputId": "5e073f5b-ef7d-4150-e70e-08e9ebc28491"
      },
      "execution_count": null,
      "outputs": [
        {
          "output_type": "execute_result",
          "data": {
            "text/plain": [
              "2"
            ]
          },
          "metadata": {},
          "execution_count": 23
        }
      ]
    },
    {
      "cell_type": "code",
      "source": [
        "i = 1\n",
        "li[i]  #인덱싱"
      ],
      "metadata": {
        "id": "Rbp5uQ0__qDi",
        "colab": {
          "base_uri": "https://localhost:8080/"
        },
        "outputId": "0e6dc4fb-560c-449a-c59a-fe703922434b"
      },
      "execution_count": null,
      "outputs": [
        {
          "output_type": "execute_result",
          "data": {
            "text/plain": [
              "2"
            ]
          },
          "metadata": {},
          "execution_count": 24
        }
      ]
    },
    {
      "cell_type": "code",
      "source": [
        "j = 5\n",
        "li[i:j]  #슬라이싱"
      ],
      "metadata": {
        "id": "wvWlSh1c_p14",
        "colab": {
          "base_uri": "https://localhost:8080/"
        },
        "outputId": "749fb237-1f59-4708-f4fe-b207c94f626e"
      },
      "execution_count": null,
      "outputs": [
        {
          "output_type": "execute_result",
          "data": {
            "text/plain": [
              "[2, 3, 4, 5]"
            ]
          },
          "metadata": {},
          "execution_count": 25
        }
      ]
    },
    {
      "cell_type": "code",
      "source": [
        "k = 3\n",
        "li[i:j:k]  #슬라이싱"
      ],
      "metadata": {
        "id": "Dl4PFsIZ-5Du",
        "colab": {
          "base_uri": "https://localhost:8080/"
        },
        "outputId": "f7c7e43e-6ce6-4592-ee5d-7cb53617390e"
      },
      "execution_count": null,
      "outputs": [
        {
          "output_type": "execute_result",
          "data": {
            "text/plain": [
              "[2, 5]"
            ]
          },
          "metadata": {},
          "execution_count": 26
        }
      ]
    }
  ]
}