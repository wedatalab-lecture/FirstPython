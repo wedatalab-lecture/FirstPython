{
  "nbformat": 4,
  "nbformat_minor": 0,
  "metadata": {
    "colab": {
      "private_outputs": true,
      "provenance": [],
      "toc_visible": true,
      "authorship_tag": "ABX9TyOrq2AH5g2zKoJUaG/UXrRN",
      "include_colab_link": true
    },
    "kernelspec": {
      "name": "python3",
      "display_name": "Python 3"
    },
    "language_info": {
      "name": "python"
    }
  },
  "cells": [
    {
      "cell_type": "markdown",
      "metadata": {
        "id": "view-in-github",
        "colab_type": "text"
      },
      "source": [
        "<a href=\"https://colab.research.google.com/github/wedatalab-lecture/FirstPython/blob/main/3_%EC%A1%B0%EA%B1%B4%EA%B3%BC_%EB%B0%98%EB%B3%B5(1)_%EC%8B%A4%EC%8A%B5.ipynb\" target=\"_parent\"><img src=\"https://colab.research.google.com/assets/colab-badge.svg\" alt=\"Open In Colab\"/></a>"
      ]
    },
    {
      "cell_type": "markdown",
      "source": [
        "#3.조건과 반복 (1)\n",
        "\n",
        "- if문\n",
        "\n",
        "\n",
        "```\n",
        "교재 : \"비전공자를 위한 처음 만나는 파이썬\"(권건우 외 7명 저)\n",
        "\n",
        "p.90~95\n",
        "\n",
        "Ⅳ. 조건과 반복\n",
        "    1. 조건 if문\n",
        "```\n",
        "\n"
      ],
      "metadata": {
        "id": "NRXnQ8_230vF"
      }
    },
    {
      "cell_type": "markdown",
      "source": [
        "##**if문**\n",
        "```\n",
        "if 조건:\n",
        "    실행할 명령1\n",
        "    실행할 명령2\n",
        "    ..\n",
        "    ..\n",
        "    ..\n",
        "```\n",
        "- 조건이 참인지 거짓인지 판단한다.\n",
        "- 조건에 따라 처리의 흐름이 바뀐다.\n",
        "- if뒤에는 조건이 오며, 조건 뒤에는 : 이 붙는다. 실행 내용은 들여쓰기(indentation)가 되어야 한다.\n",
        "- 만약 조건이 참일 경우 코드블럭을 실행한다.\n",
        "- 조건이 거짓일 경우 코드블럭을 넘어간다.\n",
        "- elif를 사용하여 조건을 추가적으로 검사할 수 있고, else와 elif는 선택적으로 사용이 가능하다."
      ],
      "metadata": {
        "id": "wvVZ9mnhpPvB"
      }
    },
    {
      "cell_type": "markdown",
      "source": [
        "**if 구조**"
      ],
      "metadata": {
        "id": "P4yjKsqrxS9l"
      }
    },
    {
      "cell_type": "code",
      "source": [
        "#p90\n",
        "# 숫자가 30이면, 'The number is 30.' 문장 출력\n",
        "\n"
      ],
      "metadata": {
        "id": "CcfNLwiVQIFO"
      },
      "execution_count": null,
      "outputs": []
    },
    {
      "cell_type": "markdown",
      "source": [
        "**if / else 구조**"
      ],
      "metadata": {
        "id": "WIvwWvvExZzv"
      }
    },
    {
      "cell_type": "code",
      "source": [
        "#p91\n",
        "# 30이 아닌 경우, 'The number is not 30.' 문장 출력\n",
        "\n"
      ],
      "metadata": {
        "id": "pOLRBcIsQICG"
      },
      "execution_count": null,
      "outputs": []
    },
    {
      "cell_type": "code",
      "source": [
        "# 문자열\n",
        "str1 = \"python\"\n",
        "if str1 == \"mython\":\n",
        "  print('The string is python.')\n",
        "else:\n",
        "  print('The string is not python.')"
      ],
      "metadata": {
        "id": "uxiINfKQRRKV"
      },
      "execution_count": null,
      "outputs": []
    },
    {
      "cell_type": "markdown",
      "source": [
        "**if / elif / else 구조**"
      ],
      "metadata": {
        "id": "MHgenPsjxc0o"
      }
    },
    {
      "cell_type": "code",
      "source": [
        "# 숫자 입력받기\n"
      ],
      "metadata": {
        "id": "7Ze-MwvdwbtY"
      },
      "execution_count": null,
      "outputs": []
    },
    {
      "cell_type": "code",
      "source": [
        "#p92\n",
        "# 숫자가 30이면, 'The number is 30.'\n",
        "# 숫자가 30보다 크면, 'The number is more than 30.'\n",
        "# 그 외의 경우는, 'The number is less than 30.'\n",
        "num = 31\n",
        "if num == 30:\n",
        "  print('The number is 30.')\n",
        "elif num > 30:\n",
        "  print('The number is more than 30.')\n",
        "else:\n",
        "  print('The number is less than 30.')\n"
      ],
      "metadata": {
        "id": "TwQYofFMQH_E"
      },
      "execution_count": null,
      "outputs": []
    },
    {
      "cell_type": "markdown",
      "source": [
        "##**비교 연산자를 사용한 표현식**\n",
        "\n",
        "- 연산자(is, is not, ==, <=, >=, <, >, !=) 앞뒤의 값을 비교해서 참과 거짓 반환."
      ],
      "metadata": {
        "id": "PfHUDqIYT18z"
      }
    },
    {
      "cell_type": "code",
      "source": [],
      "metadata": {
        "id": "Vd7nA1YrcSgP"
      },
      "execution_count": null,
      "outputs": []
    },
    {
      "cell_type": "code",
      "source": [
        "#p95\n",
        "a = 300\n",
        "b = 55\n",
        "if b > a:\n",
        "  print(\"b는 a보다 크다.\")\n",
        "elif a == b:\n",
        "  print(\"a와 b는 같다.\")\n",
        "else:\n",
        "  print(\"a는 b보다 크다.\")"
      ],
      "metadata": {
        "id": "JVfgKDirQH4L"
      },
      "execution_count": null,
      "outputs": []
    },
    {
      "cell_type": "markdown",
      "source": [
        "**연습문제 1**\n",
        "* 온도를 입력받고,\n",
        "* 30도보다 높으면 \"여름\"출력,\n",
        "* 20도보다 높으면 \"봄\"출력,\n",
        "* 10도보다 높으면 \"가을\" 출력,\n",
        "* 10도보다 낮거나 같으면 \"겨울\"이 출력되도록 코드 작성"
      ],
      "metadata": {
        "id": "09QGdbxtwqVe"
      }
    },
    {
      "cell_type": "code",
      "source": [
        "#p95\n"
      ],
      "metadata": {
        "id": "pYU2D1jgQHxL"
      },
      "execution_count": null,
      "outputs": []
    },
    {
      "cell_type": "code",
      "source": [],
      "metadata": {
        "id": "nh44WJbXcXq8"
      },
      "execution_count": null,
      "outputs": []
    },
    {
      "cell_type": "markdown",
      "source": [
        "##**논리 연산자를 사용한 표현식**\n",
        "\n",
        "- 논리 연산자 (and, or, not)으로 여러 개의 조건을 연결한다."
      ],
      "metadata": {
        "id": "tO7Pc14rToVO"
      }
    },
    {
      "cell_type": "code",
      "source": [],
      "metadata": {
        "id": "m0bpOVbRcZGe"
      },
      "execution_count": null,
      "outputs": []
    },
    {
      "cell_type": "code",
      "source": [
        "#p94\n",
        "a = 2\n",
        "b = 5\n",
        "c = 7\n",
        "if a < b and c > a:\n",
        "  print(\"두 조건이 True\")"
      ],
      "metadata": {
        "id": "LU9X3vVkR47f"
      },
      "execution_count": null,
      "outputs": []
    },
    {
      "cell_type": "code",
      "source": [
        "if a < b or a > c:\n",
        "  print(\"적어도 하나의 조건이 True\")"
      ],
      "metadata": {
        "id": "EyLr6Ut1SQKz"
      },
      "execution_count": null,
      "outputs": []
    },
    {
      "cell_type": "code",
      "source": [
        "a > b #a는 b보다 크다."
      ],
      "metadata": {
        "id": "GYZ3aAKaSPkO"
      },
      "execution_count": null,
      "outputs": []
    },
    {
      "cell_type": "code",
      "source": [
        "not a > b #a는 b보다 크지 않다."
      ],
      "metadata": {
        "id": "XbzuiakqSPHm"
      },
      "execution_count": null,
      "outputs": []
    },
    {
      "cell_type": "markdown",
      "source": [
        "**연습문제 2**\n",
        "\n",
        "\n",
        "놀이기구를 타려면 아래 조건을 만족해야 함.\n",
        "*   나이가 10세 이상이고, 키가 165cm 이상\n",
        "\n",
        "나이와 키를 입력하면 놀이기구를 탈 수 있는지 알려주는 프로그램 만들기."
      ],
      "metadata": {
        "id": "0LbbStNEyCNS"
      }
    },
    {
      "cell_type": "code",
      "source": [],
      "metadata": {
        "id": "FBTVvyeCQH7r"
      },
      "execution_count": null,
      "outputs": []
    },
    {
      "cell_type": "markdown",
      "source": [
        "**연습문제 3**\n",
        "\n",
        "입력받은 문자열에 \"a\" 또는 \"b\"가 들어있으면, True를 출력하는 프로그램을 만들기."
      ],
      "metadata": {
        "id": "RUb3FyeMciLk"
      }
    },
    {
      "cell_type": "code",
      "source": [],
      "metadata": {
        "id": "9dlXfffhclo1"
      },
      "execution_count": null,
      "outputs": []
    },
    {
      "cell_type": "markdown",
      "source": [
        "**in, not in**\n",
        "\n",
        "- 포함/불포함 확인 연산."
      ],
      "metadata": {
        "id": "82tHdePsc0N-"
      }
    },
    {
      "cell_type": "code",
      "source": [
        "# in, not in\n"
      ],
      "metadata": {
        "id": "sYblGVp5czza"
      },
      "execution_count": null,
      "outputs": []
    },
    {
      "cell_type": "code",
      "source": [
        "# 리스트\n"
      ],
      "metadata": {
        "id": "fMMMccLMc3Qd"
      },
      "execution_count": null,
      "outputs": []
    },
    {
      "cell_type": "code",
      "source": [
        "# 튜플\n"
      ],
      "metadata": {
        "id": "MeT6FzSRc4rs"
      },
      "execution_count": null,
      "outputs": []
    },
    {
      "cell_type": "code",
      "source": [
        "# 딕셔너리\n"
      ],
      "metadata": {
        "id": "eAWZcIMgc5w1"
      },
      "execution_count": null,
      "outputs": []
    }
  ]
}