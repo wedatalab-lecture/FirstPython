{
  "nbformat": 4,
  "nbformat_minor": 0,
  "metadata": {
    "colab": {
      "private_outputs": true,
      "provenance": [],
      "authorship_tag": "ABX9TyNcS8/xMo+8oIENSWB0PPgv",
      "include_colab_link": true
    },
    "kernelspec": {
      "name": "python3",
      "display_name": "Python 3"
    },
    "language_info": {
      "name": "python"
    }
  },
  "cells": [
    {
      "cell_type": "markdown",
      "metadata": {
        "id": "view-in-github",
        "colab_type": "text"
      },
      "source": [
        "<a href=\"https://colab.research.google.com/github/wedatalab-lecture/FirstPython/blob/main/2_%EC%9E%90%EB%A3%8C%ED%98%95(3)_%EC%8B%A4%EC%8A%B5.ipynb\" target=\"_parent\"><img src=\"https://colab.research.google.com/assets/colab-badge.svg\" alt=\"Open In Colab\"/></a>"
      ]
    },
    {
      "cell_type": "markdown",
      "source": [
        "#2.자료형 (3)\n",
        "\n",
        "- 숫자\n",
        "- 문자열\n",
        "- 불리언\n",
        "\n",
        "\n",
        "```\n",
        "교재 : \"비전공자를 위한 처음 만나는 파이썬\"(권건우 외 7명 저)\n",
        "\n",
        "p.69~77\n",
        "\n",
        "Ⅲ.자료형\n",
        "    5.자료형의 종류\n",
        "        1)숫자\n",
        "        2)문자열\n",
        "        3)불리언\n",
        "```\n",
        "\n"
      ],
      "metadata": {
        "id": "NRXnQ8_230vF"
      }
    },
    {
      "cell_type": "markdown",
      "source": [
        "##**숫자(Numeric)**\n",
        "\n",
        "- 숫자로 이루어진 자료형\n",
        "- int : 정수이며 integer의 약자\n",
        "- float : 실수이며 floating point number의 약자\n",
        "- 숫자끼리 연산이 가능\n",
        "\n"
      ],
      "metadata": {
        "id": "J6iW_mJ4m-EF"
      }
    },
    {
      "cell_type": "code",
      "source": [
        "#p69\n",
        "type(3)\n",
        "type(3.0)\n"
      ],
      "metadata": {
        "id": "WdPkEgM25Mrw"
      },
      "execution_count": null,
      "outputs": []
    },
    {
      "cell_type": "code",
      "source": [
        "# 정수\n"
      ],
      "metadata": {
        "id": "-W7q09tmQH_q"
      },
      "execution_count": null,
      "outputs": []
    },
    {
      "cell_type": "code",
      "source": [
        "# 실수\n"
      ],
      "metadata": {
        "id": "VfxSQKr6QJBd"
      },
      "execution_count": null,
      "outputs": []
    },
    {
      "cell_type": "code",
      "source": [
        "# 숫자표현방식: 유효숫자 * 10^지수\n",
        "12345e2"
      ],
      "metadata": {
        "id": "9ZRTxgKNMyVy"
      },
      "execution_count": null,
      "outputs": []
    },
    {
      "cell_type": "code",
      "source": [
        "12345e-2"
      ],
      "metadata": {
        "id": "P7N_nJdGN9JK"
      },
      "execution_count": null,
      "outputs": []
    },
    {
      "cell_type": "code",
      "source": [
        "#정수로 바꾸기\n"
      ],
      "metadata": {
        "id": "bFA4NkaI5MUD"
      },
      "execution_count": null,
      "outputs": []
    },
    {
      "cell_type": "code",
      "source": [
        "# 실수로 바꾸기\n"
      ],
      "metadata": {
        "id": "ZyagQkGmPQO4"
      },
      "execution_count": null,
      "outputs": []
    },
    {
      "cell_type": "markdown",
      "source": [
        "**파이썬 부동소수점 수 더 알아보기**\n",
        "\n",
        "https://docs.python.org/3/tutorial/floatingpoint.html\n"
      ],
      "metadata": {
        "id": "TdHEGGZ5NXFj"
      }
    },
    {
      "cell_type": "markdown",
      "source": [
        "**input과 숫자 연산 활용 문제**\n",
        "\n",
        "* input()의 반환값은 문자열\n",
        "* 산술연산자 +, -, *, /, //, %, **  활용하기"
      ],
      "metadata": {
        "id": "rfCxf6cmP_NU"
      }
    },
    {
      "cell_type": "code",
      "source": [],
      "metadata": {
        "id": "rxnfigMbcbbg"
      },
      "execution_count": null,
      "outputs": []
    },
    {
      "cell_type": "code",
      "source": [
        "#p70\n",
        "\n",
        "a = input()\n",
        "a * 4\n",
        "a = int(input())\n",
        "print(a * 4)\n"
      ],
      "metadata": {
        "id": "NCU6WL7z6Q9Q"
      },
      "execution_count": null,
      "outputs": []
    },
    {
      "cell_type": "code",
      "source": [
        "a = int(input())\n",
        "print(a/4)"
      ],
      "metadata": {
        "id": "LC6EA-dl6Q50"
      },
      "execution_count": null,
      "outputs": []
    },
    {
      "cell_type": "code",
      "source": [
        "#p70\n",
        "# 두 개의 입력 a,b\n",
        "# a*b의 값을 c에 저장\n",
        "# c를 4로 나눈 몫과 나머지 출력\n",
        "\n"
      ],
      "metadata": {
        "id": "rZ0AjsZG6Q2Z"
      },
      "execution_count": null,
      "outputs": []
    },
    {
      "cell_type": "code",
      "source": [
        "#p70\n",
        "a = int(input())\n",
        "b = int(input())\n",
        "c = a*b\n",
        "div = int(c/4)\n",
        "mod = c - (div*4)\n",
        "\n",
        "print(\"몫은\",div,\n",
        "      \"나머지는\",mod,\"입니다.\")\n"
      ],
      "metadata": {
        "id": "JImmqYsS6Qy6"
      },
      "execution_count": null,
      "outputs": []
    },
    {
      "cell_type": "markdown",
      "source": [
        "**숫자와 관련된 내장함수**\n",
        "\n",
        "* eval() : 문자열로 전달받은 연산식을 실행\n",
        "* round() : 실수를 가장 가까운 정수로 반올림하여 반환"
      ],
      "metadata": {
        "id": "eLL2qCkBP6Ja"
      }
    },
    {
      "cell_type": "code",
      "source": [
        "#p71\n",
        "# eval( \"expression\" )\n",
        "eval('3 + 4 * 2')"
      ],
      "metadata": {
        "id": "lafkoYNu6QvI"
      },
      "execution_count": null,
      "outputs": []
    },
    {
      "cell_type": "code",
      "source": [],
      "metadata": {
        "id": "5DM88nFjeYYh"
      },
      "execution_count": null,
      "outputs": []
    },
    {
      "cell_type": "code",
      "source": [],
      "metadata": {
        "id": "EGPXG1-deShZ"
      },
      "execution_count": null,
      "outputs": []
    },
    {
      "cell_type": "code",
      "source": [
        "# 반올림\n",
        "round(3.1)"
      ],
      "metadata": {
        "id": "1wuE8BVBHVw1"
      },
      "execution_count": null,
      "outputs": []
    },
    {
      "cell_type": "code",
      "source": [
        "print(round(3.9))\n",
        "print(round(-3.1))\n",
        "print(round(-3.9))"
      ],
      "metadata": {
        "id": "pMZSasJRHVs1"
      },
      "execution_count": null,
      "outputs": []
    },
    {
      "cell_type": "code",
      "source": [
        "# 소수점 아래 반올림\n"
      ],
      "metadata": {
        "id": "wPujQcokeyLH"
      },
      "execution_count": null,
      "outputs": []
    },
    {
      "cell_type": "markdown",
      "source": [
        "**복합 할당연산자**\n",
        "\n",
        "- 산술연산자(+, -, *, /, //, %, **)에 할당연산자(=)를 사용\n",
        "- 연산 결과를 새로운 값으로 수정하여 변수에 할당한다."
      ],
      "metadata": {
        "id": "FTqy27bSQ7mp"
      }
    },
    {
      "cell_type": "code",
      "source": [
        "#p71\n",
        "x = 10\n",
        "x += 3\n",
        "x"
      ],
      "metadata": {
        "id": "qG40TAJQHVia"
      },
      "execution_count": null,
      "outputs": []
    },
    {
      "cell_type": "code",
      "source": [
        "x = 10\n",
        "x -= 3\n",
        "x"
      ],
      "metadata": {
        "id": "KWZeYQLAHVd8"
      },
      "execution_count": null,
      "outputs": []
    },
    {
      "cell_type": "code",
      "source": [
        "x = 10\n",
        "x *= 3\n",
        "x"
      ],
      "metadata": {
        "id": "UCkDpE81HpSf"
      },
      "execution_count": null,
      "outputs": []
    },
    {
      "cell_type": "code",
      "source": [
        "x = 10\n",
        "x /= 3\n",
        "x"
      ],
      "metadata": {
        "id": "Iv7WnKU9Hqz9"
      },
      "execution_count": null,
      "outputs": []
    },
    {
      "cell_type": "code",
      "source": [
        "x = 10\n",
        "x //= 3\n",
        "x"
      ],
      "metadata": {
        "id": "rKd8O3w9HsF1"
      },
      "execution_count": null,
      "outputs": []
    },
    {
      "cell_type": "code",
      "source": [
        "x = 10\n",
        "x %= 3\n",
        "x"
      ],
      "metadata": {
        "id": "E0-ZpAC4HvDq"
      },
      "execution_count": null,
      "outputs": []
    },
    {
      "cell_type": "code",
      "source": [
        "x = 10\n",
        "x **= 3\n",
        "x"
      ],
      "metadata": {
        "id": "TYN0paUL6Qrl"
      },
      "execution_count": null,
      "outputs": []
    },
    {
      "cell_type": "markdown",
      "source": [
        "##**문자열(String)**\n",
        "\n",
        "- 문자나 문자들을 늘어놓은 것이다.\n",
        "- 큰따옴표 \" \"와 또는 작은 따옴표 ' '로 구분한다.\n",
        "- 리스트와 함께 시퀀스(Sequence) 자료형이다."
      ],
      "metadata": {
        "id": "46aGRn-PMhRL"
      }
    },
    {
      "cell_type": "code",
      "source": [
        "#문자열 정의\n"
      ],
      "metadata": {
        "id": "9sUgizd1V19p"
      },
      "execution_count": null,
      "outputs": []
    },
    {
      "cell_type": "code",
      "source": [
        "#문자열로 바꾸기\n"
      ],
      "metadata": {
        "id": "Z_Sd4Rw5V386"
      },
      "execution_count": null,
      "outputs": []
    },
    {
      "cell_type": "code",
      "source": [
        "#p72\n",
        "a = \"Hello, World!\"\n",
        "len(a)  #문자열의 길이"
      ],
      "metadata": {
        "id": "h56AOWoE6QmP"
      },
      "execution_count": null,
      "outputs": []
    },
    {
      "cell_type": "code",
      "source": [
        "#p72\n",
        "name = input(\"이름? \")\n",
        "age = input(\"나이? \")\n",
        "print(\"나의 이름은\",name,\"이고,나이는\",age,\"입니다.\")"
      ],
      "metadata": {
        "id": "0B2akpqE6QhW"
      },
      "execution_count": null,
      "outputs": []
    },
    {
      "cell_type": "markdown",
      "source": [
        "**문자열 연산**\n",
        "- ```+ : 문자끼리 연결```\n",
        "- ```* : 문자열을 해당 수만큼 반복```"
      ],
      "metadata": {
        "id": "51OC9Gx7VX0r"
      }
    },
    {
      "cell_type": "code",
      "source": [],
      "metadata": {
        "id": "X2QSsoxiqA5V"
      },
      "execution_count": null,
      "outputs": []
    },
    {
      "cell_type": "code",
      "source": [
        "#p72\n",
        "\"3\" * 2"
      ],
      "metadata": {
        "id": "6vpvASSC6Qdn"
      },
      "execution_count": null,
      "outputs": []
    },
    {
      "cell_type": "code",
      "source": [
        "int(\"3\") * 2"
      ],
      "metadata": {
        "id": "0izCSqZmIBS4"
      },
      "execution_count": null,
      "outputs": []
    },
    {
      "cell_type": "markdown",
      "source": [
        "**문자열 인덱싱**"
      ],
      "metadata": {
        "id": "T1-TtgmaVagM"
      }
    },
    {
      "cell_type": "code",
      "source": [
        "#p73\n",
        "my_str = \"coding\"\n",
        "my_str"
      ],
      "metadata": {
        "id": "hLD1xSgz6QZq"
      },
      "execution_count": null,
      "outputs": []
    },
    {
      "cell_type": "code",
      "source": [
        "my_str[0]"
      ],
      "metadata": {
        "id": "cdEsy_ImIJFd"
      },
      "execution_count": null,
      "outputs": []
    },
    {
      "cell_type": "code",
      "source": [
        "my_str[0:3]"
      ],
      "metadata": {
        "id": "_fyFNlEeIIqm"
      },
      "execution_count": null,
      "outputs": []
    },
    {
      "cell_type": "markdown",
      "source": [
        "**문자열 메서드**\n",
        "\n",
        "- count() : 문자열에서 해당 문자의 개수\n",
        "- upper() : 전부 대문자로 변환\n",
        "- lower() : 전부 소문자로\n",
        "- swapcase() : 소대문자 서로 바꾸기\n",
        "- capitalize() : 첫자만 대문자로\n",
        "- title() : 각 단어의 첫 자만 대문자로\n",
        "- strip() : 시작과 끝의 스페이스 제거\n",
        "- replace() : 문자열 치환\n",
        "- split() : 스페이스로 문자열을 쪼개기\n",
        "- join(): 문자열로 구성된 리스트를 하나의 문자열로 합치기\n",
        "- format() : 포멧에 맞게 변환\n",
        "\n"
      ],
      "metadata": {
        "id": "O0u2Y7s1Vg0m"
      }
    },
    {
      "cell_type": "code",
      "source": [
        "#p74\n",
        "#count() : 해당 문자의 개수\n",
        "s = \"i Love Python\"\n",
        "s.count('o')"
      ],
      "metadata": {
        "id": "fW7fC03W6QWe"
      },
      "execution_count": null,
      "outputs": []
    },
    {
      "cell_type": "code",
      "execution_count": null,
      "metadata": {
        "execution": {
          "iopub.execute_input": "2023-05-22T05:00:30.923933Z",
          "iopub.status.busy": "2023-05-22T05:00:30.923694Z",
          "iopub.status.idle": "2023-05-22T05:00:30.926531Z",
          "shell.execute_reply": "2023-05-22T05:00:30.926132Z",
          "shell.execute_reply.started": "2023-05-22T05:00:30.923915Z"
        },
        "id": "fXMdrAG9cbyI",
        "tags": []
      },
      "outputs": [],
      "source": [
        "#upper() : 모두 대문자로\n",
        "print(s)\n",
        "print(s.upper())"
      ]
    },
    {
      "cell_type": "code",
      "execution_count": null,
      "metadata": {
        "execution": {
          "iopub.execute_input": "2023-05-22T05:00:56.924391Z",
          "iopub.status.busy": "2023-05-22T05:00:56.924062Z",
          "iopub.status.idle": "2023-05-22T05:00:56.926907Z",
          "shell.execute_reply": "2023-05-22T05:00:56.926507Z",
          "shell.execute_reply.started": "2023-05-22T05:00:56.924374Z"
        },
        "id": "0qa5vK0occzm",
        "tags": []
      },
      "outputs": [],
      "source": [
        "#lower() : 모두 소문자로\n",
        "print(s)\n",
        "print(s.lower())"
      ]
    },
    {
      "cell_type": "code",
      "execution_count": null,
      "metadata": {
        "execution": {
          "iopub.execute_input": "2023-05-22T05:00:58.924785Z",
          "iopub.status.busy": "2023-05-22T05:00:58.924593Z",
          "iopub.status.idle": "2023-05-22T05:00:58.927424Z",
          "shell.execute_reply": "2023-05-22T05:00:58.927022Z",
          "shell.execute_reply.started": "2023-05-22T05:00:58.924769Z"
        },
        "id": "_NPGd7OicgAe",
        "tags": []
      },
      "outputs": [],
      "source": [
        "#swapcase() : 소대문자 서로 바꾸기\n",
        "print(s)\n",
        "print(s.swapcase())"
      ]
    },
    {
      "cell_type": "code",
      "execution_count": null,
      "metadata": {
        "execution": {
          "iopub.execute_input": "2023-05-22T05:01:00.923698Z",
          "iopub.status.busy": "2023-05-22T05:01:00.923432Z",
          "iopub.status.idle": "2023-05-22T05:01:00.926420Z",
          "shell.execute_reply": "2023-05-22T05:01:00.926089Z",
          "shell.execute_reply.started": "2023-05-22T05:01:00.923663Z"
        },
        "id": "Qqft2HTocilX",
        "tags": []
      },
      "outputs": [],
      "source": [
        "#capitalize() : 첫 글자만 대문자로\n",
        "print(s)\n",
        "print(s.capitalize())"
      ]
    },
    {
      "cell_type": "code",
      "execution_count": null,
      "metadata": {
        "execution": {
          "iopub.execute_input": "2023-05-22T05:01:10.923330Z",
          "iopub.status.busy": "2023-05-22T05:01:10.923091Z",
          "iopub.status.idle": "2023-05-22T05:01:10.926148Z",
          "shell.execute_reply": "2023-05-22T05:01:10.925783Z",
          "shell.execute_reply.started": "2023-05-22T05:01:10.923312Z"
        },
        "id": "Dt9g89Zzcnae",
        "tags": []
      },
      "outputs": [],
      "source": [
        "#title() : 각 단어의 첫 글자만 대문자로\n",
        "print(s)\n",
        "print(s.title())"
      ]
    },
    {
      "cell_type": "code",
      "execution_count": null,
      "metadata": {
        "execution": {
          "iopub.execute_input": "2023-05-22T05:01:12.923856Z",
          "iopub.status.busy": "2023-05-22T05:01:12.923559Z",
          "iopub.status.idle": "2023-05-22T05:01:12.926612Z",
          "shell.execute_reply": "2023-05-22T05:01:12.926259Z",
          "shell.execute_reply.started": "2023-05-22T05:01:12.923838Z"
        },
        "id": "EyzN-HHJcq32",
        "tags": []
      },
      "outputs": [],
      "source": [
        "#strip() : 시작과 끝의 스페이스 제거\n",
        "s = \"  i Love Python \"\n",
        "print(s)\n",
        "print(s.strip())"
      ]
    },
    {
      "cell_type": "code",
      "execution_count": null,
      "metadata": {
        "execution": {
          "iopub.execute_input": "2023-05-22T05:01:21.925052Z",
          "iopub.status.busy": "2023-05-22T05:01:21.924819Z",
          "iopub.status.idle": "2023-05-22T05:01:21.927960Z",
          "shell.execute_reply": "2023-05-22T05:01:21.927523Z",
          "shell.execute_reply.started": "2023-05-22T05:01:21.925034Z"
        },
        "id": "uDk77XZ8cwn_",
        "tags": []
      },
      "outputs": [],
      "source": [
        "#replace(기존 문자열, 새로 들어갈 문자열) : 문자열 치환\n",
        "s = \"i Love Python\"\n",
        "print(s.replace(\"i\", \"you\"))"
      ]
    },
    {
      "cell_type": "code",
      "execution_count": null,
      "metadata": {
        "execution": {
          "iopub.execute_input": "2023-05-22T05:02:12.923973Z",
          "iopub.status.busy": "2023-05-22T05:02:12.923547Z",
          "iopub.status.idle": "2023-05-22T05:02:12.926637Z",
          "shell.execute_reply": "2023-05-22T05:02:12.926257Z",
          "shell.execute_reply.started": "2023-05-22T05:02:12.923954Z"
        },
        "id": "fJqVL4yNc4iG",
        "tags": []
      },
      "outputs": [],
      "source": [
        "#split() : 문자열을 쪼개기\n",
        "s = \"i Love Python\"\n",
        "li = s.split(\" \")\n",
        "print(li)"
      ]
    },
    {
      "cell_type": "code",
      "source": [
        "#p74\n",
        "#구분자.join()\n",
        "li = [\"파이썬은\", \"인터프리터\", \"입니다.\"]\n",
        "print(type(li))\n",
        "print(type(li[0]))"
      ],
      "metadata": {
        "id": "EzTyJGEMIVBo"
      },
      "execution_count": null,
      "outputs": []
    },
    {
      "cell_type": "code",
      "source": [
        "\"\".join(li)"
      ],
      "metadata": {
        "id": "2RfxdDCbtRlN"
      },
      "execution_count": null,
      "outputs": []
    },
    {
      "cell_type": "code",
      "source": [
        "\" \".join(li)"
      ],
      "metadata": {
        "id": "gJvGwkl5tcpY"
      },
      "execution_count": null,
      "outputs": []
    },
    {
      "cell_type": "code",
      "source": [
        "''.join(['파이썬은','인터프리터','입니다.'])"
      ],
      "metadata": {
        "id": "GAqy45NCIT0T"
      },
      "execution_count": null,
      "outputs": []
    },
    {
      "cell_type": "code",
      "source": [
        "\"_\".join(['파이썬은','인터프리터','입니다.'])"
      ],
      "metadata": {
        "id": "aIc6GdKM6QTE"
      },
      "execution_count": null,
      "outputs": []
    },
    {
      "cell_type": "markdown",
      "source": [
        "**format()메서드의 다양한 활용**"
      ],
      "metadata": {
        "id": "EA02OPKAn5gx"
      }
    },
    {
      "cell_type": "code",
      "source": [
        "#p74\n",
        "name = \"Tom\"\n",
        "age = 30\n",
        "print(\"name:{}, age:{}\".format(name, age))"
      ],
      "metadata": {
        "id": "k7Fi1CPZ6QOq"
      },
      "execution_count": null,
      "outputs": []
    },
    {
      "cell_type": "code",
      "source": [
        "name = input(\"이름은? \")\n",
        "age = input(\"나이는? \")\n",
        "job = input(\"직업은? \")\n",
        "print(\"name: {}, age: {}, job: {}\".format(name, age, job))"
      ],
      "metadata": {
        "id": "DFijcF0o6QKL"
      },
      "execution_count": null,
      "outputs": []
    },
    {
      "cell_type": "code",
      "execution_count": null,
      "metadata": {
        "execution": {
          "iopub.execute_input": "2023-05-22T05:01:33.924176Z",
          "iopub.status.busy": "2023-05-22T05:01:33.923921Z",
          "iopub.status.idle": "2023-05-22T05:01:33.926978Z",
          "shell.execute_reply": "2023-05-22T05:01:33.926579Z",
          "shell.execute_reply.started": "2023-05-22T05:01:33.924158Z"
        },
        "tags": [],
        "id": "vOeWDD6oYlw1"
      },
      "outputs": [],
      "source": [
        "#변수 지정\n",
        "print('실수 : {1}, 숫자 : {0}, 문자열 : {2}'.format(5, 0.5, 'python'))"
      ]
    },
    {
      "cell_type": "code",
      "execution_count": null,
      "metadata": {
        "execution": {
          "iopub.execute_input": "2023-05-22T05:01:35.924182Z",
          "iopub.status.busy": "2023-05-22T05:01:35.923945Z",
          "iopub.status.idle": "2023-05-22T05:01:35.926954Z",
          "shell.execute_reply": "2023-05-22T05:01:35.926623Z",
          "shell.execute_reply.started": "2023-05-22T05:01:35.924164Z"
        },
        "id": "zhj-4EXfw6Dg",
        "tags": []
      },
      "outputs": [],
      "source": [
        "print('실수 : {a}, 숫자 : {b}, 문자열 : {c}'.format(a=0.1, b=100, c='python'))"
      ]
    },
    {
      "cell_type": "code",
      "execution_count": null,
      "metadata": {
        "execution": {
          "iopub.execute_input": "2023-05-22T04:08:36.874891Z",
          "iopub.status.busy": "2023-05-22T04:08:36.874669Z",
          "iopub.status.idle": "2023-05-22T04:08:36.879310Z",
          "shell.execute_reply": "2023-05-22T04:08:36.878719Z",
          "shell.execute_reply.started": "2023-05-22T04:08:36.874872Z"
        },
        "id": "PzEFa0caofoI",
        "tags": []
      },
      "outputs": [],
      "source": [
        "# f-string\n",
        "name = \"Tom\"\n",
        "age = 30\n",
        "print(\"name: , age: \")"
      ]
    },
    {
      "cell_type": "code",
      "execution_count": null,
      "metadata": {
        "execution": {
          "iopub.execute_input": "2023-05-22T04:08:37.877181Z",
          "iopub.status.busy": "2023-05-22T04:08:37.876906Z",
          "iopub.status.idle": "2023-05-22T04:08:37.880991Z",
          "shell.execute_reply": "2023-05-22T04:08:37.880441Z",
          "shell.execute_reply.started": "2023-05-22T04:08:37.877161Z"
        },
        "id": "kBhfmPMBpa4z",
        "tags": []
      },
      "outputs": [],
      "source": [
        "# %s %d %f\n",
        "name = 'tom'\n",
        "age = 30\n",
        "salary = 200.8\n",
        "\n",
        "print('name : , age :  , salary: ' )"
      ]
    },
    {
      "cell_type": "markdown",
      "source": [
        "##**불리언(Bool)**\n",
        "- True, False의 값을 갖는 자료형\n",
        "- None, 공백, 0인 경우에 False, 이외는 True\n",
        "- 불형은 비교연산자, 논리연산자의 결과값으로 반환된다.\n"
      ],
      "metadata": {
        "id": "_-cEW-PZM_VX"
      }
    },
    {
      "cell_type": "code",
      "source": [
        "#bool\n"
      ],
      "metadata": {
        "id": "U5nFeNu41c_T"
      },
      "execution_count": null,
      "outputs": []
    },
    {
      "cell_type": "code",
      "source": [],
      "metadata": {
        "id": "fI14VVUf8fu2"
      },
      "execution_count": null,
      "outputs": []
    },
    {
      "cell_type": "code",
      "source": [],
      "metadata": {
        "id": "KoKmqzzb8j7c"
      },
      "execution_count": null,
      "outputs": []
    },
    {
      "cell_type": "code",
      "source": [
        "#p76\n",
        "#False\n",
        "bool(None)"
      ],
      "metadata": {
        "id": "HobBI5xo6QGv"
      },
      "execution_count": null,
      "outputs": []
    },
    {
      "cell_type": "code",
      "source": [
        "bool(0)"
      ],
      "metadata": {
        "id": "KOHkoyJgITiC"
      },
      "execution_count": null,
      "outputs": []
    },
    {
      "cell_type": "code",
      "source": [
        "bool(\"\")"
      ],
      "metadata": {
        "id": "UWHIb1opI8Ie"
      },
      "execution_count": null,
      "outputs": []
    },
    {
      "cell_type": "code",
      "source": [
        "bool()"
      ],
      "metadata": {
        "id": "6iA-qQ5FI8EA"
      },
      "execution_count": null,
      "outputs": []
    },
    {
      "cell_type": "code",
      "source": [
        "bool({})"
      ],
      "metadata": {
        "id": "xcWeX-8AI720"
      },
      "execution_count": null,
      "outputs": []
    },
    {
      "cell_type": "code",
      "source": [
        "bool([])"
      ],
      "metadata": {
        "id": "R2IByobHI7xF"
      },
      "execution_count": null,
      "outputs": []
    },
    {
      "cell_type": "code",
      "source": [
        "#True\n",
        "bool(1)"
      ],
      "metadata": {
        "id": "gHe8NPs31a_U"
      },
      "execution_count": null,
      "outputs": []
    },
    {
      "cell_type": "code",
      "source": [
        "bool(\"a\")"
      ],
      "metadata": {
        "id": "4g2s5Yib1hIZ"
      },
      "execution_count": null,
      "outputs": []
    },
    {
      "cell_type": "code",
      "source": [
        "bool(\" \")"
      ],
      "metadata": {
        "id": "DxWnIqxZ1iCH"
      },
      "execution_count": null,
      "outputs": []
    },
    {
      "cell_type": "code",
      "source": [
        "bool([1,2])"
      ],
      "metadata": {
        "id": "a9YfT6P31lOW"
      },
      "execution_count": null,
      "outputs": []
    },
    {
      "cell_type": "code",
      "source": [],
      "metadata": {
        "id": "8jHrXvtL6QC8"
      },
      "execution_count": null,
      "outputs": []
    },
    {
      "cell_type": "code",
      "source": [],
      "metadata": {
        "id": "LWwK7ta39SZc"
      },
      "execution_count": null,
      "outputs": []
    },
    {
      "cell_type": "code",
      "source": [],
      "metadata": {
        "id": "yU18xLpoI7ka"
      },
      "execution_count": null,
      "outputs": []
    },
    {
      "cell_type": "code",
      "source": [],
      "metadata": {
        "id": "WR0YExKA9WD0"
      },
      "execution_count": null,
      "outputs": []
    },
    {
      "cell_type": "markdown",
      "source": [
        "**비교 연산과 비교 연산자**\n",
        "\n",
        "- 비교 연산 : 비교 연산자 앞뒤의 수나 문자열을 비교해서 논리값 True, False를 반환한다.\n",
        "\n",
        "\n",
        "```\n",
        "비교 연산자\n",
        "\n",
        "==, !=, <, <=, >, >=, is, is not\n",
        "```\n",
        "\n"
      ],
      "metadata": {
        "id": "qDKwKmvg443y"
      }
    },
    {
      "cell_type": "code",
      "source": [
        "#p77\n",
        "3 == 3.0"
      ],
      "metadata": {
        "id": "QQiTs97F5_5F"
      },
      "execution_count": null,
      "outputs": []
    },
    {
      "cell_type": "code",
      "source": [
        "3 != 3.0"
      ],
      "metadata": {
        "id": "XgBXae7e6HNF"
      },
      "execution_count": null,
      "outputs": []
    },
    {
      "cell_type": "code",
      "source": [
        "a = 3\n",
        "print(type(a))"
      ],
      "metadata": {
        "id": "CsWgx3Q16P_M"
      },
      "execution_count": null,
      "outputs": []
    },
    {
      "cell_type": "code",
      "source": [
        "b = 3.0\n",
        "print(type(b))"
      ],
      "metadata": {
        "id": "w9-CwLyXI7f3"
      },
      "execution_count": null,
      "outputs": []
    },
    {
      "cell_type": "code",
      "source": [
        "a is b   # 객체가 같은가?"
      ],
      "metadata": {
        "id": "Qvz2pA3TJUEa"
      },
      "execution_count": null,
      "outputs": []
    },
    {
      "cell_type": "code",
      "source": [
        "a is not b"
      ],
      "metadata": {
        "id": "gisA6LTuJUzw"
      },
      "execution_count": null,
      "outputs": []
    },
    {
      "cell_type": "code",
      "source": [
        "# 참고 : ==과 is의 차이\n",
        "a = 1000\n",
        "b = 1000\n",
        "\n",
        "print(a == b)\n",
        "print(a is b)"
      ],
      "metadata": {
        "id": "AxY4yjhx6YJ4"
      },
      "execution_count": null,
      "outputs": []
    },
    {
      "cell_type": "code",
      "source": [
        "# id() 함수\n"
      ],
      "metadata": {
        "id": "Dy7Wo5Nl-hSK"
      },
      "execution_count": null,
      "outputs": []
    },
    {
      "cell_type": "code",
      "source": [
        "# a와 b가 3일 때?\n"
      ],
      "metadata": {
        "id": "WnkQndCE63I0"
      },
      "execution_count": null,
      "outputs": []
    },
    {
      "cell_type": "markdown",
      "source": [
        "**논리 연산과 논리 연산자**\n",
        "\n",
        "- 논리 연산 : 참과 거짓의 판단을 하는 계산\n",
        "\n",
        "- 논리 표현식(boolean expression): 논리 연산자 and, or, not을 사용한 표현식. 논리연산자 앞뒤의 값을 비교해서 참과 거짓을 반환한다.\n",
        "- 논리 연산자의 앞뒤의 값은 논리값인 boolean 자료형이다.\n",
        "\n",
        "\n",
        "\n",
        "```\n",
        "논리연산자\n",
        "\n",
        "- and : 앞뒤의 값이 모두 참일 때 참을 반환, 하나라도 거짓이면 거짓을 반환.\n",
        "- or : 앞뒤의 값이 모두 거짓일 때만 거짓을 반환, 하나라도 참이면 참을 반환.\n",
        "- not : 기존 논리값을 뒤집는다.\n",
        "```\n",
        "\n"
      ],
      "metadata": {
        "id": "I6aSTJgd1wk6"
      }
    },
    {
      "cell_type": "code",
      "execution_count": null,
      "metadata": {
        "id": "9NrgCscwUY94"
      },
      "outputs": [],
      "source": [
        "#p76\n",
        "bool(1 == 1 and 2 != 2)  #모두 참일 때 참을 반환"
      ]
    },
    {
      "cell_type": "code",
      "source": [
        "1 == 1 and 2 != 2"
      ],
      "metadata": {
        "id": "OEAe9DTRAXzg"
      },
      "execution_count": null,
      "outputs": []
    },
    {
      "cell_type": "code",
      "execution_count": null,
      "metadata": {
        "id": "4M2JsS-NUaLV"
      },
      "outputs": [],
      "source": [
        "bool(1 == 1 or 2 != 2)  #하나라도 참이면 참을 반환"
      ]
    },
    {
      "cell_type": "code",
      "execution_count": null,
      "metadata": {
        "execution": {
          "iopub.execute_input": "2023-05-22T04:43:50.961534Z",
          "iopub.status.busy": "2023-05-22T04:43:50.961431Z",
          "iopub.status.idle": "2023-05-22T04:43:50.963670Z",
          "shell.execute_reply": "2023-05-22T04:43:50.963356Z",
          "shell.execute_reply.started": "2023-05-22T04:43:50.961522Z"
        },
        "id": "6WW66rjW_TR0"
      },
      "outputs": [],
      "source": [
        "bool(not 1 == 1)         #값을 뒤집는다"
      ]
    },
    {
      "cell_type": "code",
      "source": [
        "#p77\n",
        "True and False"
      ],
      "metadata": {
        "id": "eBCF7DZ-6P68"
      },
      "execution_count": null,
      "outputs": []
    },
    {
      "cell_type": "code",
      "source": [
        "False or False"
      ],
      "metadata": {
        "id": "nkNAU_lEAiie"
      },
      "execution_count": null,
      "outputs": []
    },
    {
      "cell_type": "code",
      "source": [
        "4 == 5"
      ],
      "metadata": {
        "id": "fbnDtiDhJgrl"
      },
      "execution_count": null,
      "outputs": []
    },
    {
      "cell_type": "code",
      "source": [
        "4 == 5 or 2 == 2"
      ],
      "metadata": {
        "id": "zwzJnYAKJiUQ"
      },
      "execution_count": null,
      "outputs": []
    }
  ]
}