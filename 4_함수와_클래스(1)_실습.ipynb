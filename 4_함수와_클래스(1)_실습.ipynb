{
  "nbformat": 4,
  "nbformat_minor": 0,
  "metadata": {
    "colab": {
      "private_outputs": true,
      "provenance": [],
      "toc_visible": true,
      "authorship_tag": "ABX9TyOve3S4Ya08bKAhpevYRI37",
      "include_colab_link": true
    },
    "kernelspec": {
      "name": "python3",
      "display_name": "Python 3"
    },
    "language_info": {
      "name": "python"
    }
  },
  "cells": [
    {
      "cell_type": "markdown",
      "metadata": {
        "id": "view-in-github",
        "colab_type": "text"
      },
      "source": [
        "<a href=\"https://colab.research.google.com/github/wedatalab-lecture/FirstPython/blob/main/4_%ED%95%A8%EC%88%98%EC%99%80_%ED%81%B4%EB%9E%98%EC%8A%A4(1)_%EC%8B%A4%EC%8A%B5.ipynb\" target=\"_parent\"><img src=\"https://colab.research.google.com/assets/colab-badge.svg\" alt=\"Open In Colab\"/></a>"
      ]
    },
    {
      "cell_type": "markdown",
      "source": [
        "#4.함수와 클래스 (1)\n",
        "\n",
        "- 함수\n",
        "- 람다(lambda) 표현식\n",
        "- 내장 함수 map()\n",
        "- 지역변수와 전역변수\n",
        "\n",
        "\n",
        "```\n",
        "교재 : \"비전공자를 위한 처음 만나는 파이썬\"(권건우 외 7명 저)\n",
        "\n",
        "p.112 ~ 122\n",
        "\n",
        "Ⅴ.함수와 클래스\n",
        "    1. 함수\n",
        "```\n",
        "\n"
      ],
      "metadata": {
        "id": "NRXnQ8_230vF"
      }
    },
    {
      "cell_type": "markdown",
      "source": [
        "##**함수**\n",
        "\n",
        "- 하나의 작업을 수행하는 코드의 블록.\n",
        "- 반복되는 코드에 이름을 붙여서 다시 재사용할 수 있다.\n",
        "- 필요할 때 함수의 이름을 불러서 사용할 수 있다.\n",
        "- 내장 함수(Built-in Functions)와 사용자 정의 함수(User-defined Functions)가 있다.\n",
        "\n",
        "- 내장 함수 : print(), input(), len() ...\n",
        "\n",
        "- 내장 함수 더 알아보기 :\n",
        "https://docs.python.org/3/library/functions.html\n",
        "\n",
        "\n"
      ],
      "metadata": {
        "id": "ICtkp14k8S2A"
      }
    },
    {
      "cell_type": "code",
      "source": [
        "# 내장함수\n",
        "print()"
      ],
      "metadata": {
        "id": "aZtzyWkDoRJR"
      },
      "execution_count": null,
      "outputs": []
    },
    {
      "cell_type": "code",
      "source": [
        "# 교재 p112\n",
        "# 내장함수 호출\n",
        "# \"Python\" 글자 수 세기\n"
      ],
      "metadata": {
        "id": "XktD64ARWJsp"
      },
      "execution_count": null,
      "outputs": []
    },
    {
      "cell_type": "markdown",
      "source": [
        "**함수 정의와 호출 (사용자 정의 함수)**\n",
        "\n",
        "- def 키워드(definition)로 함수를 정의한다.\n",
        "- 함수 내용에 해당하는 부분(코드 블럭)을 표시하기 위해서 들여쓰기를 한다.\n",
        "- 함수의 이름을 적어서 호출(call)한다.\n",
        "- 함수 더 알아보기 :\n",
        "https://docs.python.org/3/tutorial/controlflow.html#defining-functions\n",
        "\n",
        "```\n",
        "def 함수이름(parameter):\n",
        "    함수 내용...\n",
        "    ...\n",
        "    ...\n",
        "```"
      ],
      "metadata": {
        "id": "6TzXr4wwXKIz"
      }
    },
    {
      "cell_type": "code",
      "source": [
        "# 교재 p114\n",
        "# 함수 정의\n",
        "def my_function(number):\n",
        "    print(\"python \" + number)\n"
      ],
      "metadata": {
        "id": "1zUANyI2WJpe"
      },
      "execution_count": null,
      "outputs": []
    },
    {
      "cell_type": "code",
      "source": [
        "# 함수 호출\n",
        "# 문자열 \"1\" 넣기\n"
      ],
      "metadata": {
        "id": "Dva-RlJiEX75"
      },
      "execution_count": null,
      "outputs": []
    },
    {
      "cell_type": "markdown",
      "source": [
        "**함수의 입력값**\n",
        "- 매개변수(parameter) :  함수가 입력받는 변수\n",
        "- 인자(argument) : 함수가 호출될 때 함수에 실제로 보내지는 값\n",
        "- 입력값은 있을 수도 있으며 없을 수도 있다.\n"
      ],
      "metadata": {
        "id": "wM1NIoUeC7xt"
      }
    },
    {
      "cell_type": "code",
      "source": [
        "# 입력값이 있는 함수\n"
      ],
      "metadata": {
        "id": "HewsoTIR76Bc"
      },
      "execution_count": null,
      "outputs": []
    },
    {
      "cell_type": "code",
      "source": [
        "# 입력값이 없는 함수\n"
      ],
      "metadata": {
        "id": "xAwKs34Bp2Qv"
      },
      "execution_count": null,
      "outputs": []
    },
    {
      "cell_type": "code",
      "source": [
        "# 교재 p115\n",
        "def my_function(number):   # 매개변수 1개\n",
        "  print(\"python \" + number)"
      ],
      "metadata": {
        "id": "xFsl5B0PWJi1"
      },
      "execution_count": null,
      "outputs": []
    },
    {
      "cell_type": "code",
      "source": [
        "# 함수 호출 - 입력값 문자열\n",
        "my_function(\"good\")"
      ],
      "metadata": {
        "id": "9XhGUP1gqNUm"
      },
      "execution_count": null,
      "outputs": []
    },
    {
      "cell_type": "code",
      "source": [
        "def my_function(number,number2): # 매개변수 2개\n",
        "  print(\"python \" + number+ \" and \" + number2)"
      ],
      "metadata": {
        "id": "OhAN5MS3WJfa"
      },
      "execution_count": null,
      "outputs": []
    },
    {
      "cell_type": "code",
      "source": [
        "# 함수 호출 - 입력값 문자열\n",
        "my_function(\"good\", \"very good\")"
      ],
      "metadata": {
        "id": "gWSlkyHSqVVf"
      },
      "execution_count": null,
      "outputs": []
    },
    {
      "cell_type": "code",
      "source": [
        "# 교재 p114\n",
        "# 인자의 초깃값 설정\n",
        "def multiply(num1, num2=10):\n",
        "    print(num1 * num2)  # 인자 num2의 초깃값을 10으로 설정"
      ],
      "metadata": {
        "id": "E8-xYooOWJl_"
      },
      "execution_count": null,
      "outputs": []
    },
    {
      "cell_type": "code",
      "source": [
        "# 필수 인자만(num1) 넣어도 됨\n"
      ],
      "metadata": {
        "id": "DEc4MjgUXIMh"
      },
      "execution_count": null,
      "outputs": []
    },
    {
      "cell_type": "code",
      "source": [
        "# num2는 넣어도 되고 안 넣어도 되는 선택 인자\n"
      ],
      "metadata": {
        "id": "xTJwGNbmqleo"
      },
      "execution_count": null,
      "outputs": []
    },
    {
      "cell_type": "markdown",
      "source": [
        "* 기본 인자 값(Default Argument Values) 더 알아보기 :\n",
        "\n",
        " https://docs.python.org/3/tutorial/controlflow.html#default-argument-values"
      ],
      "metadata": {
        "id": "zs3osD9x9jio"
      }
    },
    {
      "cell_type": "code",
      "source": [
        "# 교재 p115\n",
        "# 이름, 나이, 직업과 같이 인자를 3개 받아 출력하는 함수 만들기.\n"
      ],
      "metadata": {
        "id": "rVrAo2FS9pCA"
      },
      "execution_count": null,
      "outputs": []
    },
    {
      "cell_type": "markdown",
      "source": [
        "**함수의 반환값**\n",
        "- 입력값(input)을 받아 계산한 결과값(output)을 함수의 반환값으로 돌려줄 수 있다.\n",
        "- return 뒤에 반환할 값을 적는다.\n",
        "- 하나의 반환값만 반환할 수 있다.\n",
        "- 반환값은 있을 수도 있으며, 없을 수도 있다.\n",
        "\n",
        "```\n",
        "def 함수이름(parameter):\n",
        "    .....\n",
        "    return data\n",
        "```"
      ],
      "metadata": {
        "id": "n8tOv5JoXdZo"
      }
    },
    {
      "cell_type": "code",
      "source": [
        "# 교재 p116\n",
        "def multiply(num1, num2):\n",
        "  return num1 * num2"
      ],
      "metadata": {
        "id": "4zlZe8f3WJYz"
      },
      "execution_count": null,
      "outputs": []
    },
    {
      "cell_type": "code",
      "source": [
        "multiply(1,2)"
      ],
      "metadata": {
        "id": "w8oQ54k7ri1W"
      },
      "execution_count": null,
      "outputs": []
    },
    {
      "cell_type": "code",
      "source": [
        "# 반환값이 없는 함수\n",
        "def my_function_1(number):\n",
        "    print(number)"
      ],
      "metadata": {
        "id": "ySZHbCqrWJV6"
      },
      "execution_count": null,
      "outputs": []
    },
    {
      "cell_type": "code",
      "source": [
        "# 함수 호출\n"
      ],
      "metadata": {
        "id": "UCqmWA6osAS3"
      },
      "execution_count": null,
      "outputs": []
    },
    {
      "cell_type": "code",
      "source": [
        "# 변수에 할당\n"
      ],
      "metadata": {
        "id": "RmURYmHCsLEn"
      },
      "execution_count": null,
      "outputs": []
    },
    {
      "cell_type": "code",
      "source": [
        "# 변수 출력\n"
      ],
      "metadata": {
        "id": "mc5Pq5uhsOfu"
      },
      "execution_count": null,
      "outputs": []
    },
    {
      "cell_type": "code",
      "source": [
        "# 반환값이 있는 함수\n",
        "def my_function_2(number):\n",
        "  return number"
      ],
      "metadata": {
        "id": "5kvkJJaiWJSA"
      },
      "execution_count": null,
      "outputs": []
    },
    {
      "cell_type": "code",
      "source": [
        "# 함수 호출\n"
      ],
      "metadata": {
        "id": "WdLmztyIsDsr"
      },
      "execution_count": null,
      "outputs": []
    },
    {
      "cell_type": "code",
      "source": [
        "# 변수에 할당\n"
      ],
      "metadata": {
        "id": "oc2XaMXbsVAH"
      },
      "execution_count": null,
      "outputs": []
    },
    {
      "cell_type": "code",
      "source": [
        "# 변수 출력\n"
      ],
      "metadata": {
        "id": "iPF4y13bsYUh"
      },
      "execution_count": null,
      "outputs": []
    },
    {
      "cell_type": "code",
      "source": [
        "# 교재 p117\n",
        "#print()만 있는 함수\n",
        "def print_n_dan(n):\n",
        "    n_dan = []\n",
        "    for i in range(1,10):\n",
        "        n_dan.append(n * i)\n",
        "    print(n_dan)"
      ],
      "metadata": {
        "id": "o2jc_CW0WJOv"
      },
      "execution_count": null,
      "outputs": []
    },
    {
      "cell_type": "code",
      "source": [
        "print_n_dan(3)"
      ],
      "metadata": {
        "id": "8roN_VQvsygi"
      },
      "execution_count": null,
      "outputs": []
    },
    {
      "cell_type": "code",
      "source": [
        "#return이 있는 함수\n",
        "def return_n_dan(n):\n",
        "    n_dan = []\n",
        "    for i in range(1,10):\n",
        "        n_dan.append(n * i)\n",
        "    return(n_dan)"
      ],
      "metadata": {
        "id": "ORNTLE8BWJLG"
      },
      "execution_count": null,
      "outputs": []
    },
    {
      "cell_type": "code",
      "source": [
        "return_n_dan(3)"
      ],
      "metadata": {
        "id": "Y2AHKH4zs5dC"
      },
      "execution_count": null,
      "outputs": []
    },
    {
      "cell_type": "markdown",
      "source": [
        "**연습 문제 1**\n",
        "* 교재 p118\n",
        "\n",
        "정수를 받아서, 짝수/홀수를 판별하는 함수 만들기.\n"
      ],
      "metadata": {
        "id": "NUZIqWbuGQ7X"
      }
    },
    {
      "cell_type": "code",
      "source": [],
      "metadata": {
        "id": "qU8sMDbddSsm"
      },
      "execution_count": null,
      "outputs": []
    },
    {
      "cell_type": "markdown",
      "source": [
        "**연습 문제 2**\n",
        "\n",
        "정수 a,b를 받아서 a는 b의 배수인지 판별하는 함수 만들기.\n",
        "\n"
      ],
      "metadata": {
        "id": "wmnoKNf_HbeO"
      }
    },
    {
      "cell_type": "code",
      "source": [
        "# 반환값이 없는 함수\n"
      ],
      "metadata": {
        "id": "8KkuL10RHnm6"
      },
      "execution_count": null,
      "outputs": []
    },
    {
      "cell_type": "code",
      "source": [
        "# 반환값이 있는 함수\n"
      ],
      "metadata": {
        "id": "MfoPE3BHaZut"
      },
      "execution_count": null,
      "outputs": []
    },
    {
      "cell_type": "markdown",
      "source": [
        "##**람다(lambda) 표현식**\n",
        "\n",
        "- lambda 키워드를 사용하여 함수를 한 줄로 정의할 수 있다.\n",
        "\n",
        "```\n",
        "### def를 사용한 함수 정의\n",
        "def f(x):\n",
        "    return x+5\n",
        "\n",
        "def 함수이름(입력값):\n",
        "    return 반환값\n",
        "\n",
        "### 람다 표현식\n",
        "f = lambda x : x + 5\n",
        "\n",
        "함수이름 = lambda 입력값 : 반환값\n",
        "\n",
        "```\n",
        "\n",
        "- 더 알아보기 : https://docs.python.org/3/tutorial/controlflow.html#lambda-expressions\n",
        "\n",
        "\n"
      ],
      "metadata": {
        "id": "gSAE4P9arNZc"
      }
    },
    {
      "cell_type": "code",
      "source": [
        "# 교재 p119\n",
        "f = lambda x: x + 5\n",
        "f(3)"
      ],
      "metadata": {
        "id": "y1bu5xuoWI5-"
      },
      "execution_count": null,
      "outputs": []
    },
    {
      "cell_type": "code",
      "source": [
        "# 변수에 할당\n"
      ],
      "metadata": {
        "id": "aEUgtwmOxyAn"
      },
      "execution_count": null,
      "outputs": []
    },
    {
      "cell_type": "code",
      "source": [
        "# 변수 출력\n"
      ],
      "metadata": {
        "id": "1XwNI6N6x1gq"
      },
      "execution_count": null,
      "outputs": []
    },
    {
      "cell_type": "code",
      "source": [
        "# 표현식 자체를 호출\n",
        "print((lambda x: x + 5)(3))"
      ],
      "metadata": {
        "id": "k1Rim2ZDWIvB"
      },
      "execution_count": null,
      "outputs": []
    },
    {
      "cell_type": "code",
      "source": [
        "# 교재 p119\n",
        "# 다음 함수를 람다 표현식으로 작성해보기.\n",
        "def add(a, b):\n",
        "    return a+b"
      ],
      "metadata": {
        "id": "xtrageGGWIku"
      },
      "execution_count": null,
      "outputs": []
    },
    {
      "cell_type": "code",
      "source": [
        "# 람다 표현식\n"
      ],
      "metadata": {
        "id": "2R-5synByDyf"
      },
      "execution_count": null,
      "outputs": []
    },
    {
      "cell_type": "markdown",
      "source": [
        "##**내장 함수 map()**\n",
        "\n",
        "- 반복 가능한 객체(iterable)의 모든 각각의 요소에 함수를 적용한 결과를 반환한다.\n",
        "\n",
        "\n",
        "\n",
        "```\n",
        "### map\n",
        "map(function, iterable)\n",
        "map(적용할 함수, 리스트.튜플.딕셔너리.....)\n",
        "```\n",
        "\n",
        "\n",
        "- 더 알아보기 : https://docs.python.org/3/library/functions.html#map\n"
      ],
      "metadata": {
        "id": "xj8fKBEtNSvN"
      }
    },
    {
      "cell_type": "code",
      "source": [
        "# 문자열로 바꾸는 함수\n",
        "str(3)"
      ],
      "metadata": {
        "id": "9wC3voRSzOCO"
      },
      "execution_count": null,
      "outputs": []
    },
    {
      "cell_type": "code",
      "source": [
        "# 교재 p120\n",
        "# 리스트 안 정수를 모두 문자열로 바꾸기\n",
        "a = [1,2,3,4,5]\n",
        "map_a = map(str, a)"
      ],
      "metadata": {
        "id": "u9xogiH6WIVi"
      },
      "execution_count": null,
      "outputs": []
    },
    {
      "cell_type": "code",
      "source": [
        "# map함수는 map객체를 반환\n",
        "print(map_a)"
      ],
      "metadata": {
        "id": "RlBSNvROOfR6"
      },
      "execution_count": null,
      "outputs": []
    },
    {
      "cell_type": "code",
      "source": [
        "# 반환된 값 자료형 확인\n"
      ],
      "metadata": {
        "id": "R4DeYKQ_zUid"
      },
      "execution_count": null,
      "outputs": []
    },
    {
      "cell_type": "code",
      "source": [
        "# 반환된 값의 자료형을 리스트로 바꾸기\n"
      ],
      "metadata": {
        "id": "tZ-Y_I2LsEaC"
      },
      "execution_count": null,
      "outputs": []
    },
    {
      "cell_type": "markdown",
      "source": [
        "**연습 문제 3**\n",
        "\n",
        "* 교재 p120\n",
        "\n",
        "* 아래 리스트 안 모든 요소를 제곱하기.\n",
        "\n",
        "\n",
        "\n",
        "```\n",
        "a = [1,2,3,4,5]\n",
        "```\n",
        "\n"
      ],
      "metadata": {
        "id": "2nm1pitMjv8T"
      }
    },
    {
      "cell_type": "code",
      "source": [
        "a = [1,2,3,4,5]\n",
        "\n",
        "# for문 사용\n"
      ],
      "metadata": {
        "id": "xnNQIGKSsEP_"
      },
      "execution_count": null,
      "outputs": []
    },
    {
      "cell_type": "code",
      "source": [
        "# 제곱하는 함수 정의 - lambda 표현식 사용\n",
        "\n",
        "# map 활용해 리스트 안 요소에 함수 적용\n"
      ],
      "metadata": {
        "id": "aLqLZAJhlygt"
      },
      "execution_count": null,
      "outputs": []
    },
    {
      "cell_type": "code",
      "source": [
        "# 한 줄로 쓰기\n"
      ],
      "metadata": {
        "id": "w-alJ_ypkOHJ"
      },
      "execution_count": null,
      "outputs": []
    },
    {
      "cell_type": "markdown",
      "source": [
        "**연습 문제 4**\n",
        "\n",
        "* 교재 p121\n",
        "\n",
        "* 아래 두 리스트 안 요소들을 더하는데, 같은 인덱스에 있는 요소들끼리 더하기.\n",
        "\n",
        "```\n",
        "numbers1 = [1, 2, 3]\n",
        "numbers2 = [4, 5, 6]\n",
        "```\n",
        "\n"
      ],
      "metadata": {
        "id": "RHKqo0nPk36M"
      }
    },
    {
      "cell_type": "code",
      "source": [
        "numbers1 = [1, 2, 3]\n",
        "numbers2 = [4, 5, 6]"
      ],
      "metadata": {
        "id": "LjZ17myisGwL"
      },
      "execution_count": null,
      "outputs": []
    },
    {
      "cell_type": "code",
      "source": [
        "# 두 수의 합을 구하는 함수 정의 - def 키워드 사용\n"
      ],
      "metadata": {
        "id": "Usy2EAbesIz-"
      },
      "execution_count": null,
      "outputs": []
    },
    {
      "cell_type": "code",
      "source": [
        "# map을 활용해 리스트 안 요소 더하기\n"
      ],
      "metadata": {
        "id": "rHWC_Mnu1BY6"
      },
      "execution_count": null,
      "outputs": []
    },
    {
      "cell_type": "code",
      "source": [
        "# 두 수의 합을 구하는 함수 정의 - lambda 표현식 사용\n",
        "\n",
        "# map을 활용해 리스트 안 요소 더하기\n"
      ],
      "metadata": {
        "id": "Xsqb1E6WmrGp"
      },
      "execution_count": null,
      "outputs": []
    },
    {
      "cell_type": "markdown",
      "source": [
        "##**지역변수와 전역변수**\n",
        "\n",
        "* 변수가 선언된 위치에 따라 변수가 영향을 미치는 범위가 달라진다.\n",
        "\n",
        "* 지역변수(local variables) : 함수 안에서 생성되고 사용되는 변수\n",
        "\n",
        "* 전역변수(global variables) : 함수 밖에서 생성되어 프로그램 전체에서 사용되는 변수\n",
        "\n",
        "* 키워드 global을 사용하여 지역변수를 전역변수로 선언할 수 있다.\n",
        "\n",
        "```\n",
        "global 변수이름\n",
        "\n",
        "```"
      ],
      "metadata": {
        "id": "FbFPI6A9zL9Q"
      }
    },
    {
      "cell_type": "code",
      "source": [
        "# 교재 p122\n",
        "\n",
        "# 함수 안에서 변수를 선언(지역변수)\n",
        "def f():\n",
        "    s = \"I love New York!\"\n",
        "    print(s)\n",
        "f()"
      ],
      "metadata": {
        "id": "Hl8uh9a1sIkc"
      },
      "execution_count": null,
      "outputs": []
    },
    {
      "cell_type": "code",
      "source": [
        "# 실행하기 전 런타임 다시 시작하기.\n",
        "# 지역변수 s를 확인할 수 없음.\n",
        "%whos"
      ],
      "metadata": {
        "id": "cJXl_i8dApe7"
      },
      "execution_count": null,
      "outputs": []
    },
    {
      "cell_type": "code",
      "source": [
        "# 함수 밖에서 변수를 선언(전역변수)\n",
        "s = \"I love Paris!\"\n",
        "print(s)"
      ],
      "metadata": {
        "id": "Lw7D1-j4AoYc"
      },
      "execution_count": null,
      "outputs": []
    },
    {
      "cell_type": "code",
      "source": [
        "# 전역변수 s를 확인할 수 있음.\n",
        "%whos"
      ],
      "metadata": {
        "id": "d0SmgN3WAuRI"
      },
      "execution_count": null,
      "outputs": []
    },
    {
      "cell_type": "code",
      "source": [
        "# 함수 안에서 전역변수로 선언\n"
      ],
      "metadata": {
        "id": "tKKsVCWBmv1b"
      },
      "execution_count": null,
      "outputs": []
    },
    {
      "cell_type": "code",
      "source": [
        "# 함수 실행\n"
      ],
      "metadata": {
        "id": "FOO0yZpABDjy"
      },
      "execution_count": null,
      "outputs": []
    },
    {
      "cell_type": "code",
      "source": [
        "# 함수 안에서 전역변수로 선언한 s를 확인할 수 있음.\n",
        "%whos"
      ],
      "metadata": {
        "id": "hKr4fPhjA-aq"
      },
      "execution_count": null,
      "outputs": []
    },
    {
      "cell_type": "code",
      "source": [
        "# 교재 p122\n",
        "def augment(d):\n",
        "  x = d * 100 # x는 지역 변수\n",
        "augment(10)"
      ],
      "metadata": {
        "id": "IX9oVEHOsIWD"
      },
      "execution_count": null,
      "outputs": []
    },
    {
      "cell_type": "code",
      "source": [
        "%whos"
      ],
      "metadata": {
        "id": "iWlxTcmm2uX6"
      },
      "execution_count": null,
      "outputs": []
    },
    {
      "cell_type": "code",
      "source": [
        "# 지역변수는 함수 바깥에서 접근할 수 없음\n",
        "print(x)"
      ],
      "metadata": {
        "id": "HP3rFz_IBjLv"
      },
      "execution_count": null,
      "outputs": []
    },
    {
      "cell_type": "code",
      "source": [
        "# locals() : 함수 안에 있는 모든 지역변수 보기\n",
        "def augment(d):\n",
        "  x = d * 100\n",
        "  print(\"함수 안 지역변수 ==\", locals()) # 내장 함수 locals\n",
        "  return x"
      ],
      "metadata": {
        "id": "dRI-lmg2nWB2"
      },
      "execution_count": null,
      "outputs": []
    },
    {
      "cell_type": "code",
      "source": [
        "augment(10)"
      ],
      "metadata": {
        "id": "GEvAArK73BTt"
      },
      "execution_count": null,
      "outputs": []
    },
    {
      "cell_type": "code",
      "source": [
        "# 지역변수는 함수 바깥에서 접근할 수 없음\n",
        "print(d,x)"
      ],
      "metadata": {
        "id": "Q3l2QjfV3QCc"
      },
      "execution_count": null,
      "outputs": []
    },
    {
      "cell_type": "code",
      "source": [
        "# d와 x를 확인할 수 없음.\n",
        "%whos"
      ],
      "metadata": {
        "id": "-jd8ZyEyBrnb"
      },
      "execution_count": null,
      "outputs": []
    },
    {
      "cell_type": "code",
      "source": [
        "# 전역변수 x에 함수의 반환값 할당\n"
      ],
      "metadata": {
        "id": "DxXOXFtEBq49"
      },
      "execution_count": null,
      "outputs": []
    },
    {
      "cell_type": "code",
      "source": [
        "# x를 확인할 수 있음.\n",
        "%whos"
      ],
      "metadata": {
        "id": "8ZLzILKDB7JT"
      },
      "execution_count": null,
      "outputs": []
    }
  ]
}