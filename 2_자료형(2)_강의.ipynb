{
  "nbformat": 4,
  "nbformat_minor": 0,
  "metadata": {
    "colab": {
      "provenance": [],
      "authorship_tag": "ABX9TyPGwdMgqBfFXCxJS0peh7Rj",
      "include_colab_link": true
    },
    "kernelspec": {
      "name": "python3",
      "display_name": "Python 3"
    },
    "language_info": {
      "name": "python"
    }
  },
  "cells": [
    {
      "cell_type": "markdown",
      "metadata": {
        "id": "view-in-github",
        "colab_type": "text"
      },
      "source": [
        "<a href=\"https://colab.research.google.com/github/wedatalab-lecture/FirstPython/blob/main/2_%EC%9E%90%EB%A3%8C%ED%98%95(2)_%EA%B0%95%EC%9D%98.ipynb\" target=\"_parent\"><img src=\"https://colab.research.google.com/assets/colab-badge.svg\" alt=\"Open In Colab\"/></a>"
      ]
    },
    {
      "cell_type": "markdown",
      "source": [
        "#2.자료형 (2)\n",
        "\n",
        "- 자료형 개요\n",
        "- 연속자료형 다루기\n",
        "\n",
        "\n",
        "```\n",
        "교재 : \"비전공자를 위한 처음 만나는 파이썬\"(권건우 외 7명 저)\n",
        "\n",
        "p.62~68\n",
        "\n",
        "Ⅲ.자료형\n",
        "3.자료형 개요\n",
        "4.연속자료형 다루기\n",
        "```\n",
        "\n"
      ],
      "metadata": {
        "id": "NRXnQ8_230vF"
      }
    },
    {
      "cell_type": "markdown",
      "source": [
        "##**자료형 개요**\n",
        "\n",
        "- 파이썬의 내장된 자료형(built-in data types)"
      ],
      "metadata": {
        "id": "LufI7Rx5WVHS"
      }
    },
    {
      "cell_type": "code",
      "source": [
        "#p62\n",
        "x = 20\n",
        "print(type(x))"
      ],
      "metadata": {
        "id": "qSIZzmaZRaal",
        "colab": {
          "base_uri": "https://localhost:8080/"
        },
        "outputId": "80fcabd8-98a0-4adb-8d9f-60d1942f7d94"
      },
      "execution_count": null,
      "outputs": [
        {
          "output_type": "stream",
          "name": "stdout",
          "text": [
            "<class 'int'>\n"
          ]
        }
      ]
    },
    {
      "cell_type": "code",
      "source": [
        "#int\n",
        "x = 20\n",
        "\n",
        "#float\n",
        "x = -2.0\n",
        "\n",
        "#bool: 두 개의 논리값 True, False\n",
        "x = True\n",
        "\n",
        "#str: “”,‘’안에 문자, 숫자, 기호를 나열\n",
        "x = \"Hello, Python 2023!\"\n",
        "\n",
        "#list: [ ] 대괄호 안에 여러 가지 자료형 저장\n",
        "x = ['a', 2, '공']\n",
        "\n",
        "#tuple: ( ) 소괄호 안에 여러 가지 자료형 저장\n",
        "x = ('a', 2, '공')\n",
        "\n",
        "#dict: {Key1 : Value1,  Key2 : Value2, ...}\n",
        "x = {'a':10, 'b':20, 'c':'cap'}\n",
        "\n",
        "#set\n",
        "x = {'cat', 'dog', 'lion'}\n"
      ],
      "metadata": {
        "id": "o5mNMKEERaRC"
      },
      "execution_count": null,
      "outputs": []
    },
    {
      "cell_type": "markdown",
      "source": [
        "**컨테이너 객체(container)**\n",
        "\n",
        "- 자료형의 종류와 상관없이 담을 수 있는 객체"
      ],
      "metadata": {
        "id": "-vLllnGIf17g"
      }
    },
    {
      "cell_type": "markdown",
      "source": [
        "**시퀀스 자료형(sequence)**\n",
        "\n",
        "- 요소가 연속적으로 이어져있다.\n",
        "- 순서가 있다."
      ],
      "metadata": {
        "id": "x2ymZI0idkM8"
      }
    },
    {
      "cell_type": "code",
      "source": [
        "# 문자열, 리스트, 튜플\n",
        "name = \"박소민\"\n",
        "name[0]"
      ],
      "metadata": {
        "colab": {
          "base_uri": "https://localhost:8080/",
          "height": 35
        },
        "id": "BvKMwV1-dukQ",
        "outputId": "0179a382-179b-4a31-96b1-8d4bc11769f5"
      },
      "execution_count": null,
      "outputs": [
        {
          "output_type": "execute_result",
          "data": {
            "text/plain": [
              "'박'"
            ],
            "application/vnd.google.colaboratory.intrinsic+json": {
              "type": "string"
            }
          },
          "metadata": {},
          "execution_count": 3
        }
      ]
    },
    {
      "cell_type": "code",
      "source": [
        "li = [1,2,3,4,5]\n",
        "li[0]"
      ],
      "metadata": {
        "colab": {
          "base_uri": "https://localhost:8080/"
        },
        "id": "Yt0q5SIiCoVx",
        "outputId": "fc265a37-bb7e-4f52-852b-20366206bffe"
      },
      "execution_count": null,
      "outputs": [
        {
          "output_type": "execute_result",
          "data": {
            "text/plain": [
              "1"
            ]
          },
          "metadata": {},
          "execution_count": 5
        }
      ]
    },
    {
      "cell_type": "markdown",
      "source": [
        "**비시퀀스 자료형**\n",
        "\n",
        "- 순서가 없다."
      ],
      "metadata": {
        "id": "wG94paeKgR-g"
      }
    },
    {
      "cell_type": "code",
      "source": [
        "#p64\n",
        "set_1 = {1,2,3,4}\n",
        "print(4 in set_1)\n",
        "print(5 in set_1)"
      ],
      "metadata": {
        "id": "Ata7p6V5RZ5y",
        "colab": {
          "base_uri": "https://localhost:8080/"
        },
        "outputId": "f60b8cbe-4c80-4818-cd92-d3599a4b2061"
      },
      "execution_count": null,
      "outputs": [
        {
          "output_type": "stream",
          "name": "stdout",
          "text": [
            "True\n",
            "False\n"
          ]
        }
      ]
    },
    {
      "cell_type": "code",
      "source": [
        "# 딕셔너리, 집합\n",
        "dic = {'a':10, 'b':20, 'c':'cap'}\n",
        "dic[\"b\"]"
      ],
      "metadata": {
        "id": "9LIErj0yeE-Q",
        "colab": {
          "base_uri": "https://localhost:8080/"
        },
        "outputId": "8c985960-ca6e-40fe-c14f-b7e2aad2e480"
      },
      "execution_count": null,
      "outputs": [
        {
          "output_type": "execute_result",
          "data": {
            "text/plain": [
              "20"
            ]
          },
          "metadata": {},
          "execution_count": 8
        }
      ]
    },
    {
      "cell_type": "markdown",
      "source": [
        "**반복 가능한 객체(iterable)**\n",
        "\n",
        "- 값을 하나씩 차례대로 꺼낼 수 있는 객체.\n",
        "- 반복문 for, while과 함께 사용된다."
      ],
      "metadata": {
        "id": "v1-tLIV3gct6"
      }
    },
    {
      "cell_type": "code",
      "source": [
        "# 리스트, 튜플, 집합, 딕셔너리, 문자열\n",
        "li = \"abc\"\n",
        "print(type(li))\n",
        "for i in li:\n",
        "    print(i)"
      ],
      "metadata": {
        "id": "XZBQ-KatgcOo",
        "colab": {
          "base_uri": "https://localhost:8080/"
        },
        "outputId": "b7c64e28-5c0d-4623-92d4-07fcbf0bf460"
      },
      "execution_count": null,
      "outputs": [
        {
          "output_type": "stream",
          "name": "stdout",
          "text": [
            "<class 'str'>\n",
            "a\n",
            "b\n",
            "c\n"
          ]
        }
      ]
    },
    {
      "cell_type": "markdown",
      "source": [
        "**자료형 메서드(method)**\n",
        "\n",
        "- 자료형에 소속된 함수"
      ],
      "metadata": {
        "id": "d21E9PaIhGzh"
      }
    },
    {
      "cell_type": "code",
      "source": [
        "s = \"abc\""
      ],
      "metadata": {
        "id": "c9iDa4auhSW2"
      },
      "execution_count": null,
      "outputs": []
    },
    {
      "cell_type": "code",
      "source": [
        "li = [1,2,3]\n",
        "li."
      ],
      "metadata": {
        "id": "t7Rh7ckjEpXO"
      },
      "execution_count": null,
      "outputs": []
    },
    {
      "cell_type": "markdown",
      "source": [
        "**자료형 더 알아보기**\n",
        "\n",
        "아래 파이썬 공식문서 참고.\n",
        "\n",
        "https://docs.python.org/3/library/stdtypes.html\n"
      ],
      "metadata": {
        "id": "pOfnkMdwhXUj"
      }
    },
    {
      "cell_type": "markdown",
      "source": [
        "##**연속자료형 다루기**\n",
        "\n",
        "- 인덱싱과 슬라이싱(indexing, slicing)"
      ],
      "metadata": {
        "id": "FygS9GBjXOHc"
      }
    },
    {
      "cell_type": "code",
      "source": [
        "#p66\n",
        "a = \"Hello, World!\"\n",
        "a[1]\n",
        "a[7]\n",
        "a[-2]"
      ],
      "metadata": {
        "id": "iJr_uMD4W6tE",
        "colab": {
          "base_uri": "https://localhost:8080/",
          "height": 35
        },
        "outputId": "c33b9b61-551c-47cd-e97d-f4087976dce5"
      },
      "execution_count": null,
      "outputs": [
        {
          "output_type": "execute_result",
          "data": {
            "text/plain": [
              "'d'"
            ],
            "application/vnd.google.colaboratory.intrinsic+json": {
              "type": "string"
            }
          },
          "metadata": {},
          "execution_count": 19
        }
      ]
    },
    {
      "cell_type": "code",
      "source": [
        "a[3]"
      ],
      "metadata": {
        "colab": {
          "base_uri": "https://localhost:8080/",
          "height": 35
        },
        "id": "7okvy1Q6GE8G",
        "outputId": "7daa1ee7-bedc-4cca-be84-8eaab5b9d94a"
      },
      "execution_count": null,
      "outputs": [
        {
          "output_type": "execute_result",
          "data": {
            "text/plain": [
              "'l'"
            ],
            "application/vnd.google.colaboratory.intrinsic+json": {
              "type": "string"
            }
          },
          "metadata": {},
          "execution_count": 22
        }
      ]
    },
    {
      "cell_type": "code",
      "source": [
        "# 양수 index\n"
      ],
      "metadata": {
        "id": "71ny5dXSie2o"
      },
      "execution_count": null,
      "outputs": []
    },
    {
      "cell_type": "code",
      "source": [
        "# 음수 index\n",
        "a[-1]"
      ],
      "metadata": {
        "id": "x23Pnvxeihee",
        "colab": {
          "base_uri": "https://localhost:8080/",
          "height": 35
        },
        "outputId": "8bfe967a-bd9a-4654-83a2-1535982d5e08"
      },
      "execution_count": null,
      "outputs": [
        {
          "output_type": "execute_result",
          "data": {
            "text/plain": [
              "'!'"
            ],
            "application/vnd.google.colaboratory.intrinsic+json": {
              "type": "string"
            }
          },
          "metadata": {},
          "execution_count": 23
        }
      ]
    },
    {
      "cell_type": "code",
      "source": [
        "#p67\n",
        "a = \"Hello, World!\"\n",
        "a[1:3]\n",
        "a[:5]\n",
        "a[5:]\n",
        "a[:]"
      ],
      "metadata": {
        "id": "s4oOf-eNW6ja",
        "colab": {
          "base_uri": "https://localhost:8080/",
          "height": 35
        },
        "outputId": "cd2e46f0-f886-4efc-da28-0f04d8ed7b49"
      },
      "execution_count": null,
      "outputs": [
        {
          "output_type": "execute_result",
          "data": {
            "text/plain": [
              "'Hello, World!'"
            ],
            "application/vnd.google.colaboratory.intrinsic+json": {
              "type": "string"
            }
          },
          "metadata": {},
          "execution_count": 24
        }
      ]
    },
    {
      "cell_type": "code",
      "source": [
        "# 슬라이싱 : [start:end:step]\n",
        "a[0:3]"
      ],
      "metadata": {
        "id": "uTQQPJjIiomc",
        "colab": {
          "base_uri": "https://localhost:8080/",
          "height": 35
        },
        "outputId": "b3f6e228-f0c8-43b2-aefd-f93c3c8ab389"
      },
      "execution_count": null,
      "outputs": [
        {
          "output_type": "execute_result",
          "data": {
            "text/plain": [
              "'Hel'"
            ],
            "application/vnd.google.colaboratory.intrinsic+json": {
              "type": "string"
            }
          },
          "metadata": {},
          "execution_count": 27
        }
      ]
    },
    {
      "cell_type": "code",
      "source": [
        "# 아래 리스트에서 홀수만 가져오려면?\n",
        "a = [1,2,3,4,5,6]\n",
        "a[::2]"
      ],
      "metadata": {
        "id": "_XOGmSXmW6aC",
        "colab": {
          "base_uri": "https://localhost:8080/"
        },
        "outputId": "c7a0d0cf-17d3-427e-f3a4-6f89314d09aa"
      },
      "execution_count": null,
      "outputs": [
        {
          "output_type": "execute_result",
          "data": {
            "text/plain": [
              "[1, 3, 5]"
            ]
          },
          "metadata": {},
          "execution_count": 32
        }
      ]
    },
    {
      "cell_type": "code",
      "source": [
        "# 아래 리스트에서 짝수만 가져오려면?\n",
        "a = [1,2,3,4,5,6]\n",
        "a[1::2]"
      ],
      "metadata": {
        "id": "JpEFwmFgW6Nc",
        "colab": {
          "base_uri": "https://localhost:8080/"
        },
        "outputId": "a1da8f8b-1050-435e-b1a4-80bd8749ca67"
      },
      "execution_count": null,
      "outputs": [
        {
          "output_type": "execute_result",
          "data": {
            "text/plain": [
              "[2, 4, 6]"
            ]
          },
          "metadata": {},
          "execution_count": 33
        }
      ]
    },
    {
      "cell_type": "markdown",
      "source": [
        "**연속자료형의 다양한 활용**\n",
        "\n",
        "- 연산자 in, not in\n",
        "\n",
        "- 내장함수 len, min, max\n",
        "\n",
        "\n"
      ],
      "metadata": {
        "id": "yMwr_Rwt5Op4"
      }
    },
    {
      "cell_type": "code",
      "source": [
        "#p68\n",
        "\n",
        "li = [1,2,3,4,5]\n",
        "li_2 = [6,7,8,9,10]\n",
        "x = 3\n"
      ],
      "metadata": {
        "id": "zbtyWS9OW6A8"
      },
      "execution_count": null,
      "outputs": []
    },
    {
      "cell_type": "code",
      "source": [
        "5 in li  # 리스트 안에 해당요소가 있는지"
      ],
      "metadata": {
        "id": "kJavlj9a-5Rj",
        "colab": {
          "base_uri": "https://localhost:8080/"
        },
        "outputId": "d69d9c18-20aa-4ea9-926b-ea9b9b8c53bd"
      },
      "execution_count": null,
      "outputs": [
        {
          "output_type": "execute_result",
          "data": {
            "text/plain": [
              "True"
            ]
          },
          "metadata": {},
          "execution_count": 35
        }
      ]
    },
    {
      "cell_type": "code",
      "source": [
        "5 not in li"
      ],
      "metadata": {
        "id": "EV1zhOdZ-5Ks",
        "colab": {
          "base_uri": "https://localhost:8080/"
        },
        "outputId": "65ab5f8a-11f3-4f07-a071-ec1675a758c7"
      },
      "execution_count": null,
      "outputs": [
        {
          "output_type": "execute_result",
          "data": {
            "text/plain": [
              "False"
            ]
          },
          "metadata": {},
          "execution_count": 36
        }
      ]
    },
    {
      "cell_type": "code",
      "source": [
        "li + li_2   # 리스트 합치기 연산"
      ],
      "metadata": {
        "id": "xCmu2C04_TSK",
        "colab": {
          "base_uri": "https://localhost:8080/"
        },
        "outputId": "0c8d370d-99b6-4686-f4d9-db241cce38b8"
      },
      "execution_count": null,
      "outputs": [
        {
          "output_type": "execute_result",
          "data": {
            "text/plain": [
              "[1, 2, 3, 4, 5, 6, 7, 8, 9, 10]"
            ]
          },
          "metadata": {},
          "execution_count": 37
        }
      ]
    },
    {
      "cell_type": "code",
      "source": [
        "li * x    # 리스트 해당 수만큼 반복"
      ],
      "metadata": {
        "id": "mkv96G_F_TFg",
        "colab": {
          "base_uri": "https://localhost:8080/"
        },
        "outputId": "90ff35a8-8bb3-43f2-a153-f65937cbb344"
      },
      "execution_count": null,
      "outputs": [
        {
          "output_type": "execute_result",
          "data": {
            "text/plain": [
              "[1, 2, 3, 4, 5, 1, 2, 3, 4, 5, 1, 2, 3, 4, 5]"
            ]
          },
          "metadata": {},
          "execution_count": 38
        }
      ]
    },
    {
      "cell_type": "code",
      "source": [
        "len(li)  # 길이"
      ],
      "metadata": {
        "id": "52o5cY5D_ezY",
        "colab": {
          "base_uri": "https://localhost:8080/"
        },
        "outputId": "740319e3-af45-4ac8-e37c-58b531b99784"
      },
      "execution_count": null,
      "outputs": [
        {
          "output_type": "execute_result",
          "data": {
            "text/plain": [
              "5"
            ]
          },
          "metadata": {},
          "execution_count": 39
        }
      ]
    },
    {
      "cell_type": "code",
      "source": [
        "min(li)   # 가장 작은 값"
      ],
      "metadata": {
        "id": "ksiNEy94_ek_",
        "colab": {
          "base_uri": "https://localhost:8080/"
        },
        "outputId": "4a221ccd-03c4-4a42-88d7-3b9bc5ada52a"
      },
      "execution_count": null,
      "outputs": [
        {
          "output_type": "execute_result",
          "data": {
            "text/plain": [
              "1"
            ]
          },
          "metadata": {},
          "execution_count": 40
        }
      ]
    },
    {
      "cell_type": "code",
      "source": [
        "max(li)   # 가장 큰 값"
      ],
      "metadata": {
        "id": "73em7reH_q3u",
        "colab": {
          "base_uri": "https://localhost:8080/"
        },
        "outputId": "05fe8306-1884-48ef-fe22-6e8b4af5ba39"
      },
      "execution_count": null,
      "outputs": [
        {
          "output_type": "execute_result",
          "data": {
            "text/plain": [
              "5"
            ]
          },
          "metadata": {},
          "execution_count": 43
        }
      ]
    },
    {
      "cell_type": "code",
      "source": [
        "li.count(x)  # 개수"
      ],
      "metadata": {
        "id": "7W_lwxrA_quV",
        "colab": {
          "base_uri": "https://localhost:8080/"
        },
        "outputId": "1d51d5ee-e07a-465c-d817-9ddb9f4f08be"
      },
      "execution_count": null,
      "outputs": [
        {
          "output_type": "execute_result",
          "data": {
            "text/plain": [
              "1"
            ]
          },
          "metadata": {},
          "execution_count": 42
        }
      ]
    },
    {
      "cell_type": "code",
      "source": [
        "li.index(x)   # 위치"
      ],
      "metadata": {
        "id": "qPb88mO__qiM",
        "colab": {
          "base_uri": "https://localhost:8080/"
        },
        "outputId": "a75b1084-a264-49bb-ff55-eb591d136f4c"
      },
      "execution_count": null,
      "outputs": [
        {
          "output_type": "execute_result",
          "data": {
            "text/plain": [
              "2"
            ]
          },
          "metadata": {},
          "execution_count": 44
        }
      ]
    },
    {
      "cell_type": "code",
      "source": [
        "print(li)"
      ],
      "metadata": {
        "colab": {
          "base_uri": "https://localhost:8080/"
        },
        "id": "tyYfdEu_JRbb",
        "outputId": "d629ec1b-615e-4afd-eef6-e78b1ec9e040"
      },
      "execution_count": null,
      "outputs": [
        {
          "output_type": "stream",
          "name": "stdout",
          "text": [
            "[1, 2, 3, 4, 5]\n"
          ]
        }
      ]
    },
    {
      "cell_type": "code",
      "source": [
        "i = 1\n",
        "li[i]  #인덱싱"
      ],
      "metadata": {
        "id": "Rbp5uQ0__qDi",
        "colab": {
          "base_uri": "https://localhost:8080/"
        },
        "outputId": "9f22bc83-4c4a-4b96-ccd1-1ad19b3b4f87"
      },
      "execution_count": null,
      "outputs": [
        {
          "output_type": "execute_result",
          "data": {
            "text/plain": [
              "2"
            ]
          },
          "metadata": {},
          "execution_count": 46
        }
      ]
    },
    {
      "cell_type": "code",
      "source": [
        "j = 5\n",
        "li[i:j]  #슬라이싱"
      ],
      "metadata": {
        "id": "wvWlSh1c_p14",
        "colab": {
          "base_uri": "https://localhost:8080/"
        },
        "outputId": "8e933cb5-9d5f-478e-c78b-122402ac30d9"
      },
      "execution_count": null,
      "outputs": [
        {
          "output_type": "execute_result",
          "data": {
            "text/plain": [
              "[2, 3, 4, 5]"
            ]
          },
          "metadata": {},
          "execution_count": 47
        }
      ]
    },
    {
      "cell_type": "code",
      "source": [
        "k = 3\n",
        "li[i:j:k]  #슬라이싱"
      ],
      "metadata": {
        "id": "Dl4PFsIZ-5Du",
        "colab": {
          "base_uri": "https://localhost:8080/"
        },
        "outputId": "73fa10fa-5d17-4fa5-c616-c1348f7aceeb"
      },
      "execution_count": null,
      "outputs": [
        {
          "output_type": "execute_result",
          "data": {
            "text/plain": [
              "[2, 5]"
            ]
          },
          "metadata": {},
          "execution_count": 48
        }
      ]
    }
  ]
}